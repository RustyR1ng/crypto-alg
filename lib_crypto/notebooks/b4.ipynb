{
 "cells": [
  {
   "cell_type": "code",
   "execution_count": 1,
   "metadata": {},
   "outputs": [],
   "source": [
    "from sys import path\n",
    "path.append(\"../../\")"
   ]
  },
  {
   "cell_type": "code",
   "execution_count": 2,
   "metadata": {},
   "outputs": [
    {
     "data": {
      "text/html": [
       "<pre style=\"white-space:pre;overflow-x:auto;line-height:normal;font-family:Menlo,'DejaVu Sans Mono',consolas,'Courier New',monospace\"><span style=\"color: #000000; text-decoration-color: #000000; background-color: #ffffff; font-weight: bold\"> Тест на пословице и тексте </span>\n",
       "</pre>\n"
      ],
      "text/plain": [
       "\u001b[1;30;107m Тест на пословице и тексте \u001b[0m\n"
      ]
     },
     "metadata": {},
     "output_type": "display_data"
    },
    {
     "data": {
      "text/html": [
       "<pre style=\"white-space:pre;overflow-x:auto;line-height:normal;font-family:Menlo,'DejaVu Sans Mono',consolas,'Courier New',monospace\"><span style=\"font-weight: bold\">{</span>\n",
       "    <span style=\"color: #008000; text-decoration-color: #008000\">'alph'</span>: <span style=\"color: #008000; text-decoration-color: #008000\">'абвгдеёжзийклмнопрстуфхцчшщъыьэюя'</span>,\n",
       "    <span style=\"color: #008000; text-decoration-color: #008000\">'template_grid'</span>: <span style=\"font-weight: bold\">[</span>\n",
       "        <span style=\"font-weight: bold\">[</span><span style=\"color: #008080; text-decoration-color: #008080; font-weight: bold\">0</span>, <span style=\"color: #008080; text-decoration-color: #008080; font-weight: bold\">1</span>, <span style=\"color: #008080; text-decoration-color: #008080; font-weight: bold\">0</span>, <span style=\"color: #008080; text-decoration-color: #008080; font-weight: bold\">0</span>, <span style=\"color: #008080; text-decoration-color: #008080; font-weight: bold\">0</span>, <span style=\"color: #008080; text-decoration-color: #008080; font-weight: bold\">0</span>, <span style=\"color: #008080; text-decoration-color: #008080; font-weight: bold\">0</span>, <span style=\"color: #008080; text-decoration-color: #008080; font-weight: bold\">0</span>, <span style=\"color: #008080; text-decoration-color: #008080; font-weight: bold\">0</span>, <span style=\"color: #008080; text-decoration-color: #008080; font-weight: bold\">0</span><span style=\"font-weight: bold\">]</span>,\n",
       "        <span style=\"font-weight: bold\">[</span><span style=\"color: #008080; text-decoration-color: #008080; font-weight: bold\">1</span>, <span style=\"color: #008080; text-decoration-color: #008080; font-weight: bold\">0</span>, <span style=\"color: #008080; text-decoration-color: #008080; font-weight: bold\">0</span>, <span style=\"color: #008080; text-decoration-color: #008080; font-weight: bold\">0</span>, <span style=\"color: #008080; text-decoration-color: #008080; font-weight: bold\">1</span>, <span style=\"color: #008080; text-decoration-color: #008080; font-weight: bold\">0</span>, <span style=\"color: #008080; text-decoration-color: #008080; font-weight: bold\">1</span>, <span style=\"color: #008080; text-decoration-color: #008080; font-weight: bold\">1</span>, <span style=\"color: #008080; text-decoration-color: #008080; font-weight: bold\">0</span>, <span style=\"color: #008080; text-decoration-color: #008080; font-weight: bold\">0</span><span style=\"font-weight: bold\">]</span>,\n",
       "        <span style=\"font-weight: bold\">[</span><span style=\"color: #008080; text-decoration-color: #008080; font-weight: bold\">0</span>, <span style=\"color: #008080; text-decoration-color: #008080; font-weight: bold\">1</span>, <span style=\"color: #008080; text-decoration-color: #008080; font-weight: bold\">0</span>, <span style=\"color: #008080; text-decoration-color: #008080; font-weight: bold\">0</span>, <span style=\"color: #008080; text-decoration-color: #008080; font-weight: bold\">0</span>, <span style=\"color: #008080; text-decoration-color: #008080; font-weight: bold\">1</span>, <span style=\"color: #008080; text-decoration-color: #008080; font-weight: bold\">0</span>, <span style=\"color: #008080; text-decoration-color: #008080; font-weight: bold\">0</span>, <span style=\"color: #008080; text-decoration-color: #008080; font-weight: bold\">0</span>, <span style=\"color: #008080; text-decoration-color: #008080; font-weight: bold\">1</span><span style=\"font-weight: bold\">]</span>,\n",
       "        <span style=\"font-weight: bold\">[</span><span style=\"color: #008080; text-decoration-color: #008080; font-weight: bold\">0</span>, <span style=\"color: #008080; text-decoration-color: #008080; font-weight: bold\">0</span>, <span style=\"color: #008080; text-decoration-color: #008080; font-weight: bold\">0</span>, <span style=\"color: #008080; text-decoration-color: #008080; font-weight: bold\">1</span>, <span style=\"color: #008080; text-decoration-color: #008080; font-weight: bold\">0</span>, <span style=\"color: #008080; text-decoration-color: #008080; font-weight: bold\">0</span>, <span style=\"color: #008080; text-decoration-color: #008080; font-weight: bold\">0</span>, <span style=\"color: #008080; text-decoration-color: #008080; font-weight: bold\">1</span>, <span style=\"color: #008080; text-decoration-color: #008080; font-weight: bold\">0</span>, <span style=\"color: #008080; text-decoration-color: #008080; font-weight: bold\">0</span><span style=\"font-weight: bold\">]</span>,\n",
       "        <span style=\"font-weight: bold\">[</span><span style=\"color: #008080; text-decoration-color: #008080; font-weight: bold\">0</span>, <span style=\"color: #008080; text-decoration-color: #008080; font-weight: bold\">1</span>, <span style=\"color: #008080; text-decoration-color: #008080; font-weight: bold\">0</span>, <span style=\"color: #008080; text-decoration-color: #008080; font-weight: bold\">0</span>, <span style=\"color: #008080; text-decoration-color: #008080; font-weight: bold\">0</span>, <span style=\"color: #008080; text-decoration-color: #008080; font-weight: bold\">0</span>, <span style=\"color: #008080; text-decoration-color: #008080; font-weight: bold\">0</span>, <span style=\"color: #008080; text-decoration-color: #008080; font-weight: bold\">0</span>, <span style=\"color: #008080; text-decoration-color: #008080; font-weight: bold\">0</span>, <span style=\"color: #008080; text-decoration-color: #008080; font-weight: bold\">0</span><span style=\"font-weight: bold\">]</span>,\n",
       "        <span style=\"font-weight: bold\">[</span><span style=\"color: #008080; text-decoration-color: #008080; font-weight: bold\">0</span>, <span style=\"color: #008080; text-decoration-color: #008080; font-weight: bold\">0</span>, <span style=\"color: #008080; text-decoration-color: #008080; font-weight: bold\">1</span>, <span style=\"color: #008080; text-decoration-color: #008080; font-weight: bold\">0</span>, <span style=\"color: #008080; text-decoration-color: #008080; font-weight: bold\">0</span>, <span style=\"color: #008080; text-decoration-color: #008080; font-weight: bold\">1</span>, <span style=\"color: #008080; text-decoration-color: #008080; font-weight: bold\">1</span>, <span style=\"color: #008080; text-decoration-color: #008080; font-weight: bold\">0</span>, <span style=\"color: #008080; text-decoration-color: #008080; font-weight: bold\">0</span>, <span style=\"color: #008080; text-decoration-color: #008080; font-weight: bold\">1</span><span style=\"font-weight: bold\">]</span>\n",
       "    <span style=\"font-weight: bold\">]</span>\n",
       "<span style=\"font-weight: bold\">}</span>\n",
       "</pre>\n"
      ],
      "text/plain": [
       "\u001b[1m{\u001b[0m\n",
       "    \u001b[32m'alph'\u001b[0m: \u001b[32m'абвгдеёжзийклмнопрстуфхцчшщъыьэюя'\u001b[0m,\n",
       "    \u001b[32m'template_grid'\u001b[0m: \u001b[1m[\u001b[0m\n",
       "        \u001b[1m[\u001b[0m\u001b[1;36m0\u001b[0m, \u001b[1;36m1\u001b[0m, \u001b[1;36m0\u001b[0m, \u001b[1;36m0\u001b[0m, \u001b[1;36m0\u001b[0m, \u001b[1;36m0\u001b[0m, \u001b[1;36m0\u001b[0m, \u001b[1;36m0\u001b[0m, \u001b[1;36m0\u001b[0m, \u001b[1;36m0\u001b[0m\u001b[1m]\u001b[0m,\n",
       "        \u001b[1m[\u001b[0m\u001b[1;36m1\u001b[0m, \u001b[1;36m0\u001b[0m, \u001b[1;36m0\u001b[0m, \u001b[1;36m0\u001b[0m, \u001b[1;36m1\u001b[0m, \u001b[1;36m0\u001b[0m, \u001b[1;36m1\u001b[0m, \u001b[1;36m1\u001b[0m, \u001b[1;36m0\u001b[0m, \u001b[1;36m0\u001b[0m\u001b[1m]\u001b[0m,\n",
       "        \u001b[1m[\u001b[0m\u001b[1;36m0\u001b[0m, \u001b[1;36m1\u001b[0m, \u001b[1;36m0\u001b[0m, \u001b[1;36m0\u001b[0m, \u001b[1;36m0\u001b[0m, \u001b[1;36m1\u001b[0m, \u001b[1;36m0\u001b[0m, \u001b[1;36m0\u001b[0m, \u001b[1;36m0\u001b[0m, \u001b[1;36m1\u001b[0m\u001b[1m]\u001b[0m,\n",
       "        \u001b[1m[\u001b[0m\u001b[1;36m0\u001b[0m, \u001b[1;36m0\u001b[0m, \u001b[1;36m0\u001b[0m, \u001b[1;36m1\u001b[0m, \u001b[1;36m0\u001b[0m, \u001b[1;36m0\u001b[0m, \u001b[1;36m0\u001b[0m, \u001b[1;36m1\u001b[0m, \u001b[1;36m0\u001b[0m, \u001b[1;36m0\u001b[0m\u001b[1m]\u001b[0m,\n",
       "        \u001b[1m[\u001b[0m\u001b[1;36m0\u001b[0m, \u001b[1;36m1\u001b[0m, \u001b[1;36m0\u001b[0m, \u001b[1;36m0\u001b[0m, \u001b[1;36m0\u001b[0m, \u001b[1;36m0\u001b[0m, \u001b[1;36m0\u001b[0m, \u001b[1;36m0\u001b[0m, \u001b[1;36m0\u001b[0m, \u001b[1;36m0\u001b[0m\u001b[1m]\u001b[0m,\n",
       "        \u001b[1m[\u001b[0m\u001b[1;36m0\u001b[0m, \u001b[1;36m0\u001b[0m, \u001b[1;36m1\u001b[0m, \u001b[1;36m0\u001b[0m, \u001b[1;36m0\u001b[0m, \u001b[1;36m1\u001b[0m, \u001b[1;36m1\u001b[0m, \u001b[1;36m0\u001b[0m, \u001b[1;36m0\u001b[0m, \u001b[1;36m1\u001b[0m\u001b[1m]\u001b[0m\n",
       "    \u001b[1m]\u001b[0m\n",
       "\u001b[1m}\u001b[0m\n"
      ]
     },
     "metadata": {},
     "output_type": "display_data"
    },
    {
     "data": {
      "text/html": [
       "<pre style=\"white-space:pre;overflow-x:auto;line-height:normal;font-family:Menlo,'DejaVu Sans Mono',consolas,'Courier New',monospace\"><span style=\"color: #008080; text-decoration-color: #008080; font-weight: bold\"> Шифровка пословицы :</span> стнтьпряди омахттзпйа нтциькарет зимопттхть содоялскчж кучааетаее \n",
       "</pre>\n"
      ],
      "text/plain": [
       "\u001b[1;36m Шифровка пословицы :\u001b[0m стнтьпряди омахттзпйа нтциькарет зимопттхть содоялскчж кучааетаее \n"
      ]
     },
     "metadata": {},
     "output_type": "display_data"
    },
    {
     "data": {
      "text/html": [
       "<pre style=\"white-space:pre;overflow-x:auto;line-height:normal;font-family:Menlo,'DejaVu Sans Mono',consolas,'Courier New',monospace\"><span style=\"color: #008080; text-decoration-color: #008080; font-weight: bold\"> Расшифровка пословицы :</span> тотзптктохочетестьяйцазптдолженпримиритьсяскудахтаньемтчкааа \n",
       "</pre>\n"
      ],
      "text/plain": [
       "\u001b[1;36m Расшифровка пословицы :\u001b[0m тотзптктохочетестьяйцазптдолженпримиритьсяскудахтаньемтчкааа \n"
      ]
     },
     "metadata": {},
     "output_type": "display_data"
    },
    {
     "data": {
      "text/html": [
       "<pre style=\"white-space:pre;overflow-x:auto;line-height:normal;font-family:Menlo,'DejaVu Sans Mono',consolas,'Courier New',monospace\"><span style=\"color: #008080; text-decoration-color: #008080; font-weight: bold\"> Шифровка </span><span style=\"color: #008080; text-decoration-color: #008080; font-weight: bold\">1000</span><span style=\"color: #008080; text-decoration-color: #008080; font-weight: bold\"> :</span> осалокогтг оооввыреиб рмиуаедрнн ооннсвыытн яеигзлптйи нчтамехитн \n",
       "</pre>\n"
      ],
      "text/plain": [
       "\u001b[1;36m Шифровка \u001b[0m\u001b[1;36m1000\u001b[0m\u001b[1;36m :\u001b[0m осалокогтг оооввыреиб рмиуаедрнн ооннсвыытн яеигзлптйи нчтамехитн \n"
      ]
     },
     "metadata": {},
     "output_type": "display_data"
    },
    {
     "data": {
      "text/html": [
       "<pre style=\"white-space:pre;overflow-x:auto;line-height:normal;font-family:Menlo,'DejaVu Sans Mono',consolas,'Courier New',monospace\"><span style=\"color: #008080; text-decoration-color: #008080; font-weight: bold\"> Расшифровка </span><span style=\"color: #008080; text-decoration-color: #008080; font-weight: bold\">1000</span><span style=\"color: #008080; text-decoration-color: #008080; font-weight: bold\"> :</span> современныетехнологиидостиглитакогоуровнязптчтовыбранныйнами \n",
       "</pre>\n"
      ],
      "text/plain": [
       "\u001b[1;36m Расшифровка \u001b[0m\u001b[1;36m1000\u001b[0m\u001b[1;36m :\u001b[0m современныетехнологиидостиглитакогоуровнязптчтовыбранныйнами \n"
      ]
     },
     "metadata": {},
     "output_type": "display_data"
    }
   ],
   "source": [
    "from lib_crypto.b4.Kardano import main\n",
    "main()"
   ]
  },
  {
   "cell_type": "code",
   "execution_count": 3,
   "metadata": {},
   "outputs": [
    {
     "data": {
      "text/html": [
       "<pre style=\"white-space:pre;overflow-x:auto;line-height:normal;font-family:Menlo,'DejaVu Sans Mono',consolas,'Courier New',monospace\"><span style=\"color: #000000; text-decoration-color: #000000; background-color: #ffffff; font-weight: bold\"> Тест на пословице и тексте </span>\n",
       "</pre>\n"
      ],
      "text/plain": [
       "\u001b[1;30;107m Тест на пословице и тексте \u001b[0m\n"
      ]
     },
     "metadata": {},
     "output_type": "display_data"
    },
    {
     "data": {
      "text/html": [
       "<pre style=\"white-space:pre;overflow-x:auto;line-height:normal;font-family:Menlo,'DejaVu Sans Mono',consolas,'Courier New',monospace\"><span style=\"font-weight: bold\">{</span><span style=\"color: #008000; text-decoration-color: #008000\">'alph'</span>: <span style=\"color: #008000; text-decoration-color: #008000\">'абвгдеёжзийклмнопрстуфхцчшщъыьэюя'</span>, <span style=\"color: #008000; text-decoration-color: #008000\">'key'</span>: <span style=\"color: #008000; text-decoration-color: #008000\">'год'</span><span style=\"font-weight: bold\">}</span>\n",
       "</pre>\n"
      ],
      "text/plain": [
       "\u001b[1m{\u001b[0m\u001b[32m'alph'\u001b[0m: \u001b[32m'абвгдеёжзийклмнопрстуфхцчшщъыьэюя'\u001b[0m, \u001b[32m'key'\u001b[0m: \u001b[32m'год'\u001b[0m\u001b[1m}\u001b[0m\n"
      ]
     },
     "metadata": {},
     "output_type": "display_data"
    },
    {
     "data": {
      "text/html": [
       "<pre style=\"white-space:pre;overflow-x:auto;line-height:normal;font-family:Menlo,'DejaVu Sans Mono',consolas,'Courier New',monospace\"><span style=\"color: #008080; text-decoration-color: #008080; font-weight: bold\"> Шифровка пословицы :</span> тткчеьяптенирясхтмттзохесцаолритьуднькоптоттйзджпмискааеч \n",
       "</pre>\n"
      ],
      "text/plain": [
       "\u001b[1;36m Шифровка пословицы :\u001b[0m тткчеьяптенирясхтмттзохесцаолритьуднькоптоттйзджпмискааеч \n"
      ]
     },
     "metadata": {},
     "output_type": "display_data"
    },
    {
     "data": {
      "text/html": [
       "<pre style=\"white-space:pre;overflow-x:auto;line-height:normal;font-family:Menlo,'DejaVu Sans Mono',consolas,'Courier New',monospace\"><span style=\"color: #008080; text-decoration-color: #008080; font-weight: bold\"> Расшифровка пословицы :</span> тотзптктохочетестьяйцазптдолженпримиритьсяскудахтаньемтчк \n",
       "</pre>\n"
      ],
      "text/plain": [
       "\u001b[1;36m Расшифровка пословицы :\u001b[0m тотзптктохочетестьяйцазптдолженпримиритьсяскудахтаньемтчк \n"
      ]
     },
     "metadata": {},
     "output_type": "display_data"
    },
    {
     "data": {
      "text/html": [
       "<pre style=\"white-space:pre;overflow-x:auto;line-height:normal;font-family:Menlo,'DejaVu Sans Mono',consolas,'Courier New',monospace\"><span style=\"color: #008080; text-decoration-color: #008080; font-weight: bold\"> Шифровка </span><span style=\"color: #008080; text-decoration-color: #008080; font-weight: bold\">1000</span><span style=\"color: #008080; text-decoration-color: #008080; font-weight: bold\"> :</span> сметеогсттаурзпвыныииацыйпрланесипореацоттвхуийвиитинвоанкалишнзпаяльнионеян\n",
       "оптжеийядивевирусоовавыиздлепямьнннйтшьанабнтттнакидыноныутронысннаозочнакоолнацеобвеоуаполтн\n",
       "исспырзакрниалцетепрвсптнаалиренванаалпрзпкжжиляриыетизуноывовриыдспенптжапоймабиидистсдйсные\n",
       "ациечхпвыанздреыляватихвомыждттваотзппониирсоегхтлоднчнедткготнакобпратстыениаексосчнттнеавых\n",
       "епьншечкстейцивилуйуньужспстпониесриизранацичктнзпанскзбешродеийетбоцеедяирнииавыхстадврнынои\n",
       "дглогвнчтрананоонутдпаеавыеоблиисетющлоктацкпманиепатспстноодргацойелтитавезгапчнщибеовкртнго\n",
       "нтукенрахцстклдеыезернреитывеонабубновчкстейцивиысехгикоциеснолаедгазамысоалииплмонынотчждгоу\n",
       "роцноорирныионыекатсввзнаычещеблоткетегоняэриоворщивосшосразнтчугорптизнаннанзайсётпоидвокукт\n",
       "тчыннылкьсогчтимсусубеющхнийзнопляждчакапоогнисоенешкаокмоатхзкинесионуахрийсннаозочнаоковогн\n",
       "исоуеышкаварициумэммичастсеичйррвихивстлеаспрсвенодзаосенбщомчоенехлиоиикооятобнймнвинпьеогтз\n",
       "имссыазиовсуисваизичриявмиозеуеоитвмеоазиндтьсзаксжвлнрыыетезлнтыеоероыярлиолыеоечислннаиееиа\n",
       "ливондзчидоадатяоьшпииедвотночянпящтнгкдрпаеевиеобеицуееярьхнсйкееезкссиьтеитонйцньйоттаеейгд\n",
       "пвнвиресвораныозтлкемтзпаюхсеатнтгнооикротозрлаямеылохдиоапдсклыдещаивквуеоаитятотонаетерсраи\n",
       "еогооаорееаоусикссноимьбвнреясмаадтоыпавшзимкцтлыентяоьшпииедгбирепреяобвтвеючтпотаизадоятвсо\n",
       "итмтеиаоннптойввчзойоснримеицптлноевза \n",
       "</pre>\n"
      ],
      "text/plain": [
       "\u001b[1;36m Шифровка \u001b[0m\u001b[1;36m1000\u001b[0m\u001b[1;36m :\u001b[0m сметеогсттаурзпвыныииацыйпрланесипореацоттвхуийвиитинвоанкалишнзпаяльнионеян\n",
       "оптжеийядивевирусоовавыиздлепямьнннйтшьанабнтттнакидыноныутронысннаозочнакоолнацеобвеоуаполтн\n",
       "исспырзакрниалцетепрвсптнаалиренванаалпрзпкжжиляриыетизуноывовриыдспенптжапоймабиидистсдйсные\n",
       "ациечхпвыанздреыляватихвомыждттваотзппониирсоегхтлоднчнедткготнакобпратстыениаексосчнттнеавых\n",
       "епьншечкстейцивилуйуньужспстпониесриизранацичктнзпанскзбешродеийетбоцеедяирнииавыхстадврнынои\n",
       "дглогвнчтрананоонутдпаеавыеоблиисетющлоктацкпманиепатспстноодргацойелтитавезгапчнщибеовкртнго\n",
       "нтукенрахцстклдеыезернреитывеонабубновчкстейцивиысехгикоциеснолаедгазамысоалииплмонынотчждгоу\n",
       "роцноорирныионыекатсввзнаычещеблоткетегоняэриоворщивосшосразнтчугорптизнаннанзайсётпоидвокукт\n",
       "тчыннылкьсогчтимсусубеющхнийзнопляждчакапоогнисоенешкаокмоатхзкинесионуахрийсннаозочнаоковогн\n",
       "исоуеышкаварициумэммичастсеичйррвихивстлеаспрсвенодзаосенбщомчоенехлиоиикооятобнймнвинпьеогтз\n",
       "имссыазиовсуисваизичриявмиозеуеоитвмеоазиндтьсзаксжвлнрыыетезлнтыеоероыярлиолыеоечислннаиееиа\n",
       "ливондзчидоадатяоьшпииедвотночянпящтнгкдрпаеевиеобеицуееярьхнсйкееезкссиьтеитонйцньйоттаеейгд\n",
       "пвнвиресвораныозтлкемтзпаюхсеатнтгнооикротозрлаямеылохдиоапдсклыдещаивквуеоаитятотонаетерсраи\n",
       "еогооаорееаоусикссноимьбвнреясмаадтоыпавшзимкцтлыентяоьшпииедгбирепреяобвтвеючтпотаизадоятвсо\n",
       "итмтеиаоннптойввчзойоснримеицптлноевза \n"
      ]
     },
     "metadata": {},
     "output_type": "display_data"
    },
    {
     "data": {
      "text/html": [
       "<pre style=\"white-space:pre;overflow-x:auto;line-height:normal;font-family:Menlo,'DejaVu Sans Mono',consolas,'Courier New',monospace\"><span style=\"color: #008080; text-decoration-color: #008080; font-weight: bold\"> Расшифровка </span><span style=\"color: #008080; text-decoration-color: #008080; font-weight: bold\">1000</span><span style=\"color: #008080; text-decoration-color: #008080; font-weight: bold\"> :</span> современныетехнологиидостиглитакогоуровнязптчтовыбранныйнамиинновационный\n",
       "путьпредполагаетнезависимыеспособыреализациисоответствующихусловийактивизациитчкпринимаявовни\n",
       "маниепоказателиуспешностизптноваямодельорганизационнойдеятельностизптатакжесвежийвзгляднаприв\n",
       "ычныевещитиребезусловнооткрываетновыегоризонтыдляукрепленияморальныхценностейтчклишьсделанные\n",
       "набазеинтернеттиреаналитикивыводынеоднозначныибудутобнародованытчкясностьнашейпозицииочевидна\n",
       "высокотехнологичнаяконцепцияобщественногоукладапредполагаетнезависимыеспособыреализацииукрепл\n",
       "енияморальныхценностейтчкпреждевсегозпткурснасоциальнотиреориентированныйнациональныйпроектзп\n",
       "татакжесвежийвзгляднапривычныевещитиребезусловнооткрываетновыегоризонтыдляэкспериментовзптпор\n",
       "ажающихпосвоеймасштабностииграндиозноститчксдругойсторонызптреализациянамеченныхплановыхзадан\n",
       "ийсоздаётпредпосылкидлявыводатекущихактивовтчкмывынужденыотталкиватьсяоттогозптчтопониманиесу\n",
       "тиресурсосберегающихтехнологийоднозначноопределяеткаждогоучастникакакспособногоприниматьсобст\n",
       "венныерешениякасаемокаксамодостаточныхзпттакивнешнезависимыхконцептуальныхрешенийтчкясностьна\n",
       "шейпозицииочевиднаглубокийуровеньпогруженияспособствуетповышениюкачестваприоритизацииразумана\n",
       "дэмоциямитчквчастностизптсемантическийразборвнешнихпротиводействийвлечетзасобойпроцессвнедрен\n",
       "ияимодернизациипоставленныхобществомзадач \n",
       "</pre>\n"
      ],
      "text/plain": [
       "\u001b[1;36m Расшифровка \u001b[0m\u001b[1;36m1000\u001b[0m\u001b[1;36m :\u001b[0m современныетехнологиидостиглитакогоуровнязптчтовыбранныйнамиинновационный\n",
       "путьпредполагаетнезависимыеспособыреализациисоответствующихусловийактивизациитчкпринимаявовни\n",
       "маниепоказателиуспешностизптноваямодельорганизационнойдеятельностизптатакжесвежийвзгляднаприв\n",
       "ычныевещитиребезусловнооткрываетновыегоризонтыдляукрепленияморальныхценностейтчклишьсделанные\n",
       "набазеинтернеттиреаналитикивыводынеоднозначныибудутобнародованытчкясностьнашейпозицииочевидна\n",
       "высокотехнологичнаяконцепцияобщественногоукладапредполагаетнезависимыеспособыреализацииукрепл\n",
       "енияморальныхценностейтчкпреждевсегозпткурснасоциальнотиреориентированныйнациональныйпроектзп\n",
       "татакжесвежийвзгляднапривычныевещитиребезусловнооткрываетновыегоризонтыдляэкспериментовзптпор\n",
       "ажающихпосвоеймасштабностииграндиозноститчксдругойсторонызптреализациянамеченныхплановыхзадан\n",
       "ийсоздаётпредпосылкидлявыводатекущихактивовтчкмывынужденыотталкиватьсяоттогозптчтопониманиесу\n",
       "тиресурсосберегающихтехнологийоднозначноопределяеткаждогоучастникакакспособногоприниматьсобст\n",
       "венныерешениякасаемокаксамодостаточныхзпттакивнешнезависимыхконцептуальныхрешенийтчкясностьна\n",
       "шейпозицииочевиднаглубокийуровеньпогруженияспособствуетповышениюкачестваприоритизацииразумана\n",
       "дэмоциямитчквчастностизптсемантическийразборвнешнихпротиводействийвлечетзасобойпроцессвнедрен\n",
       "ияимодернизациипоставленныхобществомзадач \n"
      ]
     },
     "metadata": {},
     "output_type": "display_data"
    }
   ],
   "source": [
    "from lib_crypto.b4.Permutations import main\n",
    "main()"
   ]
  }
 ],
 "metadata": {
  "interpreter": {
   "hash": "de9d6d611b58e56d80ebb10caa04eac0b07151589a55d916166b9d3e9db69c15"
  },
  "kernelspec": {
   "display_name": "Python 3.8.7 64-bit ('env': venv)",
   "language": "python",
   "name": "python3"
  },
  "language_info": {
   "codemirror_mode": {
    "name": "ipython",
    "version": 3
   },
   "file_extension": ".py",
   "mimetype": "text/x-python",
   "name": "python",
   "nbconvert_exporter": "python",
   "pygments_lexer": "ipython3",
   "version": "3.8.7"
  },
  "orig_nbformat": 4
 },
 "nbformat": 4,
 "nbformat_minor": 2
}
