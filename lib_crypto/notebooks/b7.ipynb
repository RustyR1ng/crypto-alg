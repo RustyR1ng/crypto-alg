{
 "cells": [
  {
   "cell_type": "code",
   "execution_count": 1,
   "metadata": {},
   "outputs": [],
   "source": [
    "from sys import path\n",
    "path.append(\"../../\")"
   ]
  },
  {
   "cell_type": "code",
   "execution_count": 2,
   "metadata": {},
   "outputs": [
    {
     "data": {
      "text/html": [
       "<pre style=\"white-space:pre;overflow-x:auto;line-height:normal;font-family:Menlo,'DejaVu Sans Mono',consolas,'Courier New',monospace\"><span style=\"color: #008080; text-decoration-color: #008080; font-weight: bold\"> Сообщение :</span> 3243f6a8885a308d313198a2e0370734 \n",
       "</pre>\n"
      ],
      "text/plain": [
       "\u001b[1;36m Сообщение :\u001b[0m 3243f6a8885a308d313198a2e0370734 \n"
      ]
     },
     "metadata": {},
     "output_type": "display_data"
    },
    {
     "data": {
      "text/html": [
       "<pre style=\"white-space:pre;overflow-x:auto;line-height:normal;font-family:Menlo,'DejaVu Sans Mono',consolas,'Courier New',monospace\"><span style=\"color: #008080; text-decoration-color: #008080; font-weight: bold\"> Ключ :</span> 2b7e151628aed2a6abf7158809cf4f3c \n",
       "</pre>\n"
      ],
      "text/plain": [
       "\u001b[1;36m Ключ :\u001b[0m 2b7e151628aed2a6abf7158809cf4f3c \n"
      ]
     },
     "metadata": {},
     "output_type": "display_data"
    },
    {
     "data": {
      "text/html": [
       "<pre style=\"white-space:pre;overflow-x:auto;line-height:normal;font-family:Menlo,'DejaVu Sans Mono',consolas,'Courier New',monospace\"><span style=\"color: #008080; text-decoration-color: #008080; font-weight: bold\"> Шифровка по стандарту :</span> 3925841d02dc09fbdc118597196a0b32 \n",
       "</pre>\n"
      ],
      "text/plain": [
       "\u001b[1;36m Шифровка по стандарту :\u001b[0m 3925841d02dc09fbdc118597196a0b32 \n"
      ]
     },
     "metadata": {},
     "output_type": "display_data"
    },
    {
     "data": {
      "text/html": [
       "<pre style=\"white-space:pre;overflow-x:auto;line-height:normal;font-family:Menlo,'DejaVu Sans Mono',consolas,'Courier New',monospace\"><span style=\"color: #008080; text-decoration-color: #008080; font-weight: bold\"> Шифровка Тест :</span> bc97f4dfee6e5a1aece2a93a328cdb023713c4e48729dd0611ad163752d70c1466b596280362\n",
       "723fdc9b07a2381e702fa5acb573dd56c09c8846d00711ffe1145b5e73c8abd34b255795777d1c65b696bc88f36a7\n",
       "07b25810b42d76305f069304f8898519f5915415cfc633fd51e47f90b8e0526b9738923b7684feb0bcf3766 \n",
       "</pre>\n"
      ],
      "text/plain": [
       "\u001b[1;36m Шифровка Тест :\u001b[0m bc97f4dfee6e5a1aece2a93a328cdb023713c4e48729dd0611ad163752d70c1466b596280362\n",
       "723fdc9b07a2381e702fa5acb573dd56c09c8846d00711ffe1145b5e73c8abd34b255795777d1c65b696bc88f36a7\n",
       "07b25810b42d76305f069304f8898519f5915415cfc633fd51e47f90b8e0526b9738923b7684feb0bcf3766 \n"
      ]
     },
     "metadata": {},
     "output_type": "display_data"
    },
    {
     "data": {
      "text/html": [
       "<pre style=\"white-space:pre;overflow-x:auto;line-height:normal;font-family:Menlo,'DejaVu Sans Mono',consolas,'Courier New',monospace\"><span style=\"color: #008080; text-decoration-color: #008080; font-weight: bold\"> Расшифрока :</span> Тот зпт кто хочет есть яйца зпт должен примириться с кудахтаньем тчк \n",
       "</pre>\n"
      ],
      "text/plain": [
       "\u001b[1;36m Расшифрока :\u001b[0m Тот зпт кто хочет есть яйца зпт должен примириться с кудахтаньем тчк \n"
      ]
     },
     "metadata": {},
     "output_type": "display_data"
    },
    {
     "data": {
      "text/html": [
       "<pre style=\"white-space:pre;overflow-x:auto;line-height:normal;font-family:Menlo,'DejaVu Sans Mono',consolas,'Courier New',monospace\"><span style=\"color: #008080; text-decoration-color: #008080; font-weight: bold\"> Шифровка </span><span style=\"color: #008080; text-decoration-color: #008080; font-weight: bold\">1000</span><span style=\"color: #008080; text-decoration-color: #008080; font-weight: bold\"> :</span> 9a6da1892ce0ae2eb03fbdab4be9ea368b66cef4124986946e204baede986b592ce66f6b6732\n",
       "11352f908dcb4b58e2176be90c65480513cbc3a94501eff6d0c9d23d7e04b014b082af6b1ffe537803216c35b2768\n",
       "fc41eb1ee1d18ce679ab5f9e2db684b9531d534597fd55711923bb18e9e26d485890f1b29ab076e84c08fbe55fef3\n",
       "d5e77db1b4bdffe894485e6aae82fd188850f4683e40734ea057e0b11d8ae4eff469dad5500acb99548b9f939a406\n",
       "65c50be919a64df4906a77d96a239965dcf9ec5a40f889104f1312560489afcc7f36e26f214b4b5a57f6fa5ecaa30\n",
       "9c8632c00ec27049934beb7b942408d8b586799ec4885a2be2a6cb294493b1b9b01e4a4881a66e483fd8114e24d3e\n",
       "ceabde738b5c2dec4195ed47ffa89a9a0081aa4253b435d640a848c976d40274a2b0ff04a88442d77ec07df7d6122\n",
       "55379cf785a374642bf4acc8d2d2d52704d653603f4144f9aa6155839656fbf2dc6d879ec7432c61dc096e829db28\n",
       "b93005b7bbf1194a2ba1a8c4379b667eaae8ca60bb727e8d2364ad3c7821fc7ec0d1309e4337a703f3d206a4b6614\n",
       "11b743fb03a87ef174320e230675d31b5b2e498337e94d1bcf213a3a9c09ac2457f0222f52a8c201ff45070bda381\n",
       "629acc69a41373fd39b74271013cf699e0c41d8301173f603ca88c7e9121b32967ca82e4949094d370147c06bab0d\n",
       "143160adae1e95165f4a014d3b1af04d3e383bbd366ab95682553f57a09d7cea7f082eaff626cd1f7fbe1291ac1e8\n",
       "03179e0312edf73b694eb5d964250e38b99ef0d864a269095f6ec5319cd0374d68669eb93ae8fecc57409166c35b8\n",
       "f165cc61c55e48d976c2b48661f85999824016feddb108033c824af4f0faf3b37dfb2f4dad7f248c32065e70fe444\n",
       "76e1296354750e6a2a2fe03e236c8a9ffd6a9723e625446d150ce8dd50193287826a8104032af994265daad335ba3\n",
       "29b0e23038407edd14a4ff62b660101ad8790c2107e74e45af6ff5f57ecdc1f8d273ce71d2e4e913840b8cb7dfbeb\n",
       "2770fdc5dba6b7927a5a2f97c966889ee0b5f0632dc660235363609e93fc69740c229c6f93981429885a0fe5688ad\n",
       "74f8332732f1b72c5438140e44f3d1f299a1f7533a6b4e35cd325e7f906bec1b72730ed62d8f4274ccf9d3432079a\n",
       "84ab4350ccbaf9fc74d097566a27dedb0b649355cf38e81f1bb1dab35f55e7f3b58190d219f55b7e52f91e0fbdb04\n",
       "dac9c3882cc138238fef496839e3bd138ec4e24b3a76172d30d80720eedced772842614a08ccde752440f4000443c\n",
       "cfac576427931fa5b8820075bfde07a7c9e2aaa10b6c64f1c7a3f5fb9e8d895c2b51f4fdaef319b1cfc2ad66dfd14\n",
       "b938ffea171a1556b6cd7c2694a1aa4327caba1da7428c3447dea6618f655e503cc258655977a238e9e9a7bc173b6\n",
       "927df41e3d443523b45d3caaf0ead1f43803761f68293195392fd176784461cc47dbd40f144d43e4ff59cf715f9bc\n",
       "ddde759ef3eda319eddc6e6702fe238d5c07b543df0c68f026c156ed030799e0b92ada9d511ae677377068a8b2e81\n",
       "7dde8edec7c7f3c196c7eb501a18ae82cfbc68612da06b68159fee8f6f137fedbaabda28a98450f9449fe46dec055\n",
       "e68ed0b7d49dbdd4a7b5619084ae5628100a0b3f61d04ff2e5b929d8082dd897ec7b490d40512d2c1464a58e91ed1\n",
       "4abb5e67306ae1efc291dec83fb7b4f8cbccff1b41352dac99a8a976931f420a18e9f962caff94215c7534143f068\n",
       "122515c74665ae312b5adccdbcdb9d3b7bae131ecd2bf72d712b03b1eb516ba69f82ba811a0ca7d0c33adca483a04\n",
       "f5392bb84ca1cb0f9c807848ad12310c77c6bb4f6a9bd1b193b3df70dbf17ce3620a36b3efbead7d58d09dc143706\n",
       "267ca91a47360bde44540a897ac002b66aa75a49155acefea13c1dcf0ce37aeccd994026dd649b352e1bbe420115d\n",
       "562c801f5e495c6c51adcac506df7e94b5030fdf419f9d98d340e56d8f4e884deeedb8b6635f77f9d0e7a6301acd5\n",
       "51759b784cd8dd9fd5cf792ce3f1369232159413506c68d48cf89c7d1efd6352f9f51b9f652f4ee98b03a4fcd80c7\n",
       "972ff471282bf14489f2c592264b552391182fc1446bb713d9e470bfa137cdf6f8fb53a355162c07ff328c4d9cde9\n",
       "6e33d756b407b4b4c6de70eafa2fa42afc46de1b7c939d8804424cbceb9c6e7be9babe17721b6de8db9da4b934166\n",
       "68850317421a3fc3532699228a15abbc9a12c9b9bfda6d2ad59c7a581bc2e6aa01a6d71d93379cd97805a76d25097\n",
       "ffdfd72706c0ee268fb05b962a6462f7913fbf4690eb547da4d63ace0cd2000fa6dbf1dc186d6c9ea65890a2470c7\n",
       "b6197d9b0048c01da1c0e515a736589d8968d25fb6ce5d7827513fe387ba957bd388c5c8a51beaccdcb8f08be8176\n",
       "2b65b13e7414b55159327c7b6eef1c366da3d87051e32349d589081aca84c5c1794fc9f2750c7f5011221fca3bff1\n",
       "09d45a0783b6ce43dfbc6d83d21aeff3a4ddac866e6c3b838544b219dad53d8cfa233c251c7d0f7c51ce81191d148\n",
       "791002a96c97549fb2a56bd33b556b334421db6cd2df2cb76562f96d32c126c72ef1f764b1a1bc0fad5b8d4b4ada7\n",
       "108f40dec3420f1a0339f8a1ccfc4f33e6ca23183f7766606d3653223509d624d13af6f2c9027e98f5c5388f9d44c\n",
       "d7c6970c92ee471d2d00504d34f84ae58e889a8ccbb519729bb4237d03ebd8cf01e6e6a2105ccc8bea5215a417c0e\n",
       "3bd3f3c8dbde8a92ac153f851e779099e514d5c726a41cdf865fc40c9893dbe395ceb1395a8497c47a961f6b465fa\n",
       "55560dccf3309585f6b3ba025828d3ff874fd8bd61ae7cdf6f6a775a26ad15ad43c1445f38a253e70e4c14530a4d3\n",
       "24c436efb749d6fe63974b2330b9b5a0d1256260b3df95aee6ec2628e15785c63f0cb1487738e9ff91b1e2c6a6e2b\n",
       "a2100c0a87f803c3c9bfcbd71ad733bcfaab2cb94fa7b7e8bd7cb79418e90f7422ea986d1702a4cf5d6422a556522\n",
       "3aa896af0ca9227f34dcc6125c6bfe47be22ce541f72e3db5f06e15dd8130397eae8ae3a7856d0c154ff0291f7a3a\n",
       "4f19a00ec279f2babbd3fc27f3d7bdd1d35f52202a188f0c1b627b9a70f0c09de810660c2bf6225795d3675e2046d\n",
       "43a09260a1aff15a61bc7cf71638d0082d39da23433ce39dc38af7a69b7c51f3169b81a5972a06c30cc5154f2af4f\n",
       "77f5c4ae4e4b267cfbfbd3d4fc93a64c5bef8c48c16e253c9c1335f930ca8c6f02e79ac9fc865f47129d81397b886\n",
       "96f090c5cc040120db2c2954804a2b403622d03c3bfbb05b4d566d17067ceebceb9f8c5a7ee718853d6ae7286bfa7\n",
       "a5a7adf92f7aa0e3f95092edfd5b36fa734aaaa8c00776cd1f4d711de3eaaf41c5ccf5c02098cefb816c9b362d26c\n",
       "c56630e7cca105ddf7887e526fcd9e16e38f98e0cf13c9e0bdfe72555f45ef2af9c5d893c133ed9393b4d8773e0ad\n",
       "d77a1dbc75c5e03a79170d289e456747a3221c53d25475de6f9c5cacec1ef8ace8d94063e0c512e826d0ce1ab9189\n",
       "035fbce8cd76fb4d84b5565788e502ddf1b289d4070119fc9215364bc0c8c6e7b5c96c0eb07c40d92bee1ca39c00c\n",
       "d1c31680ef471c189cd2e01785920063dfcb92d34dcc60efbd12c3a703bb333b973b7ae4a13a46282ca9dff389cc5\n",
       "86266849549792ce423d889c88801e3a4e4572ba70670f0d1146c7c698c86b927dee2cfc04f108e98e2575590fd54\n",
       "cd25fbe2a5946dfac27005eaa4cb1fb0524cc15cad59b499c2b3ac41cd488dcc7b2425705bf3df438fdd4335ac80d\n",
       "342efd3d0b6bb5af5904bb0d3d495bd \n",
       "</pre>\n"
      ],
      "text/plain": [
       "\u001b[1;36m Шифровка \u001b[0m\u001b[1;36m1000\u001b[0m\u001b[1;36m :\u001b[0m 9a6da1892ce0ae2eb03fbdab4be9ea368b66cef4124986946e204baede986b592ce66f6b6732\n",
       "11352f908dcb4b58e2176be90c65480513cbc3a94501eff6d0c9d23d7e04b014b082af6b1ffe537803216c35b2768\n",
       "fc41eb1ee1d18ce679ab5f9e2db684b9531d534597fd55711923bb18e9e26d485890f1b29ab076e84c08fbe55fef3\n",
       "d5e77db1b4bdffe894485e6aae82fd188850f4683e40734ea057e0b11d8ae4eff469dad5500acb99548b9f939a406\n",
       "65c50be919a64df4906a77d96a239965dcf9ec5a40f889104f1312560489afcc7f36e26f214b4b5a57f6fa5ecaa30\n",
       "9c8632c00ec27049934beb7b942408d8b586799ec4885a2be2a6cb294493b1b9b01e4a4881a66e483fd8114e24d3e\n",
       "ceabde738b5c2dec4195ed47ffa89a9a0081aa4253b435d640a848c976d40274a2b0ff04a88442d77ec07df7d6122\n",
       "55379cf785a374642bf4acc8d2d2d52704d653603f4144f9aa6155839656fbf2dc6d879ec7432c61dc096e829db28\n",
       "b93005b7bbf1194a2ba1a8c4379b667eaae8ca60bb727e8d2364ad3c7821fc7ec0d1309e4337a703f3d206a4b6614\n",
       "11b743fb03a87ef174320e230675d31b5b2e498337e94d1bcf213a3a9c09ac2457f0222f52a8c201ff45070bda381\n",
       "629acc69a41373fd39b74271013cf699e0c41d8301173f603ca88c7e9121b32967ca82e4949094d370147c06bab0d\n",
       "143160adae1e95165f4a014d3b1af04d3e383bbd366ab95682553f57a09d7cea7f082eaff626cd1f7fbe1291ac1e8\n",
       "03179e0312edf73b694eb5d964250e38b99ef0d864a269095f6ec5319cd0374d68669eb93ae8fecc57409166c35b8\n",
       "f165cc61c55e48d976c2b48661f85999824016feddb108033c824af4f0faf3b37dfb2f4dad7f248c32065e70fe444\n",
       "76e1296354750e6a2a2fe03e236c8a9ffd6a9723e625446d150ce8dd50193287826a8104032af994265daad335ba3\n",
       "29b0e23038407edd14a4ff62b660101ad8790c2107e74e45af6ff5f57ecdc1f8d273ce71d2e4e913840b8cb7dfbeb\n",
       "2770fdc5dba6b7927a5a2f97c966889ee0b5f0632dc660235363609e93fc69740c229c6f93981429885a0fe5688ad\n",
       "74f8332732f1b72c5438140e44f3d1f299a1f7533a6b4e35cd325e7f906bec1b72730ed62d8f4274ccf9d3432079a\n",
       "84ab4350ccbaf9fc74d097566a27dedb0b649355cf38e81f1bb1dab35f55e7f3b58190d219f55b7e52f91e0fbdb04\n",
       "dac9c3882cc138238fef496839e3bd138ec4e24b3a76172d30d80720eedced772842614a08ccde752440f4000443c\n",
       "cfac576427931fa5b8820075bfde07a7c9e2aaa10b6c64f1c7a3f5fb9e8d895c2b51f4fdaef319b1cfc2ad66dfd14\n",
       "b938ffea171a1556b6cd7c2694a1aa4327caba1da7428c3447dea6618f655e503cc258655977a238e9e9a7bc173b6\n",
       "927df41e3d443523b45d3caaf0ead1f43803761f68293195392fd176784461cc47dbd40f144d43e4ff59cf715f9bc\n",
       "ddde759ef3eda319eddc6e6702fe238d5c07b543df0c68f026c156ed030799e0b92ada9d511ae677377068a8b2e81\n",
       "7dde8edec7c7f3c196c7eb501a18ae82cfbc68612da06b68159fee8f6f137fedbaabda28a98450f9449fe46dec055\n",
       "e68ed0b7d49dbdd4a7b5619084ae5628100a0b3f61d04ff2e5b929d8082dd897ec7b490d40512d2c1464a58e91ed1\n",
       "4abb5e67306ae1efc291dec83fb7b4f8cbccff1b41352dac99a8a976931f420a18e9f962caff94215c7534143f068\n",
       "122515c74665ae312b5adccdbcdb9d3b7bae131ecd2bf72d712b03b1eb516ba69f82ba811a0ca7d0c33adca483a04\n",
       "f5392bb84ca1cb0f9c807848ad12310c77c6bb4f6a9bd1b193b3df70dbf17ce3620a36b3efbead7d58d09dc143706\n",
       "267ca91a47360bde44540a897ac002b66aa75a49155acefea13c1dcf0ce37aeccd994026dd649b352e1bbe420115d\n",
       "562c801f5e495c6c51adcac506df7e94b5030fdf419f9d98d340e56d8f4e884deeedb8b6635f77f9d0e7a6301acd5\n",
       "51759b784cd8dd9fd5cf792ce3f1369232159413506c68d48cf89c7d1efd6352f9f51b9f652f4ee98b03a4fcd80c7\n",
       "972ff471282bf14489f2c592264b552391182fc1446bb713d9e470bfa137cdf6f8fb53a355162c07ff328c4d9cde9\n",
       "6e33d756b407b4b4c6de70eafa2fa42afc46de1b7c939d8804424cbceb9c6e7be9babe17721b6de8db9da4b934166\n",
       "68850317421a3fc3532699228a15abbc9a12c9b9bfda6d2ad59c7a581bc2e6aa01a6d71d93379cd97805a76d25097\n",
       "ffdfd72706c0ee268fb05b962a6462f7913fbf4690eb547da4d63ace0cd2000fa6dbf1dc186d6c9ea65890a2470c7\n",
       "b6197d9b0048c01da1c0e515a736589d8968d25fb6ce5d7827513fe387ba957bd388c5c8a51beaccdcb8f08be8176\n",
       "2b65b13e7414b55159327c7b6eef1c366da3d87051e32349d589081aca84c5c1794fc9f2750c7f5011221fca3bff1\n",
       "09d45a0783b6ce43dfbc6d83d21aeff3a4ddac866e6c3b838544b219dad53d8cfa233c251c7d0f7c51ce81191d148\n",
       "791002a96c97549fb2a56bd33b556b334421db6cd2df2cb76562f96d32c126c72ef1f764b1a1bc0fad5b8d4b4ada7\n",
       "108f40dec3420f1a0339f8a1ccfc4f33e6ca23183f7766606d3653223509d624d13af6f2c9027e98f5c5388f9d44c\n",
       "d7c6970c92ee471d2d00504d34f84ae58e889a8ccbb519729bb4237d03ebd8cf01e6e6a2105ccc8bea5215a417c0e\n",
       "3bd3f3c8dbde8a92ac153f851e779099e514d5c726a41cdf865fc40c9893dbe395ceb1395a8497c47a961f6b465fa\n",
       "55560dccf3309585f6b3ba025828d3ff874fd8bd61ae7cdf6f6a775a26ad15ad43c1445f38a253e70e4c14530a4d3\n",
       "24c436efb749d6fe63974b2330b9b5a0d1256260b3df95aee6ec2628e15785c63f0cb1487738e9ff91b1e2c6a6e2b\n",
       "a2100c0a87f803c3c9bfcbd71ad733bcfaab2cb94fa7b7e8bd7cb79418e90f7422ea986d1702a4cf5d6422a556522\n",
       "3aa896af0ca9227f34dcc6125c6bfe47be22ce541f72e3db5f06e15dd8130397eae8ae3a7856d0c154ff0291f7a3a\n",
       "4f19a00ec279f2babbd3fc27f3d7bdd1d35f52202a188f0c1b627b9a70f0c09de810660c2bf6225795d3675e2046d\n",
       "43a09260a1aff15a61bc7cf71638d0082d39da23433ce39dc38af7a69b7c51f3169b81a5972a06c30cc5154f2af4f\n",
       "77f5c4ae4e4b267cfbfbd3d4fc93a64c5bef8c48c16e253c9c1335f930ca8c6f02e79ac9fc865f47129d81397b886\n",
       "96f090c5cc040120db2c2954804a2b403622d03c3bfbb05b4d566d17067ceebceb9f8c5a7ee718853d6ae7286bfa7\n",
       "a5a7adf92f7aa0e3f95092edfd5b36fa734aaaa8c00776cd1f4d711de3eaaf41c5ccf5c02098cefb816c9b362d26c\n",
       "c56630e7cca105ddf7887e526fcd9e16e38f98e0cf13c9e0bdfe72555f45ef2af9c5d893c133ed9393b4d8773e0ad\n",
       "d77a1dbc75c5e03a79170d289e456747a3221c53d25475de6f9c5cacec1ef8ace8d94063e0c512e826d0ce1ab9189\n",
       "035fbce8cd76fb4d84b5565788e502ddf1b289d4070119fc9215364bc0c8c6e7b5c96c0eb07c40d92bee1ca39c00c\n",
       "d1c31680ef471c189cd2e01785920063dfcb92d34dcc60efbd12c3a703bb333b973b7ae4a13a46282ca9dff389cc5\n",
       "86266849549792ce423d889c88801e3a4e4572ba70670f0d1146c7c698c86b927dee2cfc04f108e98e2575590fd54\n",
       "cd25fbe2a5946dfac27005eaa4cb1fb0524cc15cad59b499c2b3ac41cd488dcc7b2425705bf3df438fdd4335ac80d\n",
       "342efd3d0b6bb5af5904bb0d3d495bd \n"
      ]
     },
     "metadata": {},
     "output_type": "display_data"
    },
    {
     "data": {
      "text/html": [
       "<pre style=\"white-space:pre;overflow-x:auto;line-height:normal;font-family:Menlo,'DejaVu Sans Mono',consolas,'Courier New',monospace\"><span style=\"color: #008080; text-decoration-color: #008080; font-weight: bold\"> Расшифрока :</span> Современные технологии достигли такого уровня, что выбранный нами инновационный\n",
       "путь предполагает независимые способы реализации соответствующих условий активизации. \n",
       "Принимая во внимание показатели успешности, новая модель организационной деятельности, а \n",
       "также свежий взгляд на привычные вещи - безусловно открывает новые горизонты для укрепления \n",
       "моральных ценностей. Лишь сделанные на базе интернет-аналитики выводы неоднозначны и будут \n",
       "обнародованы. Ясность нашей позиции очевидна: высокотехнологичная концепция общественного \n",
       "уклада предполагает независимые способы реализации укрепления моральных ценностей.\n",
       "Прежде всего, курс на социально-ориентированный национальный проект, а также свежий взгляд на\n",
       "привычные вещи - безусловно открывает новые горизонты для экспериментов, поражающих по своей \n",
       "масштабности и грандиозности. С другой стороны, реализация намеченных плановых заданий \n",
       "создаёт предпосылки для вывода текущих активов. Мы вынуждены отталкиваться от того, что \n",
       "понимание сути ресурсосберегающих технологий однозначно определяет каждого участника как \n",
       "способного принимать собственные решения касаемо как самодостаточных, так и внешне зависимых \n",
       "концептуальных решений. Ясность нашей позиции очевидна: глубокий уровень погружения \n",
       "способствует повышению качества приоритизации разума над эмоциями. В частности, семантический\n",
       "разбор внешних противодействий влечет за собой процесс внедрения и модернизации поставленных \n",
       "обществом задач\n",
       " \n",
       "</pre>\n"
      ],
      "text/plain": [
       "\u001b[1;36m Расшифрока :\u001b[0m Современные технологии достигли такого уровня, что выбранный нами инновационный\n",
       "путь предполагает независимые способы реализации соответствующих условий активизации. \n",
       "Принимая во внимание показатели успешности, новая модель организационной деятельности, а \n",
       "также свежий взгляд на привычные вещи - безусловно открывает новые горизонты для укрепления \n",
       "моральных ценностей. Лишь сделанные на базе интернет-аналитики выводы неоднозначны и будут \n",
       "обнародованы. Ясность нашей позиции очевидна: высокотехнологичная концепция общественного \n",
       "уклада предполагает независимые способы реализации укрепления моральных ценностей.\n",
       "Прежде всего, курс на социально-ориентированный национальный проект, а также свежий взгляд на\n",
       "привычные вещи - безусловно открывает новые горизонты для экспериментов, поражающих по своей \n",
       "масштабности и грандиозности. С другой стороны, реализация намеченных плановых заданий \n",
       "создаёт предпосылки для вывода текущих активов. Мы вынуждены отталкиваться от того, что \n",
       "понимание сути ресурсосберегающих технологий однозначно определяет каждого участника как \n",
       "способного принимать собственные решения касаемо как самодостаточных, так и внешне зависимых \n",
       "концептуальных решений. Ясность нашей позиции очевидна: глубокий уровень погружения \n",
       "способствует повышению качества приоритизации разума над эмоциями. В частности, семантический\n",
       "разбор внешних противодействий влечет за собой процесс внедрения и модернизации поставленных \n",
       "обществом задач\n",
       " \n"
      ]
     },
     "metadata": {},
     "output_type": "display_data"
    }
   ],
   "source": [
    "from lib_crypto.b7.AES import main\n",
    "main()"
   ]
  },
  {
   "cell_type": "code",
   "execution_count": 3,
   "metadata": {},
   "outputs": [
    {
     "data": {
      "text/html": [
       "<pre style=\"white-space:pre;overflow-x:auto;line-height:normal;font-family:Menlo,'DejaVu Sans Mono',consolas,'Courier New',monospace\"><span style=\"color: #000000; text-decoration-color: #000000; background-color: #ffffff; font-weight: bold\"> Пример из GOST_R_34_12-</span><span style=\"color: #000000; text-decoration-color: #000000; background-color: #ffffff; font-weight: bold\">2015</span><span style=\"color: #000000; text-decoration-color: #000000; background-color: #ffffff; font-weight: bold\"> </span>\n",
       "</pre>\n"
      ],
      "text/plain": [
       "\u001b[1;30;107m Пример из GOST_R_34_12-\u001b[0m\u001b[1;30;107m2015\u001b[0m\u001b[1;30;107m \u001b[0m\n"
      ]
     },
     "metadata": {},
     "output_type": "display_data"
    },
    {
     "data": {
      "text/html": [
       "<pre style=\"white-space:pre;overflow-x:auto;line-height:normal;font-family:Menlo,'DejaVu Sans Mono',consolas,'Courier New',monospace\"><span style=\"color: #008080; text-decoration-color: #008080; font-weight: bold\"> Открытый текст :</span> 1122334455667700ffeeddccbbaa9988 \n",
       "</pre>\n"
      ],
      "text/plain": [
       "\u001b[1;36m Открытый текст :\u001b[0m 1122334455667700ffeeddccbbaa9988 \n"
      ]
     },
     "metadata": {},
     "output_type": "display_data"
    },
    {
     "data": {
      "text/html": [
       "<pre style=\"white-space:pre;overflow-x:auto;line-height:normal;font-family:Menlo,'DejaVu Sans Mono',consolas,'Courier New',monospace\"><span style=\"color: #008080; text-decoration-color: #008080; font-weight: bold\"> Результат :</span> 7f679d90bebc24305a468d42b9d4edcd \n",
       "</pre>\n"
      ],
      "text/plain": [
       "\u001b[1;36m Результат :\u001b[0m 7f679d90bebc24305a468d42b9d4edcd \n"
      ]
     },
     "metadata": {},
     "output_type": "display_data"
    },
    {
     "data": {
      "text/html": [
       "<pre style=\"white-space:pre;overflow-x:auto;line-height:normal;font-family:Menlo,'DejaVu Sans Mono',consolas,'Courier New',monospace\"><span style=\"color: #008080; text-decoration-color: #008080; font-weight: bold\"> Шифр :</span> 7f679d90bebc24305a468d42b9d4edcd \n",
       "</pre>\n"
      ],
      "text/plain": [
       "\u001b[1;36m Шифр :\u001b[0m 7f679d90bebc24305a468d42b9d4edcd \n"
      ]
     },
     "metadata": {},
     "output_type": "display_data"
    },
    {
     "data": {
      "text/html": [
       "<pre style=\"white-space:pre;overflow-x:auto;line-height:normal;font-family:Menlo,'DejaVu Sans Mono',consolas,'Courier New',monospace\"><span style=\"color: #008080; text-decoration-color: #008080; font-weight: bold\"> Расшифр. :</span> 1122334455667700ffeeddccbbaa9988 \n",
       "</pre>\n"
      ],
      "text/plain": [
       "\u001b[1;36m Расшифр. :\u001b[0m 1122334455667700ffeeddccbbaa9988 \n"
      ]
     },
     "metadata": {},
     "output_type": "display_data"
    }
   ],
   "source": [
    "from lib_crypto.b7.Kuznyechik_3412 import main\n",
    "main()"
   ]
  },
  {
   "cell_type": "code",
   "execution_count": 4,
   "metadata": {},
   "outputs": [
    {
     "data": {
      "text/html": [
       "<pre style=\"white-space:pre;overflow-x:auto;line-height:normal;font-family:Menlo,'DejaVu Sans Mono',consolas,'Courier New',monospace\"><span style=\"color: #000000; text-decoration-color: #000000; background-color: #ffffff; font-weight: bold\"> Примеры из GOST_R_34_13-</span><span style=\"color: #000000; text-decoration-color: #000000; background-color: #ffffff; font-weight: bold\">2015</span><span style=\"color: #000000; text-decoration-color: #000000; background-color: #ffffff; font-weight: bold\"> </span>\n",
       "</pre>\n"
      ],
      "text/plain": [
       "\u001b[1;30;107m Примеры из GOST_R_34_13-\u001b[0m\u001b[1;30;107m2015\u001b[0m\u001b[1;30;107m \u001b[0m\n"
      ]
     },
     "metadata": {},
     "output_type": "display_data"
    },
    {
     "data": {
      "text/html": [
       "<pre style=\"white-space:pre;overflow-x:auto;line-height:normal;font-family:Menlo,'DejaVu Sans Mono',consolas,'Courier New',monospace\"><span style=\"color: #008080; text-decoration-color: #008080; font-weight: bold\"> Ключ :</span> 8899aabbccddeeff0011223344556677fedcba98765432100123456789abcdef \n",
       "</pre>\n"
      ],
      "text/plain": [
       "\u001b[1;36m Ключ :\u001b[0m 8899aabbccddeeff0011223344556677fedcba98765432100123456789abcdef \n"
      ]
     },
     "metadata": {},
     "output_type": "display_data"
    },
    {
     "data": {
      "text/html": [
       "<pre style=\"white-space:pre;overflow-x:auto;line-height:normal;font-family:Menlo,'DejaVu Sans Mono',consolas,'Courier New',monospace\"><span style=\"color: #008080; text-decoration-color: #008080; font-weight: bold\"> </span><span style=\"color: #008080; text-decoration-color: #008080; font-weight: bold\">1</span><span style=\"color: #008080; text-decoration-color: #008080; font-weight: bold\"> :</span> 1122334455667700ffeeddccbbaa9988 -&gt; 7f679d90bebc24305a468d42b9d4edcd \n",
       "</pre>\n"
      ],
      "text/plain": [
       "\u001b[1;36m \u001b[0m\u001b[1;36m1\u001b[0m\u001b[1;36m :\u001b[0m 1122334455667700ffeeddccbbaa9988 -> 7f679d90bebc24305a468d42b9d4edcd \n"
      ]
     },
     "metadata": {},
     "output_type": "display_data"
    },
    {
     "data": {
      "text/html": [
       "<pre style=\"white-space:pre;overflow-x:auto;line-height:normal;font-family:Menlo,'DejaVu Sans Mono',consolas,'Courier New',monospace\"><span style=\"color: #008080; text-decoration-color: #008080; font-weight: bold\"> </span><span style=\"color: #008080; text-decoration-color: #008080; font-weight: bold\">2</span><span style=\"color: #008080; text-decoration-color: #008080; font-weight: bold\"> :</span> 00112233445566778899aabbcceeff0a -&gt; b429912c6e0032f9285452d76718d08b \n",
       "</pre>\n"
      ],
      "text/plain": [
       "\u001b[1;36m \u001b[0m\u001b[1;36m2\u001b[0m\u001b[1;36m :\u001b[0m 00112233445566778899aabbcceeff0a -> b429912c6e0032f9285452d76718d08b \n"
      ]
     },
     "metadata": {},
     "output_type": "display_data"
    },
    {
     "data": {
      "text/html": [
       "<pre style=\"white-space:pre;overflow-x:auto;line-height:normal;font-family:Menlo,'DejaVu Sans Mono',consolas,'Courier New',monospace\"><span style=\"color: #008080; text-decoration-color: #008080; font-weight: bold\"> </span><span style=\"color: #008080; text-decoration-color: #008080; font-weight: bold\">3</span><span style=\"color: #008080; text-decoration-color: #008080; font-weight: bold\"> :</span> 112233445566778899aabbcceeff0a00 -&gt; f0ca33549d247ceef3f5a5313bd4b157 \n",
       "</pre>\n"
      ],
      "text/plain": [
       "\u001b[1;36m \u001b[0m\u001b[1;36m3\u001b[0m\u001b[1;36m :\u001b[0m 112233445566778899aabbcceeff0a00 -> f0ca33549d247ceef3f5a5313bd4b157 \n"
      ]
     },
     "metadata": {},
     "output_type": "display_data"
    },
    {
     "data": {
      "text/html": [
       "<pre style=\"white-space:pre;overflow-x:auto;line-height:normal;font-family:Menlo,'DejaVu Sans Mono',consolas,'Courier New',monospace\"><span style=\"color: #008080; text-decoration-color: #008080; font-weight: bold\"> </span><span style=\"color: #008080; text-decoration-color: #008080; font-weight: bold\">4</span><span style=\"color: #008080; text-decoration-color: #008080; font-weight: bold\"> :</span> 2233445566778899aabbcceeff0a0011 -&gt; d0b09ccde830b9eb3a02c4c5aa8ada98 \n",
       "</pre>\n"
      ],
      "text/plain": [
       "\u001b[1;36m \u001b[0m\u001b[1;36m4\u001b[0m\u001b[1;36m :\u001b[0m 2233445566778899aabbcceeff0a0011 -> d0b09ccde830b9eb3a02c4c5aa8ada98 \n"
      ]
     },
     "metadata": {},
     "output_type": "display_data"
    },
    {
     "data": {
      "text/html": [
       "<pre style=\"white-space:pre;overflow-x:auto;line-height:normal;font-family:Menlo,'DejaVu Sans Mono',consolas,'Courier New',monospace\"><span style=\"color: #008080; text-decoration-color: #008080; font-weight: bold\"> Шифр :</span> 7f679d90bebc24305a468d42b9d4edcd \n",
       "</pre>\n"
      ],
      "text/plain": [
       "\u001b[1;36m Шифр :\u001b[0m 7f679d90bebc24305a468d42b9d4edcd \n"
      ]
     },
     "metadata": {},
     "output_type": "display_data"
    },
    {
     "data": {
      "text/html": [
       "<pre style=\"white-space:pre;overflow-x:auto;line-height:normal;font-family:Menlo,'DejaVu Sans Mono',consolas,'Courier New',monospace\"><span style=\"color: #008080; text-decoration-color: #008080; font-weight: bold\"> Расшифр. :</span> 1122334455667700ffeeddccbbaa9988 \n",
       "</pre>\n"
      ],
      "text/plain": [
       "\u001b[1;36m Расшифр. :\u001b[0m 1122334455667700ffeeddccbbaa9988 \n"
      ]
     },
     "metadata": {},
     "output_type": "display_data"
    },
    {
     "data": {
      "text/html": [
       "<pre style=\"white-space:pre;overflow-x:auto;line-height:normal;font-family:Menlo,'DejaVu Sans Mono',consolas,'Courier New',monospace\"><span style=\"color: #008080; text-decoration-color: #008080; font-weight: bold\"> Шифр :</span> b429912c6e0032f9285452d76718d08b \n",
       "</pre>\n"
      ],
      "text/plain": [
       "\u001b[1;36m Шифр :\u001b[0m b429912c6e0032f9285452d76718d08b \n"
      ]
     },
     "metadata": {},
     "output_type": "display_data"
    },
    {
     "data": {
      "text/html": [
       "<pre style=\"white-space:pre;overflow-x:auto;line-height:normal;font-family:Menlo,'DejaVu Sans Mono',consolas,'Courier New',monospace\"><span style=\"color: #008080; text-decoration-color: #008080; font-weight: bold\"> Расшифр. :</span> 00112233445566778899aabbcceeff0a \n",
       "</pre>\n"
      ],
      "text/plain": [
       "\u001b[1;36m Расшифр. :\u001b[0m 00112233445566778899aabbcceeff0a \n"
      ]
     },
     "metadata": {},
     "output_type": "display_data"
    },
    {
     "data": {
      "text/html": [
       "<pre style=\"white-space:pre;overflow-x:auto;line-height:normal;font-family:Menlo,'DejaVu Sans Mono',consolas,'Courier New',monospace\"><span style=\"color: #008080; text-decoration-color: #008080; font-weight: bold\"> Шифр :</span> f0ca33549d247ceef3f5a5313bd4b157 \n",
       "</pre>\n"
      ],
      "text/plain": [
       "\u001b[1;36m Шифр :\u001b[0m f0ca33549d247ceef3f5a5313bd4b157 \n"
      ]
     },
     "metadata": {},
     "output_type": "display_data"
    },
    {
     "data": {
      "text/html": [
       "<pre style=\"white-space:pre;overflow-x:auto;line-height:normal;font-family:Menlo,'DejaVu Sans Mono',consolas,'Courier New',monospace\"><span style=\"color: #008080; text-decoration-color: #008080; font-weight: bold\"> Расшифр. :</span> 112233445566778899aabbcceeff0a00 \n",
       "</pre>\n"
      ],
      "text/plain": [
       "\u001b[1;36m Расшифр. :\u001b[0m 112233445566778899aabbcceeff0a00 \n"
      ]
     },
     "metadata": {},
     "output_type": "display_data"
    },
    {
     "data": {
      "text/html": [
       "<pre style=\"white-space:pre;overflow-x:auto;line-height:normal;font-family:Menlo,'DejaVu Sans Mono',consolas,'Courier New',monospace\"><span style=\"color: #008080; text-decoration-color: #008080; font-weight: bold\"> Шифр :</span> d0b09ccde830b9eb3a02c4c5aa8ada98 \n",
       "</pre>\n"
      ],
      "text/plain": [
       "\u001b[1;36m Шифр :\u001b[0m d0b09ccde830b9eb3a02c4c5aa8ada98 \n"
      ]
     },
     "metadata": {},
     "output_type": "display_data"
    },
    {
     "data": {
      "text/html": [
       "<pre style=\"white-space:pre;overflow-x:auto;line-height:normal;font-family:Menlo,'DejaVu Sans Mono',consolas,'Courier New',monospace\"><span style=\"color: #008080; text-decoration-color: #008080; font-weight: bold\"> Расшифр. :</span> 2233445566778899aabbcceeff0a0011 \n",
       "</pre>\n"
      ],
      "text/plain": [
       "\u001b[1;36m Расшифр. :\u001b[0m 2233445566778899aabbcceeff0a0011 \n"
      ]
     },
     "metadata": {},
     "output_type": "display_data"
    },
    {
     "data": {
      "text/html": [
       "<pre style=\"white-space:pre;overflow-x:auto;line-height:normal;font-family:Menlo,'DejaVu Sans Mono',consolas,'Courier New',monospace\"><span style=\"color: #000000; text-decoration-color: #000000; background-color: #ffffff; font-weight: bold\"> Тест на пословице и тексте </span>\n",
       "</pre>\n"
      ],
      "text/plain": [
       "\u001b[1;30;107m Тест на пословице и тексте \u001b[0m\n"
      ]
     },
     "metadata": {},
     "output_type": "display_data"
    },
    {
     "data": {
      "text/html": [
       "<pre style=\"white-space:pre;overflow-x:auto;line-height:normal;font-family:Menlo,'DejaVu Sans Mono',consolas,'Courier New',monospace\"><span style=\"font-weight: bold\">{</span><span style=\"color: #008000; text-decoration-color: #008000\">'key'</span>: <span style=\"color: #008000; text-decoration-color: #008000\">'8899aabbccddeeff0011223344556677fedcba98765432100123456789abcdef'</span><span style=\"font-weight: bold\">}</span>\n",
       "</pre>\n"
      ],
      "text/plain": [
       "\u001b[1m{\u001b[0m\u001b[32m'key'\u001b[0m: \u001b[32m'8899aabbccddeeff0011223344556677fedcba98765432100123456789abcdef'\u001b[0m\u001b[1m}\u001b[0m\n"
      ]
     },
     "metadata": {},
     "output_type": "display_data"
    },
    {
     "data": {
      "text/html": [
       "<pre style=\"white-space:pre;overflow-x:auto;line-height:normal;font-family:Menlo,'DejaVu Sans Mono',consolas,'Courier New',monospace\"><span style=\"color: #008080; text-decoration-color: #008080; font-weight: bold\"> Шифровка пословицы :</span> 6ebfd7bd81c40359c3f14e35603d26194260de134eda3c9a568ab36e7c15ee30a1ff51b\n",
       "fab0dd79863cc60fe4b5e0d7f717c89b0a0d3928027787a3eaeee3301f14463a540ac1a2b9c6197c9123b3ff455f0\n",
       "ed22544fe92c9dee65de10f52fc2155886f0801bcef93e206be79d603c949d773c8d7047ae4552d0a3bfdd04df8e \n",
       "</pre>\n"
      ],
      "text/plain": [
       "\u001b[1;36m Шифровка пословицы :\u001b[0m 6ebfd7bd81c40359c3f14e35603d26194260de134eda3c9a568ab36e7c15ee30a1ff51b\n",
       "fab0dd79863cc60fe4b5e0d7f717c89b0a0d3928027787a3eaeee3301f14463a540ac1a2b9c6197c9123b3ff455f0\n",
       "ed22544fe92c9dee65de10f52fc2155886f0801bcef93e206be79d603c949d773c8d7047ae4552d0a3bfdd04df8e \n"
      ]
     },
     "metadata": {},
     "output_type": "display_data"
    },
    {
     "data": {
      "text/html": [
       "<pre style=\"white-space:pre;overflow-x:auto;line-height:normal;font-family:Menlo,'DejaVu Sans Mono',consolas,'Courier New',monospace\"><span style=\"color: #008080; text-decoration-color: #008080; font-weight: bold\"> Расшифровка пословицы :</span> тотзптктохочетестьяйцазптдолженпримиритьсяскудахтаньемтчк \n",
       "</pre>\n"
      ],
      "text/plain": [
       "\u001b[1;36m Расшифровка пословицы :\u001b[0m тотзптктохочетестьяйцазптдолженпримиритьсяскудахтаньемтчк \n"
      ]
     },
     "metadata": {},
     "output_type": "display_data"
    },
    {
     "data": {
      "text/html": [
       "<pre style=\"white-space:pre;overflow-x:auto;line-height:normal;font-family:Menlo,'DejaVu Sans Mono',consolas,'Courier New',monospace\"><span style=\"color: #008080; text-decoration-color: #008080; font-weight: bold\"> Шифровка </span><span style=\"color: #008080; text-decoration-color: #008080; font-weight: bold\">1000</span><span style=\"color: #008080; text-decoration-color: #008080; font-weight: bold\"> :</span> 98860aff191b5e7599b67999d590123a79228fa23f557aef3b5a285e75911466a57a472ebfd8\n",
       "d449ec5f219f1a75e61b7f87df4c38f918fde2e237d7f33e70869b69cb1f46ee48d2c5393957e3e99ac9c082edff4\n",
       "85f1ea1597b441de69495b383ec43c3bcc92d122478a34f02a42e146d23733689cf5b1766deb2f1a7d02c5a30397b\n",
       "451eb51eebc2b97fe480a3310dbeb42df7d17af3e8c0fd888c0ee2284da3c8c479a4772893971244201a435a02132\n",
       "d6768b0505e8a95ef3e927dcdbddad6253f0bad02056195d4f87077ea3dfd3a862d4d4493ac2a12c7a48b2ec24ba4\n",
       "7494887b8d4b223d3bc24c75bde75d912318b7f2b45a65cb32baaade20226e399459f89caf995e988f26203ab8e17\n",
       "b0fa22b9836fe89ec349434b3cfa77d31242a6c6016fdbe013936c31e9082a83ef6fdcb1a0bdd98c972d9a6cdd8bb\n",
       "12b390fc9d92d18bd274da404e8824dafb7127a0b62d427a176e043dde4e38a07fc5b0d2b6ebb3d98f669f8986b90\n",
       "52a009baf9f8a245997948c1a65207616a661597a9ae39cb1fd9e2da2dce9a8de577b9a97740c69f091338756288e\n",
       "9ed0e4153de33f7b1afdd0ae6012239d0e9bec173ccb847289cba37ed4cb620c10fb524696fb0233328673cc5ca83\n",
       "bf7260fd1f3db8977ae1e059f8bf00989c428184a6f081dbbe167e579ab5d91bd74dc9ab2ca4954edefb240a894fd\n",
       "0ff1886ccc93cc0648cfafa3158e8b01cc255b041ec6f994242a8124b5e31f21d88f374882c1b20fa9b392f949e5e\n",
       "1f1e6739c92c23392f7e7fda2ba0f134328eaf0662afe9a17280354f8dc3295dbc414cf5eb7236ca5a7259458b34a\n",
       "c785372928bd23884ff41a59a90e2fae60e33c2c947137062097d1379ade60b48b848173aa8df865ad23da51a2ffe\n",
       "1d8e64f3d18d9104f07b296b5b4d1511c6b7c00bce8bd03a16b9f6cfc239137a35efd3971134d9849f41fc792b71e\n",
       "29506bb14f6790a94bea47c8c3cdd91f0e9a5088e36d78b5b3da2087341e9ce148a655822ed4717cc3623a4ec2fef\n",
       "afea65152bbb38044f05d1f600d7e0ac55677d19ea9417cb6d4394d54938180b39a8a7cdcbf4676ce94e5fdee0040\n",
       "52b659e8b3d128f2f23776ff95359f4ea0e3b005c47b95259fa1681f08c6392d80a21d25fcc6b19a1704ecf59e034\n",
       "d582594cff8b75bd51e333d9b8916952db5e8f5cd1d7d6bb9b87c814ee761bbe4fa89ce3d939d9fd892458aaf31f3\n",
       "c149d5c1845a6e0d443bf3151592c3291eb8fe8ababcf6b63556eebe4221843903965b4c6efc58272e8b847105474\n",
       "66ce8fdddf1896c3047d93e9fa7437c9ace4b3ad18d9baf2726dc0961e6779b7a9ef2f567d08a389e112fdfc415ef\n",
       "92814529c9de9bd61f43e24851dd4385bcced8c72293c1e06dcdec60d6f6e192e3e6c598195c31cbc35ff7b0d9aa1\n",
       "d96620ad57f247558dde8bc2b53d4955b6b7e28e4ab0bff9bd68641862e2bbcd83111ca76f244a6358632ceeaf5df\n",
       "6e7c48ad9a7220b162efae9ade60b48b848173aa8df865ad23da51a2ffe1d8e64f3d18d9104f07b296b5b4d1511c6\n",
       "b7c00bce8bd03a16b9f6cfc23289eb0fc16d4aee90986958f749d0d191d3c70a2ff735695f2b97e172d45d92acc93\n",
       "19babd8b8ff4535b553df248ef4717fe00713438b3567ab0cbbce18fd21b9dffffdaa7cf0beb904f7974454168011\n",
       "2b5f351e81e114573fdad04b07f61e2b9c793fdf7bdb2ae574b99ef91e9120d084315d287df7151e8ee7f71467dfb\n",
       "2d2c994f55ecf856d9224109d67c561f6bd728fa564b4b2a920f537eb087039322e0611895869149b443141ed2bf2\n",
       "e2c1492d124eff41585d3e3f0841e2699d834c675c7f5851324a169f527913a73b59df07712dad7b9a58ead16931b\n",
       "637a0bbb63253cb8e6d2dbe7eb69acbce4e236158bff98f53b863669ca26f77a4edf769f5b63108eff2bff093de86\n",
       "0e484cec00494f5ea2b809a160f28f38d1bb41c5e00e6f531fbb071e26f1cab0a58af7fbbccca98ac412bde557b07\n",
       "90d24f0ab59b517712b847d1b1f1873d0cf0e8da7d32b3827e1969816a1149ab20aba1f520764f9ac084129f52fc6\n",
       "e2c067adfde2ce9276904163770516dd5ce909ebb8f8ceddae2f11e85a712e60c31500c1e3a1e21953a796b71f11a\n",
       "7c2ca7cecb8a5834f12259017f1524ef76d1926e93e959150562b56523263e4609c3752b7fcd992716a4dbf50e309\n",
       "6b2c73ed90a8fbe0379593c6046adc61978ab71e4ec637b99a178a7056e9565bfd03a71f46875dffcbb2e1e3d0f4a\n",
       "c0528ae05644873004eb104b44f24a882254a542d7e0cdd8d90ebd61d85e41c6767bbf307f1191d92a069312d45bb\n",
       "7c6caa71f85fa3f97d8e04ec6a51d8a42570a2632278edab726f8c4dbf180a23de14d9ac6fac2d9233509c36047ff\n",
       "3838b607a13ec1522be28b533559b96b8905ed921725c69ed3341decf43c7e6686c46bddf373e16d1e5898473af1f\n",
       "4422714c56eb0d360b74b334624876f17b473d11cf6925610d4f9b57384625324fcfad1dc2effc35c1f9c5976ded6\n",
       "c44ebfbabd61d4b39549a8746d98865ab4506e8da0991cafb7a77b830cabea9216f2ca6b38d9a2dfd0da8d787a0ae\n",
       "7842ce9e3362ee0e744a01e36bb8b33c7a499af2c9ae51776230b64ed944a830412e1cc0d41ec989908feda7fa115\n",
       "7c7d03fbad4e9fe6ab09ad9bffdd20a051a6528e6d229824431fde8c4a4edacc8100ba75f91f1d981e142ae38305a\n",
       "fdcc94009939bc295b08a694036d840e2d27a6c13c76dfd3779a4bb0e77056d020cd24a16867fe689dc4267ee1b36\n",
       "97f65fae69eb232e26ab505b15dfc9e9852966246066f5585c1b5a61c29d694dae073c52381e0be932ddd7e940ffe\n",
       "2e1431c4875594631c6530c325573b727c391cbe12a473f1138c3fc1e41b2642c533677614540b0bd0306d8b1aefd\n",
       "2f075fa4c3606ae351921aca867254e521e9f44cf48b615616acf9e0bb59b4f8c0661a1085370d5e54b1a6820b03b\n",
       "0d5156f3c5d09832af4f6d82d00bbdc13880ddebe80d4b857eca4270fa973d3e7d461f0cd00a9c2d45cf0511204e5\n",
       "4fbe5d391586447ea649133418e39177774b5d460e0c9e39252e36ae6ee49c95eeded0705535eea21c8a90c3f8c9a\n",
       "93da4d281f628d94aa7d638685b144aa0537b0732f67cbb0f3d6471bec2bf68f08bc86792284089390ea70629b1af\n",
       "dc97ee80923f99599c75238e092792e31496ed90a8a8a40f4da175c5e2e085181ae40c372cd6c93d6ed8579952427\n",
       "e5f1fd3f45c6ccf68c0233d2e3f4fbed784d748585c806567fe5d569d3cacf60695c9e73f48fc540f3be3d3cba06c\n",
       "27f62e04a5a47f8bc992b8cb58e0acbdac9a0481f3859cf1729715f53be2ed59ff15de558c16331e80c6946f5c0f0\n",
       "d49150c990055b4f0b59a24b88916af0827128eb710dc30128b29d10eb2261b5bfc5b40860a04adb58185344567a7\n",
       "c331574edb424e0f81f1be5c3223d23d86c6291041b8e7027817d2f94e21abe43f7e8d9e2be9b47814596219c683b\n",
       "a63a8db9d6ade75a771cfb480aaac773123dc9343bd2733c2f5dca6d856c27bba06759dfe535c1f501a9018a13a95\n",
       "c35cf13e8b02706905f09f30e22c40259c5076d7b62c04943519f2fef8c542eb4a7a0014190016b1d8f08c3253013\n",
       "0644daad6a7475ce61ff3d340d125f6b1f98c9a7a29e0e845c7fae2e27099ada5080bf1ebb8eafb60a169b52c0524\n",
       "bcd8347e6892f4fee9087a523436 \n",
       "</pre>\n"
      ],
      "text/plain": [
       "\u001b[1;36m Шифровка \u001b[0m\u001b[1;36m1000\u001b[0m\u001b[1;36m :\u001b[0m 98860aff191b5e7599b67999d590123a79228fa23f557aef3b5a285e75911466a57a472ebfd8\n",
       "d449ec5f219f1a75e61b7f87df4c38f918fde2e237d7f33e70869b69cb1f46ee48d2c5393957e3e99ac9c082edff4\n",
       "85f1ea1597b441de69495b383ec43c3bcc92d122478a34f02a42e146d23733689cf5b1766deb2f1a7d02c5a30397b\n",
       "451eb51eebc2b97fe480a3310dbeb42df7d17af3e8c0fd888c0ee2284da3c8c479a4772893971244201a435a02132\n",
       "d6768b0505e8a95ef3e927dcdbddad6253f0bad02056195d4f87077ea3dfd3a862d4d4493ac2a12c7a48b2ec24ba4\n",
       "7494887b8d4b223d3bc24c75bde75d912318b7f2b45a65cb32baaade20226e399459f89caf995e988f26203ab8e17\n",
       "b0fa22b9836fe89ec349434b3cfa77d31242a6c6016fdbe013936c31e9082a83ef6fdcb1a0bdd98c972d9a6cdd8bb\n",
       "12b390fc9d92d18bd274da404e8824dafb7127a0b62d427a176e043dde4e38a07fc5b0d2b6ebb3d98f669f8986b90\n",
       "52a009baf9f8a245997948c1a65207616a661597a9ae39cb1fd9e2da2dce9a8de577b9a97740c69f091338756288e\n",
       "9ed0e4153de33f7b1afdd0ae6012239d0e9bec173ccb847289cba37ed4cb620c10fb524696fb0233328673cc5ca83\n",
       "bf7260fd1f3db8977ae1e059f8bf00989c428184a6f081dbbe167e579ab5d91bd74dc9ab2ca4954edefb240a894fd\n",
       "0ff1886ccc93cc0648cfafa3158e8b01cc255b041ec6f994242a8124b5e31f21d88f374882c1b20fa9b392f949e5e\n",
       "1f1e6739c92c23392f7e7fda2ba0f134328eaf0662afe9a17280354f8dc3295dbc414cf5eb7236ca5a7259458b34a\n",
       "c785372928bd23884ff41a59a90e2fae60e33c2c947137062097d1379ade60b48b848173aa8df865ad23da51a2ffe\n",
       "1d8e64f3d18d9104f07b296b5b4d1511c6b7c00bce8bd03a16b9f6cfc239137a35efd3971134d9849f41fc792b71e\n",
       "29506bb14f6790a94bea47c8c3cdd91f0e9a5088e36d78b5b3da2087341e9ce148a655822ed4717cc3623a4ec2fef\n",
       "afea65152bbb38044f05d1f600d7e0ac55677d19ea9417cb6d4394d54938180b39a8a7cdcbf4676ce94e5fdee0040\n",
       "52b659e8b3d128f2f23776ff95359f4ea0e3b005c47b95259fa1681f08c6392d80a21d25fcc6b19a1704ecf59e034\n",
       "d582594cff8b75bd51e333d9b8916952db5e8f5cd1d7d6bb9b87c814ee761bbe4fa89ce3d939d9fd892458aaf31f3\n",
       "c149d5c1845a6e0d443bf3151592c3291eb8fe8ababcf6b63556eebe4221843903965b4c6efc58272e8b847105474\n",
       "66ce8fdddf1896c3047d93e9fa7437c9ace4b3ad18d9baf2726dc0961e6779b7a9ef2f567d08a389e112fdfc415ef\n",
       "92814529c9de9bd61f43e24851dd4385bcced8c72293c1e06dcdec60d6f6e192e3e6c598195c31cbc35ff7b0d9aa1\n",
       "d96620ad57f247558dde8bc2b53d4955b6b7e28e4ab0bff9bd68641862e2bbcd83111ca76f244a6358632ceeaf5df\n",
       "6e7c48ad9a7220b162efae9ade60b48b848173aa8df865ad23da51a2ffe1d8e64f3d18d9104f07b296b5b4d1511c6\n",
       "b7c00bce8bd03a16b9f6cfc23289eb0fc16d4aee90986958f749d0d191d3c70a2ff735695f2b97e172d45d92acc93\n",
       "19babd8b8ff4535b553df248ef4717fe00713438b3567ab0cbbce18fd21b9dffffdaa7cf0beb904f7974454168011\n",
       "2b5f351e81e114573fdad04b07f61e2b9c793fdf7bdb2ae574b99ef91e9120d084315d287df7151e8ee7f71467dfb\n",
       "2d2c994f55ecf856d9224109d67c561f6bd728fa564b4b2a920f537eb087039322e0611895869149b443141ed2bf2\n",
       "e2c1492d124eff41585d3e3f0841e2699d834c675c7f5851324a169f527913a73b59df07712dad7b9a58ead16931b\n",
       "637a0bbb63253cb8e6d2dbe7eb69acbce4e236158bff98f53b863669ca26f77a4edf769f5b63108eff2bff093de86\n",
       "0e484cec00494f5ea2b809a160f28f38d1bb41c5e00e6f531fbb071e26f1cab0a58af7fbbccca98ac412bde557b07\n",
       "90d24f0ab59b517712b847d1b1f1873d0cf0e8da7d32b3827e1969816a1149ab20aba1f520764f9ac084129f52fc6\n",
       "e2c067adfde2ce9276904163770516dd5ce909ebb8f8ceddae2f11e85a712e60c31500c1e3a1e21953a796b71f11a\n",
       "7c2ca7cecb8a5834f12259017f1524ef76d1926e93e959150562b56523263e4609c3752b7fcd992716a4dbf50e309\n",
       "6b2c73ed90a8fbe0379593c6046adc61978ab71e4ec637b99a178a7056e9565bfd03a71f46875dffcbb2e1e3d0f4a\n",
       "c0528ae05644873004eb104b44f24a882254a542d7e0cdd8d90ebd61d85e41c6767bbf307f1191d92a069312d45bb\n",
       "7c6caa71f85fa3f97d8e04ec6a51d8a42570a2632278edab726f8c4dbf180a23de14d9ac6fac2d9233509c36047ff\n",
       "3838b607a13ec1522be28b533559b96b8905ed921725c69ed3341decf43c7e6686c46bddf373e16d1e5898473af1f\n",
       "4422714c56eb0d360b74b334624876f17b473d11cf6925610d4f9b57384625324fcfad1dc2effc35c1f9c5976ded6\n",
       "c44ebfbabd61d4b39549a8746d98865ab4506e8da0991cafb7a77b830cabea9216f2ca6b38d9a2dfd0da8d787a0ae\n",
       "7842ce9e3362ee0e744a01e36bb8b33c7a499af2c9ae51776230b64ed944a830412e1cc0d41ec989908feda7fa115\n",
       "7c7d03fbad4e9fe6ab09ad9bffdd20a051a6528e6d229824431fde8c4a4edacc8100ba75f91f1d981e142ae38305a\n",
       "fdcc94009939bc295b08a694036d840e2d27a6c13c76dfd3779a4bb0e77056d020cd24a16867fe689dc4267ee1b36\n",
       "97f65fae69eb232e26ab505b15dfc9e9852966246066f5585c1b5a61c29d694dae073c52381e0be932ddd7e940ffe\n",
       "2e1431c4875594631c6530c325573b727c391cbe12a473f1138c3fc1e41b2642c533677614540b0bd0306d8b1aefd\n",
       "2f075fa4c3606ae351921aca867254e521e9f44cf48b615616acf9e0bb59b4f8c0661a1085370d5e54b1a6820b03b\n",
       "0d5156f3c5d09832af4f6d82d00bbdc13880ddebe80d4b857eca4270fa973d3e7d461f0cd00a9c2d45cf0511204e5\n",
       "4fbe5d391586447ea649133418e39177774b5d460e0c9e39252e36ae6ee49c95eeded0705535eea21c8a90c3f8c9a\n",
       "93da4d281f628d94aa7d638685b144aa0537b0732f67cbb0f3d6471bec2bf68f08bc86792284089390ea70629b1af\n",
       "dc97ee80923f99599c75238e092792e31496ed90a8a8a40f4da175c5e2e085181ae40c372cd6c93d6ed8579952427\n",
       "e5f1fd3f45c6ccf68c0233d2e3f4fbed784d748585c806567fe5d569d3cacf60695c9e73f48fc540f3be3d3cba06c\n",
       "27f62e04a5a47f8bc992b8cb58e0acbdac9a0481f3859cf1729715f53be2ed59ff15de558c16331e80c6946f5c0f0\n",
       "d49150c990055b4f0b59a24b88916af0827128eb710dc30128b29d10eb2261b5bfc5b40860a04adb58185344567a7\n",
       "c331574edb424e0f81f1be5c3223d23d86c6291041b8e7027817d2f94e21abe43f7e8d9e2be9b47814596219c683b\n",
       "a63a8db9d6ade75a771cfb480aaac773123dc9343bd2733c2f5dca6d856c27bba06759dfe535c1f501a9018a13a95\n",
       "c35cf13e8b02706905f09f30e22c40259c5076d7b62c04943519f2fef8c542eb4a7a0014190016b1d8f08c3253013\n",
       "0644daad6a7475ce61ff3d340d125f6b1f98c9a7a29e0e845c7fae2e27099ada5080bf1ebb8eafb60a169b52c0524\n",
       "bcd8347e6892f4fee9087a523436 \n"
      ]
     },
     "metadata": {},
     "output_type": "display_data"
    },
    {
     "data": {
      "text/html": [
       "<pre style=\"white-space:pre;overflow-x:auto;line-height:normal;font-family:Menlo,'DejaVu Sans Mono',consolas,'Courier New',monospace\"><span style=\"color: #008080; text-decoration-color: #008080; font-weight: bold\"> Расшифровка </span><span style=\"color: #008080; text-decoration-color: #008080; font-weight: bold\">1000</span><span style=\"color: #008080; text-decoration-color: #008080; font-weight: bold\"> :</span> современныетехнологиидостиглитакогоуровнязптчтовыбранныйнамиинновационный\n",
       "путьпредполагаетнезависимыеспособыреализациисоответствующихусловийактивизациитчкпринимаявовни\n",
       "маниепоказателиуспешностизптноваямодельорганизационнойдеятельностизптатакжесвежийвзгляднаприв\n",
       "ычныевещитиребезусловнооткрываетновыегоризонтыдляукрепленияморальныхценностейтчклишьсделанные\n",
       "набазеинтернеттиреаналитикивыводынеоднозначныибудутобнародованытчкясностьнашейпозицииочевидна\n",
       "высокотехнологичнаяконцепцияобщественногоукладапредполагаетнезависимыеспособыреализацииукрепл\n",
       "енияморальныхценностейтчкпреждевсегозпткурснасоциальнотиреориентированныйнациональныйпроектзп\n",
       "татакжесвежийвзгляднапривычныевещитиребезусловнооткрываетновыегоризонтыдляэкспериментовзптпор\n",
       "ажающихпосвоеймасштабностииграндиозноститчксдругойсторонызптреализациянамеченныхплановыхзадан\n",
       "ийсоздаётпредпосылкидлявыводатекущихактивовтчкмывынужденыотталкиватьсяоттогозптчтопониманиесу\n",
       "тиресурсосберегающихтехнологийоднозначноопределяеткаждогоучастникакакспособногоприниматьсобст\n",
       "венныерешениякасаемокаксамодостаточныхзпттакивнешнезависимыхконцептуальныхрешенийтчкясностьна\n",
       "шейпозицииочевиднаглубокийуровеньпогруженияспособствуетповышениюкачестваприоритизацииразумана\n",
       "дэмоциямитчквчастностизптсемантическийразборвнешнихпротиводействийвлечетзасобойпроцессвнедрен\n",
       "ияимодернизациипоставленныхобществомзадач \n",
       "</pre>\n"
      ],
      "text/plain": [
       "\u001b[1;36m Расшифровка \u001b[0m\u001b[1;36m1000\u001b[0m\u001b[1;36m :\u001b[0m современныетехнологиидостиглитакогоуровнязптчтовыбранныйнамиинновационный\n",
       "путьпредполагаетнезависимыеспособыреализациисоответствующихусловийактивизациитчкпринимаявовни\n",
       "маниепоказателиуспешностизптноваямодельорганизационнойдеятельностизптатакжесвежийвзгляднаприв\n",
       "ычныевещитиребезусловнооткрываетновыегоризонтыдляукрепленияморальныхценностейтчклишьсделанные\n",
       "набазеинтернеттиреаналитикивыводынеоднозначныибудутобнародованытчкясностьнашейпозицииочевидна\n",
       "высокотехнологичнаяконцепцияобщественногоукладапредполагаетнезависимыеспособыреализацииукрепл\n",
       "енияморальныхценностейтчкпреждевсегозпткурснасоциальнотиреориентированныйнациональныйпроектзп\n",
       "татакжесвежийвзгляднапривычныевещитиребезусловнооткрываетновыегоризонтыдляэкспериментовзптпор\n",
       "ажающихпосвоеймасштабностииграндиозноститчксдругойсторонызптреализациянамеченныхплановыхзадан\n",
       "ийсоздаётпредпосылкидлявыводатекущихактивовтчкмывынужденыотталкиватьсяоттогозптчтопониманиесу\n",
       "тиресурсосберегающихтехнологийоднозначноопределяеткаждогоучастникакакспособногоприниматьсобст\n",
       "венныерешениякасаемокаксамодостаточныхзпттакивнешнезависимыхконцептуальныхрешенийтчкясностьна\n",
       "шейпозицииочевиднаглубокийуровеньпогруженияспособствуетповышениюкачестваприоритизацииразумана\n",
       "дэмоциямитчквчастностизптсемантическийразборвнешнихпротиводействийвлечетзасобойпроцессвнедрен\n",
       "ияимодернизациипоставленныхобществомзадач \n"
      ]
     },
     "metadata": {},
     "output_type": "display_data"
    }
   ],
   "source": [
    "from lib_crypto.b7.Kuznyechik_3413_ECB import main\n",
    "main()\n"
   ]
  },
  {
   "cell_type": "code",
   "execution_count": 5,
   "metadata": {},
   "outputs": [
    {
     "data": {
      "text/html": [
       "<pre style=\"white-space:pre;overflow-x:auto;line-height:normal;font-family:Menlo,'DejaVu Sans Mono',consolas,'Courier New',monospace\"><span style=\"color: #000000; text-decoration-color: #000000; background-color: #ffffff; font-weight: bold\"> Пример из ГОСТ Р </span><span style=\"color: #000000; text-decoration-color: #000000; background-color: #ffffff; font-weight: bold\">34.12</span><span style=\"color: #000000; text-decoration-color: #000000; background-color: #ffffff; font-weight: bold\">-</span><span style=\"color: #000000; text-decoration-color: #000000; background-color: #ffffff; font-weight: bold\">2015</span><span style=\"color: #000000; text-decoration-color: #000000; background-color: #ffffff; font-weight: bold\"> </span>\n",
       "</pre>\n"
      ],
      "text/plain": [
       "\u001b[1;30;107m Пример из ГОСТ Р \u001b[0m\u001b[1;30;107m34.12\u001b[0m\u001b[1;30;107m-\u001b[0m\u001b[1;30;107m2015\u001b[0m\u001b[1;30;107m \u001b[0m\n"
      ]
     },
     "metadata": {},
     "output_type": "display_data"
    },
    {
     "data": {
      "text/html": [
       "<pre style=\"white-space:pre;overflow-x:auto;line-height:normal;font-family:Menlo,'DejaVu Sans Mono',consolas,'Courier New',monospace\"><span style=\"color: #008080; text-decoration-color: #008080; font-weight: bold\"> Сообщение :</span> fedcba9876543210 \n",
       "</pre>\n"
      ],
      "text/plain": [
       "\u001b[1;36m Сообщение :\u001b[0m fedcba9876543210 \n"
      ]
     },
     "metadata": {},
     "output_type": "display_data"
    },
    {
     "data": {
      "text/html": [
       "<pre style=\"white-space:pre;overflow-x:auto;line-height:normal;font-family:Menlo,'DejaVu Sans Mono',consolas,'Courier New',monospace\"><span style=\"color: #008080; text-decoration-color: #008080; font-weight: bold\"> Ключ :</span> ffeeddccbbaa99887766554433221100f0f1f2f3f4f5f6f7f8f9fafbfcfdfeff \n",
       "</pre>\n"
      ],
      "text/plain": [
       "\u001b[1;36m Ключ :\u001b[0m ffeeddccbbaa99887766554433221100f0f1f2f3f4f5f6f7f8f9fafbfcfdfeff \n"
      ]
     },
     "metadata": {},
     "output_type": "display_data"
    },
    {
     "data": {
      "text/html": [
       "<pre style=\"white-space:pre;overflow-x:auto;line-height:normal;font-family:Menlo,'DejaVu Sans Mono',consolas,'Courier New',monospace\"><span style=\"color: #008080; text-decoration-color: #008080; font-weight: bold\"> Шифровка :</span> 4ee901e5c2d8ca3d \n",
       "</pre>\n"
      ],
      "text/plain": [
       "\u001b[1;36m Шифровка :\u001b[0m 4ee901e5c2d8ca3d \n"
      ]
     },
     "metadata": {},
     "output_type": "display_data"
    },
    {
     "data": {
      "text/html": [
       "<pre style=\"white-space:pre;overflow-x:auto;line-height:normal;font-family:Menlo,'DejaVu Sans Mono',consolas,'Courier New',monospace\"><span style=\"color: #008080; text-decoration-color: #008080; font-weight: bold\"> Расшифровка :</span> fedcba9876543210 \n",
       "</pre>\n"
      ],
      "text/plain": [
       "\u001b[1;36m Расшифровка :\u001b[0m fedcba9876543210 \n"
      ]
     },
     "metadata": {},
     "output_type": "display_data"
    }
   ],
   "source": [
    "from lib_crypto.b7.Magma import main\n",
    "main()"
   ]
  },
  {
   "cell_type": "code",
   "execution_count": 6,
   "metadata": {},
   "outputs": [
    {
     "data": {
      "text/html": [
       "<pre style=\"white-space:pre;overflow-x:auto;line-height:normal;font-family:Menlo,'DejaVu Sans Mono',consolas,'Courier New',monospace\"><span style=\"color: #000000; text-decoration-color: #000000; background-color: #ffffff; font-weight: bold\"> Тест на пословице и </span><span style=\"color: #000000; text-decoration-color: #000000; background-color: #ffffff; font-weight: bold\">1000</span><span style=\"color: #000000; text-decoration-color: #000000; background-color: #ffffff; font-weight: bold\"> </span>\n",
       "</pre>\n"
      ],
      "text/plain": [
       "\u001b[1;30;107m Тест на пословице и \u001b[0m\u001b[1;30;107m1000\u001b[0m\u001b[1;30;107m \u001b[0m\n"
      ]
     },
     "metadata": {},
     "output_type": "display_data"
    },
    {
     "data": {
      "text/html": [
       "<pre style=\"white-space:pre;overflow-x:auto;line-height:normal;font-family:Menlo,'DejaVu Sans Mono',consolas,'Courier New',monospace\"><span style=\"color: #008080; text-decoration-color: #008080; font-weight: bold\"> Шифр пословицы :</span> 1fb04c16f6bb77482b16f76e91ceb658fa0c4ec118e2c30ce4318b85dc4178e22ffb75201bb\n",
       "3ad4b7a385d385b43818dde7a03f9d1ec10b31b99bbe8a6659792a19092862901d323c4f795ad21b8efcb634d46d7\n",
       "8c33497fd820998c26eacc3d8f97f8857b36fb8113fac66be3818118ba142274e36e26ffe3a7b4a6398fe5cb \n",
       "</pre>\n"
      ],
      "text/plain": [
       "\u001b[1;36m Шифр пословицы :\u001b[0m 1fb04c16f6bb77482b16f76e91ceb658fa0c4ec118e2c30ce4318b85dc4178e22ffb75201bb\n",
       "3ad4b7a385d385b43818dde7a03f9d1ec10b31b99bbe8a6659792a19092862901d323c4f795ad21b8efcb634d46d7\n",
       "8c33497fd820998c26eacc3d8f97f8857b36fb8113fac66be3818118ba142274e36e26ffe3a7b4a6398fe5cb \n"
      ]
     },
     "metadata": {},
     "output_type": "display_data"
    },
    {
     "data": {
      "text/html": [
       "<pre style=\"white-space:pre;overflow-x:auto;line-height:normal;font-family:Menlo,'DejaVu Sans Mono',consolas,'Courier New',monospace\"><span style=\"color: #008080; text-decoration-color: #008080; font-weight: bold\"> Расшифровка :</span> Тот зпт кто хочет есть яйца зпт должен примириться с кудахтаньем тчк \n",
       "</pre>\n"
      ],
      "text/plain": [
       "\u001b[1;36m Расшифровка :\u001b[0m Тот зпт кто хочет есть яйца зпт должен примириться с кудахтаньем тчк \n"
      ]
     },
     "metadata": {},
     "output_type": "display_data"
    },
    {
     "data": {
      "text/html": [
       "<pre style=\"white-space:pre;overflow-x:auto;line-height:normal;font-family:Menlo,'DejaVu Sans Mono',consolas,'Courier New',monospace\"><span style=\"color: #008080; text-decoration-color: #008080; font-weight: bold\"> Шифр </span><span style=\"color: #008080; text-decoration-color: #008080; font-weight: bold\">1000</span><span style=\"color: #008080; text-decoration-color: #008080; font-weight: bold\"> :</span> 311cc485e25cf0be0a9a164c710e12caa87fa8cfc603b29af619a61434460d1a45bf110e4103c8a8\n",
       "90d6345e69b58d5ad92df58c3948609f91c667c97a05c1559e8dfcf6c020567aad7329172fc1b751a0e05146c9d95\n",
       "3b103c51bfedf6ca3160058d19fbb5dfac17d8600d5f887f99e525bb872add94af425696e0701623094ffaa9e2257\n",
       "ac285d73d26a7c2c8f011a8f1e068f5a21fd0e963f9637b1d0a86db25890e033aa676ac2b24a5da0785db160a69fd\n",
       "d6ac538feb293dceff32687d88aa4f3a3c517b12f647bd3198527e1f8a0f07e615956c37092b3678e0f84eda5b783\n",
       "81d4b9265c0c445083da83f6f8a2c2a0fc975dc15ef276ca5afe39dcd2ae34bb9d46720b52fcf3e54ed22d65c24a6\n",
       "ad4eebd8d5dfb4a7192bc16203a0f9ba25b31daffde7de08134935e499728fe577c966e62ee47d5b554e160f98a39\n",
       "da003452e0730a277b06735f2abadeddd0d4b803fa3ece906649ea01b61d9fadf79b9f635cda52c73735c8a07e83b\n",
       "b170a6a6154c5937a85195d48152cfb16950f7de516425e02f41118d946af2af4a96f703af31ac1b010b526a88366\n",
       "6f6a279d57ea8fc2eee95ba0a2971dd7df8b2467f355dd03bef2d7893b336c5a810c342169189464f0c04274c6040\n",
       "d1008d3c23965e5bcc0cf1d4cbf0ee96b0871eefa573515673ec509b8223de59be1537857d5ea76c70b91137939f1\n",
       "972cde1f2544480a1d39bc5e71554a07c08280d6ab24102eb796b0970550082d7e36a1adfd183cc81c6213a144034\n",
       "eb56142fbe188884f249b7ac5f9da11add74fb2ce4052c641a2622e9d33146fd786fca7b19cfbc2ee769871aba3c4\n",
       "d930ff71bb0001d0210fed44773c874959979541b48cdd2c6bfb3921e14610933d43d73e2e7be39d57e1fcb9653a1\n",
       "29bdd4d1b1f933cf4b446bb6e10508911b2a5646d4a608f2f7e05845e543ec4c5a99c14f35aac8b51ac4ad6492265\n",
       "077c3dc902ec7f0c9b3a382bdbe31814a1ad8ab6e39528d0ee57a2a23407179c9b80b0d4eb911c293b02eb9177d7e\n",
       "b0d18e017c4dd7296b1005e861377de420a34a6b65245b703dbff470e1cd38aeb0c894b7075ea1b9f8b69c514ee05\n",
       "d3b7dea8477b7546bdd9569c26f20340337a4ac099db918a0ebfe306453a83e3d8d918756230aa011905148b873c4\n",
       "84e288c5c4776913c3042c22a8486c8808c65e5bcc0cf1d4cbf28848828056289845610ef56ff2e6ab5c65664e945\n",
       "24049cc97d502fab1df8a709d40b99b1cdebdf0033b33a0fa8b59124c6d666c6829a87f0c7fb49e2eaf7ef99b4eca\n",
       "9cbab7d75d8f8486b312d9e9f73fb26a2dae81fd4a120e8420128f376002ad4fbf78ce1f983b43c45ad68db6539f2\n",
       "a770f43890c3f4c3ebb91db1aa9bae60f62e5a69ad5e89236104ff33ad181135c2b3ae61ccac092e3af3d34b20492\n",
       "55eceb36a1d3b85387f61a1fb0475b0776297e2544db6dd9722f83db5d500cea9ffd01ce276c9444369f3bd2c635f\n",
       "50c6204bcdaf8c69b8f63918bbd3b5f826be8dfe46d5102be09194920783ec24817a49c7704b4d133174f9b751154\n",
       "04920d3728b17c1c6857874cf768114958a86b52994ea3b9fe9fb37005b9d4bf971920dc57f40e14eb5a2047fb4f9\n",
       "5739c62c2926b195dc9fad06e2d77d45d2acef1126888f61b796c1062fc4f47f4c4c08f1d3728b17c1c68578932fe\n",
       "1a9dbfdee319625f2a28a633e10428f2963072224f97d8600d5f887f99ee42dbd97e77f55cba65e2323b96a325a79\n",
       "43bee79726494fd1b3ed6c8eec7c3108f897e87b4037cdea9b81acf5a658c89cf58e69873b78498e434f1f608b0d8\n",
       "8679db18499193b7a56e4b74ceb5dab41a29e034c4b709cc09efbc857823eaa6c259d1f7bc8b20bafd08c172d3d16\n",
       "80f1e7be0b1e27374aa5db58718893aa40908bcf7a6a5e8f81dbaedd03ff701922130829e91b138adf0e44e64672f\n",
       "9c0e9e019bdc832904256507e71e202203992c90434a136c20981f66009a8bcc09b7c42b804c4ebd07047c7f56dfa\n",
       "59903c10aae79c364775c72a6b64ebb3f8d6f6984026d074001e4e9dee28283e6f57c01f245bda67fe2d66f78f187\n",
       "8685b5b4b2a84117bbdee1fdfc717645416b9a47bdb9065e5bcc0cf1d4cbfdea4f4e36f01913c4e7b002c8d9cd9d8\n",
       "31fdd09d9eb24cc358248c649de2ad34372d3fbb50c88bbb0313ce4a877f191259b561d9aac5f79e8843f835b1d07\n",
       "08f09334a5722d81e67b3a34320f5530cabe2eb5dccd12e53d3dab166880fb1ffa2f084d13fb90a8d94d9683f8747\n",
       "f68f28e35240659c7079282d54e84b5356c3f9b6e14ecc4c0d6a8fa568e2e42705de3aa45f3b34b47aedd2f517a31\n",
       "e64f1470b2e88177b8a35c445510cf1742431ca55093156e355fca4edd5ed27711bc4a52c6a0dc6e51df2a989a73b\n",
       "2b3647d047cdf67763d43f9e457ceebb6b5480d0442e82312ee0d427e4a06e8aa03154d11f240ff6ec3d59db83ff0\n",
       "0ae3146772158c0047fe1c34ff15c99b1dd2d01f1aae0e94ab2712b7535531c76a0a24e33dd44c8940a09e3adcf9c\n",
       "5c442fbfa9f3d3dd820c69705acc5a0d658b41255660d458f5d75a7ca5a7ab81fb0b5f6a0f2a9ab6c5696e79c54d8\n",
       "e29efd2ec31dc8a33e124d3608a3e435084a7f71fceca01f83554f619a61434460d1a45bf110e4103c8a8cfbf74bc\n",
       "53e5990910ca7ebc846009969bc8c70cf4c22926eadfa0015f3821c581bc2ec60a4cdc5f2aa2263638b3fdc245d58\n",
       "1fd717637e1fe323de80e9e3a98e64a959172fc4042c94eb7a8cec728bfb7b67cb833a994f2a0f07e615956c3709c\n",
       "f3a50885b0c1c19cdda725c4ddec46a05ba0a2c41ee3dfa449c3e864fedcf5052f77b7646fd8db0c74c499b56c692\n",
       "b8a0a5701a6536e1719ed019c7d2280d2362390bb5523cc18f2989a3d1aef01b10449581e67d72dd1dd77e37625f5\n",
       "155f416330de522ce90c4b39c8a896a6ff9a219fcb3324a40b161356c53f09b5db13b5d77d3baae5b03790c89de04\n",
       "e960c908f315964155b64f4011ee52de429f460c5a339e5f5fc5d25bae5b511c8d71119c78fe3ebf21d09255ec282\n",
       "f98049258ea30c3947703fc43aa97558142bd97248d8b9b2f9c0c1a8f2553d01bc38bbe4dda05c991a4459ae9a5c9\n",
       "bf6d26d072c6e7bd1ca933b3b1588df543cc7987cf54fae3d3ffa05c3aacf71a0eb22471beff3b004e79b72c39f70\n",
       "4deb198e0eb763687d8735191a5c88cf39831e39e386cd68fe4abe0c5bde3501ff9917a6124ae4063ef71adafd98d\n",
       "7a1833a1fd38c4535c10a8c6833529cd8050872f27e7c3fd3ba11b2d73f466b9f40eb4d93a152c936e2732cd5255d\n",
       "196d2082b95e2f8618dd8523c42d80f43e768b4f82001c1b6ca72df355dd03bef2d789f2dfdcd1b909757d5f7ea6a\n",
       "acd718ee35a42120116034b6cf87e1c5cb1aefbce8ba0c3319ea15c90351dd601e4b9338c1baeb58f535bf6b6c83f\n",
       "c25e11a61217b88799adbf1e5a3b469c40ab8b0636e934ff6f8f1aff607e1354e7815c9c8cddef9edb35fa6c6d44b\n",
       "1218327e62c910a9ad1a3dbe9fab3e8711308e53832dc22b5ef12ddac592620763771ada8d8eb0073ca9e872383e2\n",
       "22162fe8054731b3e86e7f97db951a9030cf58226dadaa839942737cc8cf3b5c0552f9eecbefa6d9dcbde38aaf8f4\n",
       "ca008c4df492eaf4e0b431996d7f7e5b5fae517a98e1d1cee94e8e0ea9c2ba2e06d946ec80aab102e8b870a188da9\n",
       "b53fd8c09bcf3e8b3dd139b9bf8eb2b8f77e0e8083b43c45ad68db6539f2a770f43890c377e10cd8acb124b8639af\n",
       "c76b2a6725d \n",
       "</pre>\n"
      ],
      "text/plain": [
       "\u001b[1;36m Шифр \u001b[0m\u001b[1;36m1000\u001b[0m\u001b[1;36m :\u001b[0m 311cc485e25cf0be0a9a164c710e12caa87fa8cfc603b29af619a61434460d1a45bf110e4103c8a8\n",
       "90d6345e69b58d5ad92df58c3948609f91c667c97a05c1559e8dfcf6c020567aad7329172fc1b751a0e05146c9d95\n",
       "3b103c51bfedf6ca3160058d19fbb5dfac17d8600d5f887f99e525bb872add94af425696e0701623094ffaa9e2257\n",
       "ac285d73d26a7c2c8f011a8f1e068f5a21fd0e963f9637b1d0a86db25890e033aa676ac2b24a5da0785db160a69fd\n",
       "d6ac538feb293dceff32687d88aa4f3a3c517b12f647bd3198527e1f8a0f07e615956c37092b3678e0f84eda5b783\n",
       "81d4b9265c0c445083da83f6f8a2c2a0fc975dc15ef276ca5afe39dcd2ae34bb9d46720b52fcf3e54ed22d65c24a6\n",
       "ad4eebd8d5dfb4a7192bc16203a0f9ba25b31daffde7de08134935e499728fe577c966e62ee47d5b554e160f98a39\n",
       "da003452e0730a277b06735f2abadeddd0d4b803fa3ece906649ea01b61d9fadf79b9f635cda52c73735c8a07e83b\n",
       "b170a6a6154c5937a85195d48152cfb16950f7de516425e02f41118d946af2af4a96f703af31ac1b010b526a88366\n",
       "6f6a279d57ea8fc2eee95ba0a2971dd7df8b2467f355dd03bef2d7893b336c5a810c342169189464f0c04274c6040\n",
       "d1008d3c23965e5bcc0cf1d4cbf0ee96b0871eefa573515673ec509b8223de59be1537857d5ea76c70b91137939f1\n",
       "972cde1f2544480a1d39bc5e71554a07c08280d6ab24102eb796b0970550082d7e36a1adfd183cc81c6213a144034\n",
       "eb56142fbe188884f249b7ac5f9da11add74fb2ce4052c641a2622e9d33146fd786fca7b19cfbc2ee769871aba3c4\n",
       "d930ff71bb0001d0210fed44773c874959979541b48cdd2c6bfb3921e14610933d43d73e2e7be39d57e1fcb9653a1\n",
       "29bdd4d1b1f933cf4b446bb6e10508911b2a5646d4a608f2f7e05845e543ec4c5a99c14f35aac8b51ac4ad6492265\n",
       "077c3dc902ec7f0c9b3a382bdbe31814a1ad8ab6e39528d0ee57a2a23407179c9b80b0d4eb911c293b02eb9177d7e\n",
       "b0d18e017c4dd7296b1005e861377de420a34a6b65245b703dbff470e1cd38aeb0c894b7075ea1b9f8b69c514ee05\n",
       "d3b7dea8477b7546bdd9569c26f20340337a4ac099db918a0ebfe306453a83e3d8d918756230aa011905148b873c4\n",
       "84e288c5c4776913c3042c22a8486c8808c65e5bcc0cf1d4cbf28848828056289845610ef56ff2e6ab5c65664e945\n",
       "24049cc97d502fab1df8a709d40b99b1cdebdf0033b33a0fa8b59124c6d666c6829a87f0c7fb49e2eaf7ef99b4eca\n",
       "9cbab7d75d8f8486b312d9e9f73fb26a2dae81fd4a120e8420128f376002ad4fbf78ce1f983b43c45ad68db6539f2\n",
       "a770f43890c3f4c3ebb91db1aa9bae60f62e5a69ad5e89236104ff33ad181135c2b3ae61ccac092e3af3d34b20492\n",
       "55eceb36a1d3b85387f61a1fb0475b0776297e2544db6dd9722f83db5d500cea9ffd01ce276c9444369f3bd2c635f\n",
       "50c6204bcdaf8c69b8f63918bbd3b5f826be8dfe46d5102be09194920783ec24817a49c7704b4d133174f9b751154\n",
       "04920d3728b17c1c6857874cf768114958a86b52994ea3b9fe9fb37005b9d4bf971920dc57f40e14eb5a2047fb4f9\n",
       "5739c62c2926b195dc9fad06e2d77d45d2acef1126888f61b796c1062fc4f47f4c4c08f1d3728b17c1c68578932fe\n",
       "1a9dbfdee319625f2a28a633e10428f2963072224f97d8600d5f887f99ee42dbd97e77f55cba65e2323b96a325a79\n",
       "43bee79726494fd1b3ed6c8eec7c3108f897e87b4037cdea9b81acf5a658c89cf58e69873b78498e434f1f608b0d8\n",
       "8679db18499193b7a56e4b74ceb5dab41a29e034c4b709cc09efbc857823eaa6c259d1f7bc8b20bafd08c172d3d16\n",
       "80f1e7be0b1e27374aa5db58718893aa40908bcf7a6a5e8f81dbaedd03ff701922130829e91b138adf0e44e64672f\n",
       "9c0e9e019bdc832904256507e71e202203992c90434a136c20981f66009a8bcc09b7c42b804c4ebd07047c7f56dfa\n",
       "59903c10aae79c364775c72a6b64ebb3f8d6f6984026d074001e4e9dee28283e6f57c01f245bda67fe2d66f78f187\n",
       "8685b5b4b2a84117bbdee1fdfc717645416b9a47bdb9065e5bcc0cf1d4cbfdea4f4e36f01913c4e7b002c8d9cd9d8\n",
       "31fdd09d9eb24cc358248c649de2ad34372d3fbb50c88bbb0313ce4a877f191259b561d9aac5f79e8843f835b1d07\n",
       "08f09334a5722d81e67b3a34320f5530cabe2eb5dccd12e53d3dab166880fb1ffa2f084d13fb90a8d94d9683f8747\n",
       "f68f28e35240659c7079282d54e84b5356c3f9b6e14ecc4c0d6a8fa568e2e42705de3aa45f3b34b47aedd2f517a31\n",
       "e64f1470b2e88177b8a35c445510cf1742431ca55093156e355fca4edd5ed27711bc4a52c6a0dc6e51df2a989a73b\n",
       "2b3647d047cdf67763d43f9e457ceebb6b5480d0442e82312ee0d427e4a06e8aa03154d11f240ff6ec3d59db83ff0\n",
       "0ae3146772158c0047fe1c34ff15c99b1dd2d01f1aae0e94ab2712b7535531c76a0a24e33dd44c8940a09e3adcf9c\n",
       "5c442fbfa9f3d3dd820c69705acc5a0d658b41255660d458f5d75a7ca5a7ab81fb0b5f6a0f2a9ab6c5696e79c54d8\n",
       "e29efd2ec31dc8a33e124d3608a3e435084a7f71fceca01f83554f619a61434460d1a45bf110e4103c8a8cfbf74bc\n",
       "53e5990910ca7ebc846009969bc8c70cf4c22926eadfa0015f3821c581bc2ec60a4cdc5f2aa2263638b3fdc245d58\n",
       "1fd717637e1fe323de80e9e3a98e64a959172fc4042c94eb7a8cec728bfb7b67cb833a994f2a0f07e615956c3709c\n",
       "f3a50885b0c1c19cdda725c4ddec46a05ba0a2c41ee3dfa449c3e864fedcf5052f77b7646fd8db0c74c499b56c692\n",
       "b8a0a5701a6536e1719ed019c7d2280d2362390bb5523cc18f2989a3d1aef01b10449581e67d72dd1dd77e37625f5\n",
       "155f416330de522ce90c4b39c8a896a6ff9a219fcb3324a40b161356c53f09b5db13b5d77d3baae5b03790c89de04\n",
       "e960c908f315964155b64f4011ee52de429f460c5a339e5f5fc5d25bae5b511c8d71119c78fe3ebf21d09255ec282\n",
       "f98049258ea30c3947703fc43aa97558142bd97248d8b9b2f9c0c1a8f2553d01bc38bbe4dda05c991a4459ae9a5c9\n",
       "bf6d26d072c6e7bd1ca933b3b1588df543cc7987cf54fae3d3ffa05c3aacf71a0eb22471beff3b004e79b72c39f70\n",
       "4deb198e0eb763687d8735191a5c88cf39831e39e386cd68fe4abe0c5bde3501ff9917a6124ae4063ef71adafd98d\n",
       "7a1833a1fd38c4535c10a8c6833529cd8050872f27e7c3fd3ba11b2d73f466b9f40eb4d93a152c936e2732cd5255d\n",
       "196d2082b95e2f8618dd8523c42d80f43e768b4f82001c1b6ca72df355dd03bef2d789f2dfdcd1b909757d5f7ea6a\n",
       "acd718ee35a42120116034b6cf87e1c5cb1aefbce8ba0c3319ea15c90351dd601e4b9338c1baeb58f535bf6b6c83f\n",
       "c25e11a61217b88799adbf1e5a3b469c40ab8b0636e934ff6f8f1aff607e1354e7815c9c8cddef9edb35fa6c6d44b\n",
       "1218327e62c910a9ad1a3dbe9fab3e8711308e53832dc22b5ef12ddac592620763771ada8d8eb0073ca9e872383e2\n",
       "22162fe8054731b3e86e7f97db951a9030cf58226dadaa839942737cc8cf3b5c0552f9eecbefa6d9dcbde38aaf8f4\n",
       "ca008c4df492eaf4e0b431996d7f7e5b5fae517a98e1d1cee94e8e0ea9c2ba2e06d946ec80aab102e8b870a188da9\n",
       "b53fd8c09bcf3e8b3dd139b9bf8eb2b8f77e0e8083b43c45ad68db6539f2a770f43890c377e10cd8acb124b8639af\n",
       "c76b2a6725d \n"
      ]
     },
     "metadata": {},
     "output_type": "display_data"
    },
    {
     "data": {
      "text/html": [
       "<pre style=\"white-space:pre;overflow-x:auto;line-height:normal;font-family:Menlo,'DejaVu Sans Mono',consolas,'Courier New',monospace\"><span style=\"color: #008080; text-decoration-color: #008080; font-weight: bold\"> Расшифровка :</span> Современные технологии достигли такого уровня, что выбранный нами \n",
       "инновационный путь предполагает независимые способы реализации соответствующих условий \n",
       "активизации. Принимая во внимание показатели успешности, новая модель организационной \n",
       "деятельности, а также свежий взгляд на привычные вещи - безусловно открывает новые горизонты \n",
       "для укрепления моральных ценностей. Лишь сделанные на базе интернет-аналитики выводы \n",
       "неоднозначны и будут обнародованы. Ясность нашей позиции очевидна: высокотехнологичная \n",
       "концепция общественного уклада предполагает независимые способы реализации укрепления \n",
       "моральных ценностей.\n",
       "Прежде всего, курс на социально-ориентированный национальный проект, а также свежий взгляд на\n",
       "привычные вещи - безусловно открывает новые горизонты для экспериментов, поражающих по своей \n",
       "масштабности и грандиозности. С другой стороны, реализация намеченных плановых заданий \n",
       "создаёт предпосылки для вывода текущих активов. Мы вынуждены отталкиваться от того, что \n",
       "понимание сути ресурсосберегающих технологий однозначно определяет каждого участника как \n",
       "способного принимать собственные решения касаемо как самодостаточных, так и внешне зависимых \n",
       "концептуальных решений. Ясность нашей позиции очевидна: глубокий уровень погружения \n",
       "способствует повышению качества приоритизации разума над эмоциями. В частности, семантический\n",
       "разбор внешних противодействий влечет за собой процесс внедрения и модернизации поставленных \n",
       "обществом задач\n",
       " \n",
       "</pre>\n"
      ],
      "text/plain": [
       "\u001b[1;36m Расшифровка :\u001b[0m Современные технологии достигли такого уровня, что выбранный нами \n",
       "инновационный путь предполагает независимые способы реализации соответствующих условий \n",
       "активизации. Принимая во внимание показатели успешности, новая модель организационной \n",
       "деятельности, а также свежий взгляд на привычные вещи - безусловно открывает новые горизонты \n",
       "для укрепления моральных ценностей. Лишь сделанные на базе интернет-аналитики выводы \n",
       "неоднозначны и будут обнародованы. Ясность нашей позиции очевидна: высокотехнологичная \n",
       "концепция общественного уклада предполагает независимые способы реализации укрепления \n",
       "моральных ценностей.\n",
       "Прежде всего, курс на социально-ориентированный национальный проект, а также свежий взгляд на\n",
       "привычные вещи - безусловно открывает новые горизонты для экспериментов, поражающих по своей \n",
       "масштабности и грандиозности. С другой стороны, реализация намеченных плановых заданий \n",
       "создаёт предпосылки для вывода текущих активов. Мы вынуждены отталкиваться от того, что \n",
       "понимание сути ресурсосберегающих технологий однозначно определяет каждого участника как \n",
       "способного принимать собственные решения касаемо как самодостаточных, так и внешне зависимых \n",
       "концептуальных решений. Ясность нашей позиции очевидна: глубокий уровень погружения \n",
       "способствует повышению качества приоритизации разума над эмоциями. В частности, семантический\n",
       "разбор внешних противодействий влечет за собой процесс внедрения и модернизации поставленных \n",
       "обществом задач\n",
       " \n"
      ]
     },
     "metadata": {},
     "output_type": "display_data"
    }
   ],
   "source": [
    "from lib_crypto.b7.Magma_ECB import main\n",
    "main()"
   ]
  }
 ],
 "metadata": {
  "interpreter": {
   "hash": "de9d6d611b58e56d80ebb10caa04eac0b07151589a55d916166b9d3e9db69c15"
  },
  "kernelspec": {
   "display_name": "Python 3.8.7 64-bit ('env': venv)",
   "language": "python",
   "name": "python3"
  },
  "language_info": {
   "codemirror_mode": {
    "name": "ipython",
    "version": 3
   },
   "file_extension": ".py",
   "mimetype": "text/x-python",
   "name": "python",
   "nbconvert_exporter": "python",
   "pygments_lexer": "ipython3",
   "version": "3.8.7"
  },
  "orig_nbformat": 4
 },
 "nbformat": 4,
 "nbformat_minor": 2
}
