{
 "cells": [
  {
   "cell_type": "code",
   "execution_count": 7,
   "metadata": {},
   "outputs": [],
   "source": [
    "from sys import path\n",
    "path.append(\"../../\")"
   ]
  },
  {
   "cell_type": "code",
   "execution_count": 8,
   "metadata": {},
   "outputs": [
    {
     "data": {
      "text/html": [
       "<pre style=\"white-space:pre;overflow-x:auto;line-height:normal;font-family:Menlo,'DejaVu Sans Mono',consolas,'Courier New',monospace\"><span style=\"color: #008080; text-decoration-color: #008080; font-weight: bold\"> Сообщение :</span> 3243f6a8885a308d313198a2e0370734 \n",
       "</pre>\n"
      ],
      "text/plain": [
       "\u001b[1;36m Сообщение :\u001b[0m 3243f6a8885a308d313198a2e0370734 \n"
      ]
     },
     "metadata": {},
     "output_type": "display_data"
    },
    {
     "data": {
      "text/html": [
       "<pre style=\"white-space:pre;overflow-x:auto;line-height:normal;font-family:Menlo,'DejaVu Sans Mono',consolas,'Courier New',monospace\"><span style=\"color: #008080; text-decoration-color: #008080; font-weight: bold\"> Ключ :</span> 2b7e151628aed2a6abf7158809cf4f3c \n",
       "</pre>\n"
      ],
      "text/plain": [
       "\u001b[1;36m Ключ :\u001b[0m 2b7e151628aed2a6abf7158809cf4f3c \n"
      ]
     },
     "metadata": {},
     "output_type": "display_data"
    },
    {
     "data": {
      "text/html": [
       "<pre style=\"white-space:pre;overflow-x:auto;line-height:normal;font-family:Menlo,'DejaVu Sans Mono',consolas,'Courier New',monospace\"><span style=\"color: #008080; text-decoration-color: #008080; font-weight: bold\"> Шифровка по стандарту :</span> 3925841d02dc09fbdc118597196a0b32 \n",
       "</pre>\n"
      ],
      "text/plain": [
       "\u001b[1;36m Шифровка по стандарту :\u001b[0m 3925841d02dc09fbdc118597196a0b32 \n"
      ]
     },
     "metadata": {},
     "output_type": "display_data"
    },
    {
     "data": {
      "text/html": [
       "<pre style=\"white-space:pre;overflow-x:auto;line-height:normal;font-family:Menlo,'DejaVu Sans Mono',consolas,'Courier New',monospace\"><span style=\"color: #008080; text-decoration-color: #008080; font-weight: bold\"> Шифровка Тест :</span> e508570a7c7f244ce4410d8204e30a36138c5442269a96b5b1d633855e97c46db73b8ea77f38\n",
       "4b2b83b244a895ce1b43fd8689ba6e0b9cb995b36478ece78044a4d10da7aa666ddad4b1b6000abb9c79e43a1d1e1\n",
       "edf77e5b6c0b4654083e68248437668e0b61868135ba0d083d801a29d020d6e629ba4919fd7055bb36ab11d \n",
       "</pre>\n"
      ],
      "text/plain": [
       "\u001b[1;36m Шифровка Тест :\u001b[0m e508570a7c7f244ce4410d8204e30a36138c5442269a96b5b1d633855e97c46db73b8ea77f38\n",
       "4b2b83b244a895ce1b43fd8689ba6e0b9cb995b36478ece78044a4d10da7aa666ddad4b1b6000abb9c79e43a1d1e1\n",
       "edf77e5b6c0b4654083e68248437668e0b61868135ba0d083d801a29d020d6e629ba4919fd7055bb36ab11d \n"
      ]
     },
     "metadata": {},
     "output_type": "display_data"
    },
    {
     "data": {
      "text/html": [
       "<pre style=\"white-space:pre;overflow-x:auto;line-height:normal;font-family:Menlo,'DejaVu Sans Mono',consolas,'Courier New',monospace\"><span style=\"color: #008080; text-decoration-color: #008080; font-weight: bold\"> Расшифрока :</span> Тот зпт кто хочет есть яйца зпт должен примириться с кудахтаньем тчк \n",
       "</pre>\n"
      ],
      "text/plain": [
       "\u001b[1;36m Расшифрока :\u001b[0m Тот зпт кто хочет есть яйца зпт должен примириться с кудахтаньем тчк \n"
      ]
     },
     "metadata": {},
     "output_type": "display_data"
    },
    {
     "data": {
      "text/html": [
       "<pre style=\"white-space:pre;overflow-x:auto;line-height:normal;font-family:Menlo,'DejaVu Sans Mono',consolas,'Courier New',monospace\"><span style=\"color: #008080; text-decoration-color: #008080; font-weight: bold\"> Шифровка </span><span style=\"color: #008080; text-decoration-color: #008080; font-weight: bold\">1000</span><span style=\"color: #008080; text-decoration-color: #008080; font-weight: bold\"> :</span> d6b5d81d9446893c2cb8d768e9da5d07ca0f6a359199951baa46c363c9f2ee938b051890ec00\n",
       "2f7df8033e561e2128021ecded4d5c22f23446a36e7812076b9cf77445a92be99c5f9a362fb9f302ed42b9e9b183b\n",
       "9d073e1bbf7f3cbf6633579939a874032a2ecb08e9ba37dec32b15c870d152d16cc74d1b5b3d650a4768509b6ed9f\n",
       "c85c82549b2ac3a2d3fa427cc1dd4f79a1d02689859728c349d094a1a177af133fcfda10ee91bc7853163bf0fce9d\n",
       "a0ff27854819132408171d9112096cc0ffeb0feec4e324c2903f7c52d0969b2ef3146ecaee0be9780d0cbd1db7f5f\n",
       "6a1d9e5f9eb59367dcc912d20f6e6201bb501f9bcc63908a6f951f590eb0be694bda4d1c17024ca48bfe028fbb98a\n",
       "c378bfc20e74bffa64b866e035a3d18d53e0342ea979c2bc0165321813dfcbe604211af251b12e245d38c2da7b903\n",
       "6725cada96e1ba24876ca79458cabab044bad69570cdf1090ea0b3b2901645983e5c532cc46c34ce2e44c9257e98a\n",
       "42a97aaebf597cf3111416751c2854352b551095e19df146dd6da949fa3344e6a0c63d84db6859d2e2f61222e7ef6\n",
       "62946bb127dc7c5b82f1a48e7aeea9221c3c68ed85fb08afc9de8563359d26497343e21a526a7ddb687d9a299c545\n",
       "88c587a60118caaf6ded151d9fbc21e232b0f35c5d055c9b460358d4bece6ec1c31a26cb27726528f42d80359a22d\n",
       "1e26923298d15163f5d9e54099334a5bea64086e39d0d4c9ace95a17d6ac3f5cbac3b8b692acb7ca9e445d3c9bef3\n",
       "6c0251208e82f96398b46278e23a85f3cc5b6ea6d80848d7237ae6858ee9e92352b2dc67b7e0f90bc32d337a52819\n",
       "54c53a554e14112156e2e35fa06d2172103169ceea6b9e36ccae12c7559686078512c032a94dd7502fa7c71489642\n",
       "6035a8cf022008b994694c42e386ce8dbff6377606e22ff222436d80a2904f421b1bf6602feef45417360abb5c3a7\n",
       "269c190823ed56598c47402776459f903e984344cef6d608ce97a7f0b304c0d4b6de6133eb60b412a81b3ce79a975\n",
       "3e5a567aeacb03e85c646dac5f968ac6053fe774c2add1d9fac0cfe58fd9aa1f8e0fbf5f8a8ee05db7c399e1fb64b\n",
       "314f273e86c6c52385efff269543f163617f2d6c02af9edeb33133028a083c05a543db3d3504054c39b9e9d5e2b94\n",
       "08d3cc7a5ff12498da8b52e7767d29ccbeb4912f74c6d9d55ab0d8f757cb496bec7739cd171c659f344291b00b540\n",
       "36e90098714ab6678adf52a85553a961bf70c308111ea35e6d4072bc1f4a799f13ff3539e97734e3a468016af4794\n",
       "1921342e711388b5b4e993cc1661329529d00d0ea09283d0373a815b11a41f27eb3f9aff6e9b4c0e383c7b2c2e19c\n",
       "37d578890f61c69e1b5dece4a0fa4d1f6108982fc2af4b7cb6aa7d8e3bdf78860969378f1cc11d7fbf26b71e66e69\n",
       "e17520d7a712edcc80c8b61d17ed78b940d294e2e050315db90e6c5c955e075a28305074699250419073f73cbeb4a\n",
       "10cf7cae0a4a7947f50080b142c3c761a1918eaa1bce7ecbb3ee32db6cc749404feeb0595349b859162d927c79a37\n",
       "cef7bc586d34d9cee3d86237d432f18928c09e9f79e1ae423850dc8276d32de9590a0c04a8709375ba10a0f8d9eb6\n",
       "8eac60fdcf108464328aa9c0eb2653d6e7d40769e55ae40252d8f5141fd88762807091b9b91b105a2ae13de5f1d0f\n",
       "441ec5450fad9e59525d9118b9f21d9af14bb3ab72e0fe93dc0ba4587737642636ee3f0484be0efed399eb35ec21a\n",
       "ee1444330595f4a6e43b9a3b679310449f7cf4e96f6a3d7cd7c5809879b2b9dcfa168f9e00ea2f7b0987ac1dbd3ab\n",
       "f5c43f50dee8f332bc8ba94fc2f49bed256d13f6dc7e3339549ee87a8168071a80b06cfdae20b2d1cc858107d8570\n",
       "e85061cb0db0ce84f041377fa4a941011608527a4ff8d71a3e75d9a5fc157fb744848711e42ed9f2dce91c3070627\n",
       "b6b5d053d036d378b516fdb5efe9adfb07c6ac496b94280109d6a46552d4664f2e9971a1f189876768f4f3e4414c4\n",
       "22407b2e2343c1a0f88d5071c01b61d248ca69286ce75ec49fee26077faa9d33e597fd9054824b3a6d37a4c388afc\n",
       "41194cd81a4c5724803c55d65d39fa05be7eb11ed08a61771393da48ad1d79fdebe9102590e44748e3e3d38e5b5c0\n",
       "bd817e75ec66a06169f1799b82e18d38514f2166f85ef94cbfff638b5d12ed34bd7fa000d1c4d2ab769f18b6ce9d9\n",
       "b94650d6ee7ab64b7c2ed7f91994c9fa9fbc494cd42449709e379c0587ae5d5d795f4049d34d2235fd9194f51e9b7\n",
       "9d84346ff7201f4266ce79d6425dbef3c4008e57b12c35efffd99e2479177cb20f9fab8b9e852dee6abce31f93bac\n",
       "1b1426ca60a3e4aafc9dbbbf146c05dfce1dabc7868491e211a88f6a5ee49115a1367b9328300443a45b643af80b6\n",
       "9eb95b6359829dff4fea3be88c169696f7ee057eaba6dcbc0293b71bca88a37089d9700798d49078195bdc9aedc93\n",
       "1752703ce71cbfbf637c42797600d45ee26fdfafcddf8de3c11276f5180b2de561638e5ff65696aa31a8468da11db\n",
       "353a866e96660e4f169974ed73d71fd58620f289ec2720d054d2cdb4b0bd489ff31030b12bf93f25e54af01c7fafc\n",
       "49c788050d693a7aca7259dce84a6b4fb3aed5343c2fc7133b7b39819a04b1776b44f9a5096ec3146c2c1bbf3d1c7\n",
       "ad87788d4f36d591c31442a86a00b66aa32b186175fd22bdd6780fd35e45f940a37d5303b9e3384ed4112ea2be124\n",
       "df2a6eb6f92d1d877932ca51f2315d9df2187952b12842ecf697a1a5d870f2977a275e401504db9c517a94ce156d6\n",
       "8f477d392287b3f763d41f8672acab8b163f8f0c4f3f8c9b0c3fbf56cc8980834671e4d21da461a282f6f9aca339c\n",
       "987de1db09125749b11af29e6a3400234f208eff413d3414a82673f41e3a752c0df84da1025d56cb2386f7a2e974f\n",
       "14978b4a207124198ff2c3c413f31ccc3da775c46c28e79d6936b76940e92be92d0e924458aca85c1e41e1a2793f1\n",
       "ec1e468e7544e766cc38b5e70aa7b737c8bdf6f53068b0309c0eeac85da13dbf577d480dff4fe614880d2f37f9e91\n",
       "d39eb8f717bbd51185de4e13f64c89e84106a563707ba29580a3631abda470ad3394a703e92b17e1c25e4ff45de9d\n",
       "b445c6322a89242489e41df90c331470256a7a3bc65019fe00a3a97f5101ced8563d9947e500e47c9ed25f0eef142\n",
       "798259f8a38af1c5481113117b5d177081c10f8e6fa68561a61b9513570209c603eb5b641dc4f96d9fce9314cca17\n",
       "fb0d12c2647f898d89608e9778379f26492534a51ae313e1d90364130cf6f45047433c84bc47ad7e0a32fb5166bcd\n",
       "56781671185757eb325168315b9c7c59e9058a87c4ce551b2f47400a50d9e095f88a7d1ff984162c6d963f13c92bf\n",
       "7de69f9b81a6a5bc9147e0a2b918019932e05f9d659b113a496157b9abbbc362fc48c3d06e8db6bdfdf314bb13e05\n",
       "6f627a039992d222f9745296b435cfc216fe38c0b0ce1b1dafd6099826722c6c93977dc67dd1bbb50b1d3a1ddfd1f\n",
       "4036bfbf8b8c3ce5df2746ead8069ac03222e9b5e186396a790659cb8b73c1e6ed3d22063437f9742ce8c8a41d202\n",
       "7b71de5992db7345daef6d01455809602e3496acc44f4263c4e15e7a2833c01af26532423ad142668486df020464c\n",
       "961cd7497516fbb92d753f97584b8aa2e1deb4fc60a8502578ea2ba9fe05f4d3add66fcf5b8c13c176ef2e511caac\n",
       "3834d2416b834847d5f82b15dd029ad19642da5864f8ba4a7257e6649bac5ac21e2580a7e73edad399e6f0bd953ea\n",
       "a412d8e728a90fd408ba1d61d8995d2 \n",
       "</pre>\n"
      ],
      "text/plain": [
       "\u001b[1;36m Шифровка \u001b[0m\u001b[1;36m1000\u001b[0m\u001b[1;36m :\u001b[0m d6b5d81d9446893c2cb8d768e9da5d07ca0f6a359199951baa46c363c9f2ee938b051890ec00\n",
       "2f7df8033e561e2128021ecded4d5c22f23446a36e7812076b9cf77445a92be99c5f9a362fb9f302ed42b9e9b183b\n",
       "9d073e1bbf7f3cbf6633579939a874032a2ecb08e9ba37dec32b15c870d152d16cc74d1b5b3d650a4768509b6ed9f\n",
       "c85c82549b2ac3a2d3fa427cc1dd4f79a1d02689859728c349d094a1a177af133fcfda10ee91bc7853163bf0fce9d\n",
       "a0ff27854819132408171d9112096cc0ffeb0feec4e324c2903f7c52d0969b2ef3146ecaee0be9780d0cbd1db7f5f\n",
       "6a1d9e5f9eb59367dcc912d20f6e6201bb501f9bcc63908a6f951f590eb0be694bda4d1c17024ca48bfe028fbb98a\n",
       "c378bfc20e74bffa64b866e035a3d18d53e0342ea979c2bc0165321813dfcbe604211af251b12e245d38c2da7b903\n",
       "6725cada96e1ba24876ca79458cabab044bad69570cdf1090ea0b3b2901645983e5c532cc46c34ce2e44c9257e98a\n",
       "42a97aaebf597cf3111416751c2854352b551095e19df146dd6da949fa3344e6a0c63d84db6859d2e2f61222e7ef6\n",
       "62946bb127dc7c5b82f1a48e7aeea9221c3c68ed85fb08afc9de8563359d26497343e21a526a7ddb687d9a299c545\n",
       "88c587a60118caaf6ded151d9fbc21e232b0f35c5d055c9b460358d4bece6ec1c31a26cb27726528f42d80359a22d\n",
       "1e26923298d15163f5d9e54099334a5bea64086e39d0d4c9ace95a17d6ac3f5cbac3b8b692acb7ca9e445d3c9bef3\n",
       "6c0251208e82f96398b46278e23a85f3cc5b6ea6d80848d7237ae6858ee9e92352b2dc67b7e0f90bc32d337a52819\n",
       "54c53a554e14112156e2e35fa06d2172103169ceea6b9e36ccae12c7559686078512c032a94dd7502fa7c71489642\n",
       "6035a8cf022008b994694c42e386ce8dbff6377606e22ff222436d80a2904f421b1bf6602feef45417360abb5c3a7\n",
       "269c190823ed56598c47402776459f903e984344cef6d608ce97a7f0b304c0d4b6de6133eb60b412a81b3ce79a975\n",
       "3e5a567aeacb03e85c646dac5f968ac6053fe774c2add1d9fac0cfe58fd9aa1f8e0fbf5f8a8ee05db7c399e1fb64b\n",
       "314f273e86c6c52385efff269543f163617f2d6c02af9edeb33133028a083c05a543db3d3504054c39b9e9d5e2b94\n",
       "08d3cc7a5ff12498da8b52e7767d29ccbeb4912f74c6d9d55ab0d8f757cb496bec7739cd171c659f344291b00b540\n",
       "36e90098714ab6678adf52a85553a961bf70c308111ea35e6d4072bc1f4a799f13ff3539e97734e3a468016af4794\n",
       "1921342e711388b5b4e993cc1661329529d00d0ea09283d0373a815b11a41f27eb3f9aff6e9b4c0e383c7b2c2e19c\n",
       "37d578890f61c69e1b5dece4a0fa4d1f6108982fc2af4b7cb6aa7d8e3bdf78860969378f1cc11d7fbf26b71e66e69\n",
       "e17520d7a712edcc80c8b61d17ed78b940d294e2e050315db90e6c5c955e075a28305074699250419073f73cbeb4a\n",
       "10cf7cae0a4a7947f50080b142c3c761a1918eaa1bce7ecbb3ee32db6cc749404feeb0595349b859162d927c79a37\n",
       "cef7bc586d34d9cee3d86237d432f18928c09e9f79e1ae423850dc8276d32de9590a0c04a8709375ba10a0f8d9eb6\n",
       "8eac60fdcf108464328aa9c0eb2653d6e7d40769e55ae40252d8f5141fd88762807091b9b91b105a2ae13de5f1d0f\n",
       "441ec5450fad9e59525d9118b9f21d9af14bb3ab72e0fe93dc0ba4587737642636ee3f0484be0efed399eb35ec21a\n",
       "ee1444330595f4a6e43b9a3b679310449f7cf4e96f6a3d7cd7c5809879b2b9dcfa168f9e00ea2f7b0987ac1dbd3ab\n",
       "f5c43f50dee8f332bc8ba94fc2f49bed256d13f6dc7e3339549ee87a8168071a80b06cfdae20b2d1cc858107d8570\n",
       "e85061cb0db0ce84f041377fa4a941011608527a4ff8d71a3e75d9a5fc157fb744848711e42ed9f2dce91c3070627\n",
       "b6b5d053d036d378b516fdb5efe9adfb07c6ac496b94280109d6a46552d4664f2e9971a1f189876768f4f3e4414c4\n",
       "22407b2e2343c1a0f88d5071c01b61d248ca69286ce75ec49fee26077faa9d33e597fd9054824b3a6d37a4c388afc\n",
       "41194cd81a4c5724803c55d65d39fa05be7eb11ed08a61771393da48ad1d79fdebe9102590e44748e3e3d38e5b5c0\n",
       "bd817e75ec66a06169f1799b82e18d38514f2166f85ef94cbfff638b5d12ed34bd7fa000d1c4d2ab769f18b6ce9d9\n",
       "b94650d6ee7ab64b7c2ed7f91994c9fa9fbc494cd42449709e379c0587ae5d5d795f4049d34d2235fd9194f51e9b7\n",
       "9d84346ff7201f4266ce79d6425dbef3c4008e57b12c35efffd99e2479177cb20f9fab8b9e852dee6abce31f93bac\n",
       "1b1426ca60a3e4aafc9dbbbf146c05dfce1dabc7868491e211a88f6a5ee49115a1367b9328300443a45b643af80b6\n",
       "9eb95b6359829dff4fea3be88c169696f7ee057eaba6dcbc0293b71bca88a37089d9700798d49078195bdc9aedc93\n",
       "1752703ce71cbfbf637c42797600d45ee26fdfafcddf8de3c11276f5180b2de561638e5ff65696aa31a8468da11db\n",
       "353a866e96660e4f169974ed73d71fd58620f289ec2720d054d2cdb4b0bd489ff31030b12bf93f25e54af01c7fafc\n",
       "49c788050d693a7aca7259dce84a6b4fb3aed5343c2fc7133b7b39819a04b1776b44f9a5096ec3146c2c1bbf3d1c7\n",
       "ad87788d4f36d591c31442a86a00b66aa32b186175fd22bdd6780fd35e45f940a37d5303b9e3384ed4112ea2be124\n",
       "df2a6eb6f92d1d877932ca51f2315d9df2187952b12842ecf697a1a5d870f2977a275e401504db9c517a94ce156d6\n",
       "8f477d392287b3f763d41f8672acab8b163f8f0c4f3f8c9b0c3fbf56cc8980834671e4d21da461a282f6f9aca339c\n",
       "987de1db09125749b11af29e6a3400234f208eff413d3414a82673f41e3a752c0df84da1025d56cb2386f7a2e974f\n",
       "14978b4a207124198ff2c3c413f31ccc3da775c46c28e79d6936b76940e92be92d0e924458aca85c1e41e1a2793f1\n",
       "ec1e468e7544e766cc38b5e70aa7b737c8bdf6f53068b0309c0eeac85da13dbf577d480dff4fe614880d2f37f9e91\n",
       "d39eb8f717bbd51185de4e13f64c89e84106a563707ba29580a3631abda470ad3394a703e92b17e1c25e4ff45de9d\n",
       "b445c6322a89242489e41df90c331470256a7a3bc65019fe00a3a97f5101ced8563d9947e500e47c9ed25f0eef142\n",
       "798259f8a38af1c5481113117b5d177081c10f8e6fa68561a61b9513570209c603eb5b641dc4f96d9fce9314cca17\n",
       "fb0d12c2647f898d89608e9778379f26492534a51ae313e1d90364130cf6f45047433c84bc47ad7e0a32fb5166bcd\n",
       "56781671185757eb325168315b9c7c59e9058a87c4ce551b2f47400a50d9e095f88a7d1ff984162c6d963f13c92bf\n",
       "7de69f9b81a6a5bc9147e0a2b918019932e05f9d659b113a496157b9abbbc362fc48c3d06e8db6bdfdf314bb13e05\n",
       "6f627a039992d222f9745296b435cfc216fe38c0b0ce1b1dafd6099826722c6c93977dc67dd1bbb50b1d3a1ddfd1f\n",
       "4036bfbf8b8c3ce5df2746ead8069ac03222e9b5e186396a790659cb8b73c1e6ed3d22063437f9742ce8c8a41d202\n",
       "7b71de5992db7345daef6d01455809602e3496acc44f4263c4e15e7a2833c01af26532423ad142668486df020464c\n",
       "961cd7497516fbb92d753f97584b8aa2e1deb4fc60a8502578ea2ba9fe05f4d3add66fcf5b8c13c176ef2e511caac\n",
       "3834d2416b834847d5f82b15dd029ad19642da5864f8ba4a7257e6649bac5ac21e2580a7e73edad399e6f0bd953ea\n",
       "a412d8e728a90fd408ba1d61d8995d2 \n"
      ]
     },
     "metadata": {},
     "output_type": "display_data"
    },
    {
     "data": {
      "text/html": [
       "<pre style=\"white-space:pre;overflow-x:auto;line-height:normal;font-family:Menlo,'DejaVu Sans Mono',consolas,'Courier New',monospace\"><span style=\"color: #008080; text-decoration-color: #008080; font-weight: bold\"> Расшифрока :</span> Современные технологии достигли такого уровня, что выбранный нами инновационный\n",
       "путь предполагает независимые способы реализации соответствующих условий активизации. \n",
       "Принимая во внимание показатели успешности, новая модель организационной деятельности, а \n",
       "также свежий взгляд на привычные вещи - безусловно открывает новые горизонты для укрепления \n",
       "моральных ценностей. Лишь сделанные на базе интернет-аналитики выводы неоднозначны и будут \n",
       "обнародованы. Ясность нашей позиции очевидна: высокотехнологичная концепция общественного \n",
       "уклада предполагает независимые способы реализации укрепления моральных ценностей.\n",
       "Прежде всего, курс на социально-ориентированный национальный проект, а также свежий взгляд на\n",
       "привычные вещи - безусловно открывает новые горизонты для экспериментов, поражающих по своей \n",
       "масштабности и грандиозности. С другой стороны, реализация намеченных плановых заданий \n",
       "создаёт предпосылки для вывода текущих активов. Мы вынуждены отталкиваться от того, что \n",
       "понимание сути ресурсосберегающих технологий однозначно определяет каждого участника как \n",
       "способного принимать собственные решения касаемо как самодостаточных, так и внешне зависимых \n",
       "концептуальных решений. Ясность нашей позиции очевидна: глубокий уровень погружения \n",
       "способствует повышению качества приоритизации разума над эмоциями. В частности, семантический\n",
       "разбор внешних противодействий влечет за собой процесс внедрения и модернизации поставленных \n",
       "обществом задач\n",
       " \n",
       "</pre>\n"
      ],
      "text/plain": [
       "\u001b[1;36m Расшифрока :\u001b[0m Современные технологии достигли такого уровня, что выбранный нами инновационный\n",
       "путь предполагает независимые способы реализации соответствующих условий активизации. \n",
       "Принимая во внимание показатели успешности, новая модель организационной деятельности, а \n",
       "также свежий взгляд на привычные вещи - безусловно открывает новые горизонты для укрепления \n",
       "моральных ценностей. Лишь сделанные на базе интернет-аналитики выводы неоднозначны и будут \n",
       "обнародованы. Ясность нашей позиции очевидна: высокотехнологичная концепция общественного \n",
       "уклада предполагает независимые способы реализации укрепления моральных ценностей.\n",
       "Прежде всего, курс на социально-ориентированный национальный проект, а также свежий взгляд на\n",
       "привычные вещи - безусловно открывает новые горизонты для экспериментов, поражающих по своей \n",
       "масштабности и грандиозности. С другой стороны, реализация намеченных плановых заданий \n",
       "создаёт предпосылки для вывода текущих активов. Мы вынуждены отталкиваться от того, что \n",
       "понимание сути ресурсосберегающих технологий однозначно определяет каждого участника как \n",
       "способного принимать собственные решения касаемо как самодостаточных, так и внешне зависимых \n",
       "концептуальных решений. Ясность нашей позиции очевидна: глубокий уровень погружения \n",
       "способствует повышению качества приоритизации разума над эмоциями. В частности, семантический\n",
       "разбор внешних противодействий влечет за собой процесс внедрения и модернизации поставленных \n",
       "обществом задач\n",
       " \n"
      ]
     },
     "metadata": {},
     "output_type": "display_data"
    }
   ],
   "source": [
    "from lib_crypto.b7.AES import main\n",
    "main()"
   ]
  },
  {
   "cell_type": "code",
   "execution_count": 9,
   "metadata": {},
   "outputs": [
    {
     "data": {
      "text/html": [
       "<pre style=\"white-space:pre;overflow-x:auto;line-height:normal;font-family:Menlo,'DejaVu Sans Mono',consolas,'Courier New',monospace\"><span style=\"color: #000000; text-decoration-color: #000000; background-color: #ffffff; font-weight: bold\"> Пример из GOST_R_34_12-</span><span style=\"color: #000000; text-decoration-color: #000000; background-color: #ffffff; font-weight: bold\">2015</span><span style=\"color: #000000; text-decoration-color: #000000; background-color: #ffffff; font-weight: bold\"> </span>\n",
       "</pre>\n"
      ],
      "text/plain": [
       "\u001b[1;30;107m Пример из GOST_R_34_12-\u001b[0m\u001b[1;30;107m2015\u001b[0m\u001b[1;30;107m \u001b[0m\n"
      ]
     },
     "metadata": {},
     "output_type": "display_data"
    },
    {
     "data": {
      "text/html": [
       "<pre style=\"white-space:pre;overflow-x:auto;line-height:normal;font-family:Menlo,'DejaVu Sans Mono',consolas,'Courier New',monospace\"><span style=\"color: #008080; text-decoration-color: #008080; font-weight: bold\"> Открытый текст :</span> 1122334455667700ffeeddccbbaa9988 \n",
       "</pre>\n"
      ],
      "text/plain": [
       "\u001b[1;36m Открытый текст :\u001b[0m 1122334455667700ffeeddccbbaa9988 \n"
      ]
     },
     "metadata": {},
     "output_type": "display_data"
    },
    {
     "data": {
      "text/html": [
       "<pre style=\"white-space:pre;overflow-x:auto;line-height:normal;font-family:Menlo,'DejaVu Sans Mono',consolas,'Courier New',monospace\"><span style=\"color: #008080; text-decoration-color: #008080; font-weight: bold\"> Результат :</span> 7f679d90bebc24305a468d42b9d4edcd \n",
       "</pre>\n"
      ],
      "text/plain": [
       "\u001b[1;36m Результат :\u001b[0m 7f679d90bebc24305a468d42b9d4edcd \n"
      ]
     },
     "metadata": {},
     "output_type": "display_data"
    },
    {
     "data": {
      "text/html": [
       "<pre style=\"white-space:pre;overflow-x:auto;line-height:normal;font-family:Menlo,'DejaVu Sans Mono',consolas,'Courier New',monospace\"><span style=\"color: #008080; text-decoration-color: #008080; font-weight: bold\"> Шифр :</span> 7f679d90bebc24305a468d42b9d4edcd \n",
       "</pre>\n"
      ],
      "text/plain": [
       "\u001b[1;36m Шифр :\u001b[0m 7f679d90bebc24305a468d42b9d4edcd \n"
      ]
     },
     "metadata": {},
     "output_type": "display_data"
    },
    {
     "data": {
      "text/html": [
       "<pre style=\"white-space:pre;overflow-x:auto;line-height:normal;font-family:Menlo,'DejaVu Sans Mono',consolas,'Courier New',monospace\"><span style=\"color: #008080; text-decoration-color: #008080; font-weight: bold\"> Расшифр. :</span> 1122334455667700ffeeddccbbaa9988 \n",
       "</pre>\n"
      ],
      "text/plain": [
       "\u001b[1;36m Расшифр. :\u001b[0m 1122334455667700ffeeddccbbaa9988 \n"
      ]
     },
     "metadata": {},
     "output_type": "display_data"
    }
   ],
   "source": [
    "from lib_crypto.b7.Kuznyechik_3412 import main\n",
    "main()"
   ]
  },
  {
   "cell_type": "code",
   "execution_count": 10,
   "metadata": {},
   "outputs": [
    {
     "data": {
      "text/html": [
       "<pre style=\"white-space:pre;overflow-x:auto;line-height:normal;font-family:Menlo,'DejaVu Sans Mono',consolas,'Courier New',monospace\"><span style=\"color: #000000; text-decoration-color: #000000; background-color: #ffffff; font-weight: bold\"> Примеры из GOST_R_34_13-</span><span style=\"color: #000000; text-decoration-color: #000000; background-color: #ffffff; font-weight: bold\">2015</span><span style=\"color: #000000; text-decoration-color: #000000; background-color: #ffffff; font-weight: bold\"> </span>\n",
       "</pre>\n"
      ],
      "text/plain": [
       "\u001b[1;30;107m Примеры из GOST_R_34_13-\u001b[0m\u001b[1;30;107m2015\u001b[0m\u001b[1;30;107m \u001b[0m\n"
      ]
     },
     "metadata": {},
     "output_type": "display_data"
    },
    {
     "data": {
      "text/html": [
       "<pre style=\"white-space:pre;overflow-x:auto;line-height:normal;font-family:Menlo,'DejaVu Sans Mono',consolas,'Courier New',monospace\"><span style=\"color: #008080; text-decoration-color: #008080; font-weight: bold\"> Ключ :</span> 8899aabbccddeeff0011223344556677fedcba98765432100123456789abcdef \n",
       "</pre>\n"
      ],
      "text/plain": [
       "\u001b[1;36m Ключ :\u001b[0m 8899aabbccddeeff0011223344556677fedcba98765432100123456789abcdef \n"
      ]
     },
     "metadata": {},
     "output_type": "display_data"
    },
    {
     "data": {
      "text/html": [
       "<pre style=\"white-space:pre;overflow-x:auto;line-height:normal;font-family:Menlo,'DejaVu Sans Mono',consolas,'Courier New',monospace\"><span style=\"color: #008080; text-decoration-color: #008080; font-weight: bold\"> </span><span style=\"color: #008080; text-decoration-color: #008080; font-weight: bold\">1</span><span style=\"color: #008080; text-decoration-color: #008080; font-weight: bold\"> :</span> 1122334455667700ffeeddccbbaa9988 -&gt; 7f679d90bebc24305a468d42b9d4edcd \n",
       "</pre>\n"
      ],
      "text/plain": [
       "\u001b[1;36m \u001b[0m\u001b[1;36m1\u001b[0m\u001b[1;36m :\u001b[0m 1122334455667700ffeeddccbbaa9988 -> 7f679d90bebc24305a468d42b9d4edcd \n"
      ]
     },
     "metadata": {},
     "output_type": "display_data"
    },
    {
     "data": {
      "text/html": [
       "<pre style=\"white-space:pre;overflow-x:auto;line-height:normal;font-family:Menlo,'DejaVu Sans Mono',consolas,'Courier New',monospace\"><span style=\"color: #008080; text-decoration-color: #008080; font-weight: bold\"> </span><span style=\"color: #008080; text-decoration-color: #008080; font-weight: bold\">2</span><span style=\"color: #008080; text-decoration-color: #008080; font-weight: bold\"> :</span> 00112233445566778899aabbcceeff0a -&gt; b429912c6e0032f9285452d76718d08b \n",
       "</pre>\n"
      ],
      "text/plain": [
       "\u001b[1;36m \u001b[0m\u001b[1;36m2\u001b[0m\u001b[1;36m :\u001b[0m 00112233445566778899aabbcceeff0a -> b429912c6e0032f9285452d76718d08b \n"
      ]
     },
     "metadata": {},
     "output_type": "display_data"
    },
    {
     "data": {
      "text/html": [
       "<pre style=\"white-space:pre;overflow-x:auto;line-height:normal;font-family:Menlo,'DejaVu Sans Mono',consolas,'Courier New',monospace\"><span style=\"color: #008080; text-decoration-color: #008080; font-weight: bold\"> </span><span style=\"color: #008080; text-decoration-color: #008080; font-weight: bold\">3</span><span style=\"color: #008080; text-decoration-color: #008080; font-weight: bold\"> :</span> 112233445566778899aabbcceeff0a00 -&gt; f0ca33549d247ceef3f5a5313bd4b157 \n",
       "</pre>\n"
      ],
      "text/plain": [
       "\u001b[1;36m \u001b[0m\u001b[1;36m3\u001b[0m\u001b[1;36m :\u001b[0m 112233445566778899aabbcceeff0a00 -> f0ca33549d247ceef3f5a5313bd4b157 \n"
      ]
     },
     "metadata": {},
     "output_type": "display_data"
    },
    {
     "data": {
      "text/html": [
       "<pre style=\"white-space:pre;overflow-x:auto;line-height:normal;font-family:Menlo,'DejaVu Sans Mono',consolas,'Courier New',monospace\"><span style=\"color: #008080; text-decoration-color: #008080; font-weight: bold\"> </span><span style=\"color: #008080; text-decoration-color: #008080; font-weight: bold\">4</span><span style=\"color: #008080; text-decoration-color: #008080; font-weight: bold\"> :</span> 2233445566778899aabbcceeff0a0011 -&gt; d0b09ccde830b9eb3a02c4c5aa8ada98 \n",
       "</pre>\n"
      ],
      "text/plain": [
       "\u001b[1;36m \u001b[0m\u001b[1;36m4\u001b[0m\u001b[1;36m :\u001b[0m 2233445566778899aabbcceeff0a0011 -> d0b09ccde830b9eb3a02c4c5aa8ada98 \n"
      ]
     },
     "metadata": {},
     "output_type": "display_data"
    },
    {
     "data": {
      "text/html": [
       "<pre style=\"white-space:pre;overflow-x:auto;line-height:normal;font-family:Menlo,'DejaVu Sans Mono',consolas,'Courier New',monospace\"><span style=\"color: #008080; text-decoration-color: #008080; font-weight: bold\"> Шифр :</span> 7f679d90bebc24305a468d42b9d4edcd \n",
       "</pre>\n"
      ],
      "text/plain": [
       "\u001b[1;36m Шифр :\u001b[0m 7f679d90bebc24305a468d42b9d4edcd \n"
      ]
     },
     "metadata": {},
     "output_type": "display_data"
    },
    {
     "data": {
      "text/html": [
       "<pre style=\"white-space:pre;overflow-x:auto;line-height:normal;font-family:Menlo,'DejaVu Sans Mono',consolas,'Courier New',monospace\"><span style=\"color: #008080; text-decoration-color: #008080; font-weight: bold\"> Расшифр. :</span> 1122334455667700ffeeddccbbaa9988 \n",
       "</pre>\n"
      ],
      "text/plain": [
       "\u001b[1;36m Расшифр. :\u001b[0m 1122334455667700ffeeddccbbaa9988 \n"
      ]
     },
     "metadata": {},
     "output_type": "display_data"
    },
    {
     "data": {
      "text/html": [
       "<pre style=\"white-space:pre;overflow-x:auto;line-height:normal;font-family:Menlo,'DejaVu Sans Mono',consolas,'Courier New',monospace\"><span style=\"color: #008080; text-decoration-color: #008080; font-weight: bold\"> Шифр :</span> b429912c6e0032f9285452d76718d08b \n",
       "</pre>\n"
      ],
      "text/plain": [
       "\u001b[1;36m Шифр :\u001b[0m b429912c6e0032f9285452d76718d08b \n"
      ]
     },
     "metadata": {},
     "output_type": "display_data"
    },
    {
     "data": {
      "text/html": [
       "<pre style=\"white-space:pre;overflow-x:auto;line-height:normal;font-family:Menlo,'DejaVu Sans Mono',consolas,'Courier New',monospace\"><span style=\"color: #008080; text-decoration-color: #008080; font-weight: bold\"> Расшифр. :</span> 00112233445566778899aabbcceeff0a \n",
       "</pre>\n"
      ],
      "text/plain": [
       "\u001b[1;36m Расшифр. :\u001b[0m 00112233445566778899aabbcceeff0a \n"
      ]
     },
     "metadata": {},
     "output_type": "display_data"
    },
    {
     "data": {
      "text/html": [
       "<pre style=\"white-space:pre;overflow-x:auto;line-height:normal;font-family:Menlo,'DejaVu Sans Mono',consolas,'Courier New',monospace\"><span style=\"color: #008080; text-decoration-color: #008080; font-weight: bold\"> Шифр :</span> f0ca33549d247ceef3f5a5313bd4b157 \n",
       "</pre>\n"
      ],
      "text/plain": [
       "\u001b[1;36m Шифр :\u001b[0m f0ca33549d247ceef3f5a5313bd4b157 \n"
      ]
     },
     "metadata": {},
     "output_type": "display_data"
    },
    {
     "data": {
      "text/html": [
       "<pre style=\"white-space:pre;overflow-x:auto;line-height:normal;font-family:Menlo,'DejaVu Sans Mono',consolas,'Courier New',monospace\"><span style=\"color: #008080; text-decoration-color: #008080; font-weight: bold\"> Расшифр. :</span> 112233445566778899aabbcceeff0a00 \n",
       "</pre>\n"
      ],
      "text/plain": [
       "\u001b[1;36m Расшифр. :\u001b[0m 112233445566778899aabbcceeff0a00 \n"
      ]
     },
     "metadata": {},
     "output_type": "display_data"
    },
    {
     "data": {
      "text/html": [
       "<pre style=\"white-space:pre;overflow-x:auto;line-height:normal;font-family:Menlo,'DejaVu Sans Mono',consolas,'Courier New',monospace\"><span style=\"color: #008080; text-decoration-color: #008080; font-weight: bold\"> Шифр :</span> d0b09ccde830b9eb3a02c4c5aa8ada98 \n",
       "</pre>\n"
      ],
      "text/plain": [
       "\u001b[1;36m Шифр :\u001b[0m d0b09ccde830b9eb3a02c4c5aa8ada98 \n"
      ]
     },
     "metadata": {},
     "output_type": "display_data"
    },
    {
     "data": {
      "text/html": [
       "<pre style=\"white-space:pre;overflow-x:auto;line-height:normal;font-family:Menlo,'DejaVu Sans Mono',consolas,'Courier New',monospace\"><span style=\"color: #008080; text-decoration-color: #008080; font-weight: bold\"> Расшифр. :</span> 2233445566778899aabbcceeff0a0011 \n",
       "</pre>\n"
      ],
      "text/plain": [
       "\u001b[1;36m Расшифр. :\u001b[0m 2233445566778899aabbcceeff0a0011 \n"
      ]
     },
     "metadata": {},
     "output_type": "display_data"
    },
    {
     "data": {
      "text/html": [
       "<pre style=\"white-space:pre;overflow-x:auto;line-height:normal;font-family:Menlo,'DejaVu Sans Mono',consolas,'Courier New',monospace\"><span style=\"color: #000000; text-decoration-color: #000000; background-color: #ffffff; font-weight: bold\"> Тест на пословице и тексте </span>\n",
       "</pre>\n"
      ],
      "text/plain": [
       "\u001b[1;30;107m Тест на пословице и тексте \u001b[0m\n"
      ]
     },
     "metadata": {},
     "output_type": "display_data"
    },
    {
     "data": {
      "text/html": [
       "<pre style=\"white-space:pre;overflow-x:auto;line-height:normal;font-family:Menlo,'DejaVu Sans Mono',consolas,'Courier New',monospace\"><span style=\"font-weight: bold\">{</span><span style=\"color: #008000; text-decoration-color: #008000\">'key'</span>: <span style=\"color: #008000; text-decoration-color: #008000\">'8899aabbccddeeff0011223344556677fedcba98765432100123456789abcdef'</span><span style=\"font-weight: bold\">}</span>\n",
       "</pre>\n"
      ],
      "text/plain": [
       "\u001b[1m{\u001b[0m\u001b[32m'key'\u001b[0m: \u001b[32m'8899aabbccddeeff0011223344556677fedcba98765432100123456789abcdef'\u001b[0m\u001b[1m}\u001b[0m\n"
      ]
     },
     "metadata": {},
     "output_type": "display_data"
    },
    {
     "data": {
      "text/html": [
       "<pre style=\"white-space:pre;overflow-x:auto;line-height:normal;font-family:Menlo,'DejaVu Sans Mono',consolas,'Courier New',monospace\"><span style=\"color: #008080; text-decoration-color: #008080; font-weight: bold\"> Шифровка пословицы :</span> 6ebfd7bd81c40359c3f14e35603d26194260de134eda3c9a568ab36e7c15ee30a1ff51b\n",
       "fab0dd79863cc60fe4b5e0d7f717c89b0a0d3928027787a3eaeee3301f14463a540ac1a2b9c6197c9123b3ff455f0\n",
       "ed22544fe92c9dee65de10f52fc2155886f0801bcef93e206be79d603c949d773c8d7047ae4552d0a3bfdd04df8e \n",
       "</pre>\n"
      ],
      "text/plain": [
       "\u001b[1;36m Шифровка пословицы :\u001b[0m 6ebfd7bd81c40359c3f14e35603d26194260de134eda3c9a568ab36e7c15ee30a1ff51b\n",
       "fab0dd79863cc60fe4b5e0d7f717c89b0a0d3928027787a3eaeee3301f14463a540ac1a2b9c6197c9123b3ff455f0\n",
       "ed22544fe92c9dee65de10f52fc2155886f0801bcef93e206be79d603c949d773c8d7047ae4552d0a3bfdd04df8e \n"
      ]
     },
     "metadata": {},
     "output_type": "display_data"
    },
    {
     "data": {
      "text/html": [
       "<pre style=\"white-space:pre;overflow-x:auto;line-height:normal;font-family:Menlo,'DejaVu Sans Mono',consolas,'Courier New',monospace\"><span style=\"color: #008080; text-decoration-color: #008080; font-weight: bold\"> Расшифровка пословицы :</span> тотзптктохочетестьяйцазптдолженпримиритьсяскудахтаньемтчк \n",
       "</pre>\n"
      ],
      "text/plain": [
       "\u001b[1;36m Расшифровка пословицы :\u001b[0m тотзптктохочетестьяйцазптдолженпримиритьсяскудахтаньемтчк \n"
      ]
     },
     "metadata": {},
     "output_type": "display_data"
    },
    {
     "data": {
      "text/html": [
       "<pre style=\"white-space:pre;overflow-x:auto;line-height:normal;font-family:Menlo,'DejaVu Sans Mono',consolas,'Courier New',monospace\"><span style=\"color: #008080; text-decoration-color: #008080; font-weight: bold\"> Шифровка </span><span style=\"color: #008080; text-decoration-color: #008080; font-weight: bold\">1000</span><span style=\"color: #008080; text-decoration-color: #008080; font-weight: bold\"> :</span> 98860aff191b5e7599b67999d590123a79228fa23f557aef3b5a285e75911466a57a472ebfd8\n",
       "d449ec5f219f1a75e61b7f87df4c38f918fde2e237d7f33e70869b69cb1f46ee48d2c5393957e3e99ac9c082edff4\n",
       "85f1ea1597b441de69495b383ec43c3bcc92d122478a34f02a42e146d23733689cf5b1766deb2f1a7d02c5a30397b\n",
       "451eb51eebc2b97fe480a3310dbeb42df7d17af3e8c0fd888c0ee2284da3c8c479a4772893971244201a435a02132\n",
       "d6768b0505e8a95ef3e927dcdbddad6253f0bad02056195d4f87077ea3dfd3a862d4d4493ac2a12c7a48b2ec24ba4\n",
       "7494887b8d4b223d3bc24c75bde75d912318b7f2b45a65cb32baaade20226e399459f89caf995e988f26203ab8e17\n",
       "b0fa22b9836fe89ec349434b3cfa77d31242a6c6016fdbe013936c31e9082a83ef6fdcb1a0bdd98c972d9a6cdd8bb\n",
       "12b390fc9d92d18bd274da404e8824dafb7127a0b62d427a176e043dde4e38a07fc5b0d2b6ebb3d98f669f8986b90\n",
       "52a009baf9f8a245997948c1a65207616a661597a9ae39cb1fd9e2da2dce9a8de577b9a97740c69f091338756288e\n",
       "9ed0e4153de33f7b1afdd0ae6012239d0e9bec173ccb847289cba37ed4cb620c10fb524696fb0233328673cc5ca83\n",
       "bf7260fd1f3db8977ae1e059f8bf00989c428184a6f081dbbe167e579ab5d91bd74dc9ab2ca4954edefb240a894fd\n",
       "0ff1886ccc93cc0648cfafa3158e8b01cc255b041ec6f994242a8124b5e31f21d88f374882c1b20fa9b392f949e5e\n",
       "1f1e6739c92c23392f7e7fda2ba0f134328eaf0662afe9a17280354f8dc3295dbc414cf5eb7236ca5a7259458b34a\n",
       "c785372928bd23884ff41a59a90e2fae60e33c2c947137062097d1379ade60b48b848173aa8df865ad23da51a2ffe\n",
       "1d8e64f3d18d9104f07b296b5b4d1511c6b7c00bce8bd03a16b9f6cfc239137a35efd3971134d9849f41fc792b71e\n",
       "29506bb14f6790a94bea47c8c3cdd91f0e9a5088e36d78b5b3da2087341e9ce148a655822ed4717cc3623a4ec2fef\n",
       "afea65152bbb38044f05d1f600d7e0ac55677d19ea9417cb6d4394d54938180b39a8a7cdcbf4676ce94e5fdee0040\n",
       "52b659e8b3d128f2f23776ff95359f4ea0e3b005c47b95259fa1681f08c6392d80a21d25fcc6b19a1704ecf59e034\n",
       "d582594cff8b75bd51e333d9b8916952db5e8f5cd1d7d6bb9b87c814ee761bbe4fa89ce3d939d9fd892458aaf31f3\n",
       "c149d5c1845a6e0d443bf3151592c3291eb8fe8ababcf6b63556eebe4221843903965b4c6efc58272e8b847105474\n",
       "66ce8fdddf1896c3047d93e9fa7437c9ace4b3ad18d9baf2726dc0961e6779b7a9ef2f567d08a389e112fdfc415ef\n",
       "92814529c9de9bd61f43e24851dd4385bcced8c72293c1e06dcdec60d6f6e192e3e6c598195c31cbc35ff7b0d9aa1\n",
       "d96620ad57f247558dde8bc2b53d4955b6b7e28e4ab0bff9bd68641862e2bbcd83111ca76f244a6358632ceeaf5df\n",
       "6e7c48ad9a7220b162efae9ade60b48b848173aa8df865ad23da51a2ffe1d8e64f3d18d9104f07b296b5b4d1511c6\n",
       "b7c00bce8bd03a16b9f6cfc23289eb0fc16d4aee90986958f749d0d191d3c70a2ff735695f2b97e172d45d92acc93\n",
       "19babd8b8ff4535b553df248ef4717fe00713438b3567ab0cbbce18fd21b9dffffdaa7cf0beb904f7974454168011\n",
       "2b5f351e81e114573fdad04b07f61e2b9c793fdf7bdb2ae574b99ef91e9120d084315d287df7151e8ee7f71467dfb\n",
       "2d2c994f55ecf856d9224109d67c561f6bd728fa564b4b2a920f537eb087039322e0611895869149b443141ed2bf2\n",
       "e2c1492d124eff41585d3e3f0841e2699d834c675c7f5851324a169f527913a73b59df07712dad7b9a58ead16931b\n",
       "637a0bbb63253cb8e6d2dbe7eb69acbce4e236158bff98f53b863669ca26f77a4edf769f5b63108eff2bff093de86\n",
       "0e484cec00494f5ea2b809a160f28f38d1bb41c5e00e6f531fbb071e26f1cab0a58af7fbbccca98ac412bde557b07\n",
       "90d24f0ab59b517712b847d1b1f1873d0cf0e8da7d32b3827e1969816a1149ab20aba1f520764f9ac084129f52fc6\n",
       "e2c067adfde2ce9276904163770516dd5ce909ebb8f8ceddae2f11e85a712e60c31500c1e3a1e21953a796b71f11a\n",
       "7c2ca7cecb8a5834f12259017f1524ef76d1926e93e959150562b56523263e4609c3752b7fcd992716a4dbf50e309\n",
       "6b2c73ed90a8fbe0379593c6046adc61978ab71e4ec637b99a178a7056e9565bfd03a71f46875dffcbb2e1e3d0f4a\n",
       "c0528ae05644873004eb104b44f24a882254a542d7e0cdd8d90ebd61d85e41c6767bbf307f1191d92a069312d45bb\n",
       "7c6caa71f85fa3f97d8e04ec6a51d8a42570a2632278edab726f8c4dbf180a23de14d9ac6fac2d9233509c36047ff\n",
       "3838b607a13ec1522be28b533559b96b8905ed921725c69ed3341decf43c7e6686c46bddf373e16d1e5898473af1f\n",
       "4422714c56eb0d360b74b334624876f17b473d11cf6925610d4f9b57384625324fcfad1dc2effc35c1f9c5976ded6\n",
       "c44ebfbabd61d4b39549a8746d98865ab4506e8da0991cafb7a77b830cabea9216f2ca6b38d9a2dfd0da8d787a0ae\n",
       "7842ce9e3362ee0e744a01e36bb8b33c7a499af2c9ae51776230b64ed944a830412e1cc0d41ec989908feda7fa115\n",
       "7c7d03fbad4e9fe6ab09ad9bffdd20a051a6528e6d229824431fde8c4a4edacc8100ba75f91f1d981e142ae38305a\n",
       "fdcc94009939bc295b08a694036d840e2d27a6c13c76dfd3779a4bb0e77056d020cd24a16867fe689dc4267ee1b36\n",
       "97f65fae69eb232e26ab505b15dfc9e9852966246066f5585c1b5a61c29d694dae073c52381e0be932ddd7e940ffe\n",
       "2e1431c4875594631c6530c325573b727c391cbe12a473f1138c3fc1e41b2642c533677614540b0bd0306d8b1aefd\n",
       "2f075fa4c3606ae351921aca867254e521e9f44cf48b615616acf9e0bb59b4f8c0661a1085370d5e54b1a6820b03b\n",
       "0d5156f3c5d09832af4f6d82d00bbdc13880ddebe80d4b857eca4270fa973d3e7d461f0cd00a9c2d45cf0511204e5\n",
       "4fbe5d391586447ea649133418e39177774b5d460e0c9e39252e36ae6ee49c95eeded0705535eea21c8a90c3f8c9a\n",
       "93da4d281f628d94aa7d638685b144aa0537b0732f67cbb0f3d6471bec2bf68f08bc86792284089390ea70629b1af\n",
       "dc97ee80923f99599c75238e092792e31496ed90a8a8a40f4da175c5e2e085181ae40c372cd6c93d6ed8579952427\n",
       "e5f1fd3f45c6ccf68c0233d2e3f4fbed784d748585c806567fe5d569d3cacf60695c9e73f48fc540f3be3d3cba06c\n",
       "27f62e04a5a47f8bc992b8cb58e0acbdac9a0481f3859cf1729715f53be2ed59ff15de558c16331e80c6946f5c0f0\n",
       "d49150c990055b4f0b59a24b88916af0827128eb710dc30128b29d10eb2261b5bfc5b40860a04adb58185344567a7\n",
       "c331574edb424e0f81f1be5c3223d23d86c6291041b8e7027817d2f94e21abe43f7e8d9e2be9b47814596219c683b\n",
       "a63a8db9d6ade75a771cfb480aaac773123dc9343bd2733c2f5dca6d856c27bba06759dfe535c1f501a9018a13a95\n",
       "c35cf13e8b02706905f09f30e22c40259c5076d7b62c04943519f2fef8c542eb4a7a0014190016b1d8f08c3253013\n",
       "0644daad6a7475ce61ff3d340d125f6b1f98c9a7a29e0e845c7fae2e27099ada5080bf1ebb8eafb60a169b52c0524\n",
       "bcd8347e6892f4fee9087a523436 \n",
       "</pre>\n"
      ],
      "text/plain": [
       "\u001b[1;36m Шифровка \u001b[0m\u001b[1;36m1000\u001b[0m\u001b[1;36m :\u001b[0m 98860aff191b5e7599b67999d590123a79228fa23f557aef3b5a285e75911466a57a472ebfd8\n",
       "d449ec5f219f1a75e61b7f87df4c38f918fde2e237d7f33e70869b69cb1f46ee48d2c5393957e3e99ac9c082edff4\n",
       "85f1ea1597b441de69495b383ec43c3bcc92d122478a34f02a42e146d23733689cf5b1766deb2f1a7d02c5a30397b\n",
       "451eb51eebc2b97fe480a3310dbeb42df7d17af3e8c0fd888c0ee2284da3c8c479a4772893971244201a435a02132\n",
       "d6768b0505e8a95ef3e927dcdbddad6253f0bad02056195d4f87077ea3dfd3a862d4d4493ac2a12c7a48b2ec24ba4\n",
       "7494887b8d4b223d3bc24c75bde75d912318b7f2b45a65cb32baaade20226e399459f89caf995e988f26203ab8e17\n",
       "b0fa22b9836fe89ec349434b3cfa77d31242a6c6016fdbe013936c31e9082a83ef6fdcb1a0bdd98c972d9a6cdd8bb\n",
       "12b390fc9d92d18bd274da404e8824dafb7127a0b62d427a176e043dde4e38a07fc5b0d2b6ebb3d98f669f8986b90\n",
       "52a009baf9f8a245997948c1a65207616a661597a9ae39cb1fd9e2da2dce9a8de577b9a97740c69f091338756288e\n",
       "9ed0e4153de33f7b1afdd0ae6012239d0e9bec173ccb847289cba37ed4cb620c10fb524696fb0233328673cc5ca83\n",
       "bf7260fd1f3db8977ae1e059f8bf00989c428184a6f081dbbe167e579ab5d91bd74dc9ab2ca4954edefb240a894fd\n",
       "0ff1886ccc93cc0648cfafa3158e8b01cc255b041ec6f994242a8124b5e31f21d88f374882c1b20fa9b392f949e5e\n",
       "1f1e6739c92c23392f7e7fda2ba0f134328eaf0662afe9a17280354f8dc3295dbc414cf5eb7236ca5a7259458b34a\n",
       "c785372928bd23884ff41a59a90e2fae60e33c2c947137062097d1379ade60b48b848173aa8df865ad23da51a2ffe\n",
       "1d8e64f3d18d9104f07b296b5b4d1511c6b7c00bce8bd03a16b9f6cfc239137a35efd3971134d9849f41fc792b71e\n",
       "29506bb14f6790a94bea47c8c3cdd91f0e9a5088e36d78b5b3da2087341e9ce148a655822ed4717cc3623a4ec2fef\n",
       "afea65152bbb38044f05d1f600d7e0ac55677d19ea9417cb6d4394d54938180b39a8a7cdcbf4676ce94e5fdee0040\n",
       "52b659e8b3d128f2f23776ff95359f4ea0e3b005c47b95259fa1681f08c6392d80a21d25fcc6b19a1704ecf59e034\n",
       "d582594cff8b75bd51e333d9b8916952db5e8f5cd1d7d6bb9b87c814ee761bbe4fa89ce3d939d9fd892458aaf31f3\n",
       "c149d5c1845a6e0d443bf3151592c3291eb8fe8ababcf6b63556eebe4221843903965b4c6efc58272e8b847105474\n",
       "66ce8fdddf1896c3047d93e9fa7437c9ace4b3ad18d9baf2726dc0961e6779b7a9ef2f567d08a389e112fdfc415ef\n",
       "92814529c9de9bd61f43e24851dd4385bcced8c72293c1e06dcdec60d6f6e192e3e6c598195c31cbc35ff7b0d9aa1\n",
       "d96620ad57f247558dde8bc2b53d4955b6b7e28e4ab0bff9bd68641862e2bbcd83111ca76f244a6358632ceeaf5df\n",
       "6e7c48ad9a7220b162efae9ade60b48b848173aa8df865ad23da51a2ffe1d8e64f3d18d9104f07b296b5b4d1511c6\n",
       "b7c00bce8bd03a16b9f6cfc23289eb0fc16d4aee90986958f749d0d191d3c70a2ff735695f2b97e172d45d92acc93\n",
       "19babd8b8ff4535b553df248ef4717fe00713438b3567ab0cbbce18fd21b9dffffdaa7cf0beb904f7974454168011\n",
       "2b5f351e81e114573fdad04b07f61e2b9c793fdf7bdb2ae574b99ef91e9120d084315d287df7151e8ee7f71467dfb\n",
       "2d2c994f55ecf856d9224109d67c561f6bd728fa564b4b2a920f537eb087039322e0611895869149b443141ed2bf2\n",
       "e2c1492d124eff41585d3e3f0841e2699d834c675c7f5851324a169f527913a73b59df07712dad7b9a58ead16931b\n",
       "637a0bbb63253cb8e6d2dbe7eb69acbce4e236158bff98f53b863669ca26f77a4edf769f5b63108eff2bff093de86\n",
       "0e484cec00494f5ea2b809a160f28f38d1bb41c5e00e6f531fbb071e26f1cab0a58af7fbbccca98ac412bde557b07\n",
       "90d24f0ab59b517712b847d1b1f1873d0cf0e8da7d32b3827e1969816a1149ab20aba1f520764f9ac084129f52fc6\n",
       "e2c067adfde2ce9276904163770516dd5ce909ebb8f8ceddae2f11e85a712e60c31500c1e3a1e21953a796b71f11a\n",
       "7c2ca7cecb8a5834f12259017f1524ef76d1926e93e959150562b56523263e4609c3752b7fcd992716a4dbf50e309\n",
       "6b2c73ed90a8fbe0379593c6046adc61978ab71e4ec637b99a178a7056e9565bfd03a71f46875dffcbb2e1e3d0f4a\n",
       "c0528ae05644873004eb104b44f24a882254a542d7e0cdd8d90ebd61d85e41c6767bbf307f1191d92a069312d45bb\n",
       "7c6caa71f85fa3f97d8e04ec6a51d8a42570a2632278edab726f8c4dbf180a23de14d9ac6fac2d9233509c36047ff\n",
       "3838b607a13ec1522be28b533559b96b8905ed921725c69ed3341decf43c7e6686c46bddf373e16d1e5898473af1f\n",
       "4422714c56eb0d360b74b334624876f17b473d11cf6925610d4f9b57384625324fcfad1dc2effc35c1f9c5976ded6\n",
       "c44ebfbabd61d4b39549a8746d98865ab4506e8da0991cafb7a77b830cabea9216f2ca6b38d9a2dfd0da8d787a0ae\n",
       "7842ce9e3362ee0e744a01e36bb8b33c7a499af2c9ae51776230b64ed944a830412e1cc0d41ec989908feda7fa115\n",
       "7c7d03fbad4e9fe6ab09ad9bffdd20a051a6528e6d229824431fde8c4a4edacc8100ba75f91f1d981e142ae38305a\n",
       "fdcc94009939bc295b08a694036d840e2d27a6c13c76dfd3779a4bb0e77056d020cd24a16867fe689dc4267ee1b36\n",
       "97f65fae69eb232e26ab505b15dfc9e9852966246066f5585c1b5a61c29d694dae073c52381e0be932ddd7e940ffe\n",
       "2e1431c4875594631c6530c325573b727c391cbe12a473f1138c3fc1e41b2642c533677614540b0bd0306d8b1aefd\n",
       "2f075fa4c3606ae351921aca867254e521e9f44cf48b615616acf9e0bb59b4f8c0661a1085370d5e54b1a6820b03b\n",
       "0d5156f3c5d09832af4f6d82d00bbdc13880ddebe80d4b857eca4270fa973d3e7d461f0cd00a9c2d45cf0511204e5\n",
       "4fbe5d391586447ea649133418e39177774b5d460e0c9e39252e36ae6ee49c95eeded0705535eea21c8a90c3f8c9a\n",
       "93da4d281f628d94aa7d638685b144aa0537b0732f67cbb0f3d6471bec2bf68f08bc86792284089390ea70629b1af\n",
       "dc97ee80923f99599c75238e092792e31496ed90a8a8a40f4da175c5e2e085181ae40c372cd6c93d6ed8579952427\n",
       "e5f1fd3f45c6ccf68c0233d2e3f4fbed784d748585c806567fe5d569d3cacf60695c9e73f48fc540f3be3d3cba06c\n",
       "27f62e04a5a47f8bc992b8cb58e0acbdac9a0481f3859cf1729715f53be2ed59ff15de558c16331e80c6946f5c0f0\n",
       "d49150c990055b4f0b59a24b88916af0827128eb710dc30128b29d10eb2261b5bfc5b40860a04adb58185344567a7\n",
       "c331574edb424e0f81f1be5c3223d23d86c6291041b8e7027817d2f94e21abe43f7e8d9e2be9b47814596219c683b\n",
       "a63a8db9d6ade75a771cfb480aaac773123dc9343bd2733c2f5dca6d856c27bba06759dfe535c1f501a9018a13a95\n",
       "c35cf13e8b02706905f09f30e22c40259c5076d7b62c04943519f2fef8c542eb4a7a0014190016b1d8f08c3253013\n",
       "0644daad6a7475ce61ff3d340d125f6b1f98c9a7a29e0e845c7fae2e27099ada5080bf1ebb8eafb60a169b52c0524\n",
       "bcd8347e6892f4fee9087a523436 \n"
      ]
     },
     "metadata": {},
     "output_type": "display_data"
    },
    {
     "data": {
      "text/html": [
       "<pre style=\"white-space:pre;overflow-x:auto;line-height:normal;font-family:Menlo,'DejaVu Sans Mono',consolas,'Courier New',monospace\"><span style=\"color: #008080; text-decoration-color: #008080; font-weight: bold\"> Расшифровка </span><span style=\"color: #008080; text-decoration-color: #008080; font-weight: bold\">1000</span><span style=\"color: #008080; text-decoration-color: #008080; font-weight: bold\"> :</span> современныетехнологиидостиглитакогоуровнязптчтовыбранныйнамиинновационный\n",
       "путьпредполагаетнезависимыеспособыреализациисоответствующихусловийактивизациитчкпринимаявовни\n",
       "маниепоказателиуспешностизптноваямодельорганизационнойдеятельностизптатакжесвежийвзгляднаприв\n",
       "ычныевещитиребезусловнооткрываетновыегоризонтыдляукрепленияморальныхценностейтчклишьсделанные\n",
       "набазеинтернеттиреаналитикивыводынеоднозначныибудутобнародованытчкясностьнашейпозицииочевидна\n",
       "высокотехнологичнаяконцепцияобщественногоукладапредполагаетнезависимыеспособыреализацииукрепл\n",
       "енияморальныхценностейтчкпреждевсегозпткурснасоциальнотиреориентированныйнациональныйпроектзп\n",
       "татакжесвежийвзгляднапривычныевещитиребезусловнооткрываетновыегоризонтыдляэкспериментовзптпор\n",
       "ажающихпосвоеймасштабностииграндиозноститчксдругойсторонызптреализациянамеченныхплановыхзадан\n",
       "ийсоздаётпредпосылкидлявыводатекущихактивовтчкмывынужденыотталкиватьсяоттогозптчтопониманиесу\n",
       "тиресурсосберегающихтехнологийоднозначноопределяеткаждогоучастникакакспособногоприниматьсобст\n",
       "венныерешениякасаемокаксамодостаточныхзпттакивнешнезависимыхконцептуальныхрешенийтчкясностьна\n",
       "шейпозицииочевиднаглубокийуровеньпогруженияспособствуетповышениюкачестваприоритизацииразумана\n",
       "дэмоциямитчквчастностизптсемантическийразборвнешнихпротиводействийвлечетзасобойпроцессвнедрен\n",
       "ияимодернизациипоставленныхобществомзадач \n",
       "</pre>\n"
      ],
      "text/plain": [
       "\u001b[1;36m Расшифровка \u001b[0m\u001b[1;36m1000\u001b[0m\u001b[1;36m :\u001b[0m современныетехнологиидостиглитакогоуровнязптчтовыбранныйнамиинновационный\n",
       "путьпредполагаетнезависимыеспособыреализациисоответствующихусловийактивизациитчкпринимаявовни\n",
       "маниепоказателиуспешностизптноваямодельорганизационнойдеятельностизптатакжесвежийвзгляднаприв\n",
       "ычныевещитиребезусловнооткрываетновыегоризонтыдляукрепленияморальныхценностейтчклишьсделанные\n",
       "набазеинтернеттиреаналитикивыводынеоднозначныибудутобнародованытчкясностьнашейпозицииочевидна\n",
       "высокотехнологичнаяконцепцияобщественногоукладапредполагаетнезависимыеспособыреализацииукрепл\n",
       "енияморальныхценностейтчкпреждевсегозпткурснасоциальнотиреориентированныйнациональныйпроектзп\n",
       "татакжесвежийвзгляднапривычныевещитиребезусловнооткрываетновыегоризонтыдляэкспериментовзптпор\n",
       "ажающихпосвоеймасштабностииграндиозноститчксдругойсторонызптреализациянамеченныхплановыхзадан\n",
       "ийсоздаётпредпосылкидлявыводатекущихактивовтчкмывынужденыотталкиватьсяоттогозптчтопониманиесу\n",
       "тиресурсосберегающихтехнологийоднозначноопределяеткаждогоучастникакакспособногоприниматьсобст\n",
       "венныерешениякасаемокаксамодостаточныхзпттакивнешнезависимыхконцептуальныхрешенийтчкясностьна\n",
       "шейпозицииочевиднаглубокийуровеньпогруженияспособствуетповышениюкачестваприоритизацииразумана\n",
       "дэмоциямитчквчастностизптсемантическийразборвнешнихпротиводействийвлечетзасобойпроцессвнедрен\n",
       "ияимодернизациипоставленныхобществомзадач \n"
      ]
     },
     "metadata": {},
     "output_type": "display_data"
    }
   ],
   "source": [
    "from lib_crypto.b7.Kuznyechik_3413_ECB import main\n",
    "main()\n"
   ]
  },
  {
   "cell_type": "code",
   "execution_count": 11,
   "metadata": {},
   "outputs": [
    {
     "data": {
      "text/html": [
       "<pre style=\"white-space:pre;overflow-x:auto;line-height:normal;font-family:Menlo,'DejaVu Sans Mono',consolas,'Courier New',monospace\"><span style=\"color: #000000; text-decoration-color: #000000; background-color: #ffffff; font-weight: bold\"> Пример из ГОСТ Р </span><span style=\"color: #000000; text-decoration-color: #000000; background-color: #ffffff; font-weight: bold\">34.12</span><span style=\"color: #000000; text-decoration-color: #000000; background-color: #ffffff; font-weight: bold\">-</span><span style=\"color: #000000; text-decoration-color: #000000; background-color: #ffffff; font-weight: bold\">2015</span><span style=\"color: #000000; text-decoration-color: #000000; background-color: #ffffff; font-weight: bold\"> </span>\n",
       "</pre>\n"
      ],
      "text/plain": [
       "\u001b[1;30;107m Пример из ГОСТ Р \u001b[0m\u001b[1;30;107m34.12\u001b[0m\u001b[1;30;107m-\u001b[0m\u001b[1;30;107m2015\u001b[0m\u001b[1;30;107m \u001b[0m\n"
      ]
     },
     "metadata": {},
     "output_type": "display_data"
    },
    {
     "data": {
      "text/html": [
       "<pre style=\"white-space:pre;overflow-x:auto;line-height:normal;font-family:Menlo,'DejaVu Sans Mono',consolas,'Courier New',monospace\"><span style=\"color: #008080; text-decoration-color: #008080; font-weight: bold\"> Сообщение :</span> fedcba9876543210 \n",
       "</pre>\n"
      ],
      "text/plain": [
       "\u001b[1;36m Сообщение :\u001b[0m fedcba9876543210 \n"
      ]
     },
     "metadata": {},
     "output_type": "display_data"
    },
    {
     "data": {
      "text/html": [
       "<pre style=\"white-space:pre;overflow-x:auto;line-height:normal;font-family:Menlo,'DejaVu Sans Mono',consolas,'Courier New',monospace\"><span style=\"color: #008080; text-decoration-color: #008080; font-weight: bold\"> Ключ :</span> ffeeddccbbaa99887766554433221100f0f1f2f3f4f5f6f7f8f9fafbfcfdfeff \n",
       "</pre>\n"
      ],
      "text/plain": [
       "\u001b[1;36m Ключ :\u001b[0m ffeeddccbbaa99887766554433221100f0f1f2f3f4f5f6f7f8f9fafbfcfdfeff \n"
      ]
     },
     "metadata": {},
     "output_type": "display_data"
    },
    {
     "data": {
      "text/html": [
       "<pre style=\"white-space:pre;overflow-x:auto;line-height:normal;font-family:Menlo,'DejaVu Sans Mono',consolas,'Courier New',monospace\"><span style=\"color: #008080; text-decoration-color: #008080; font-weight: bold\"> Шифровка :</span> 4ee901e5c2d8ca3d \n",
       "</pre>\n"
      ],
      "text/plain": [
       "\u001b[1;36m Шифровка :\u001b[0m 4ee901e5c2d8ca3d \n"
      ]
     },
     "metadata": {},
     "output_type": "display_data"
    },
    {
     "data": {
      "text/html": [
       "<pre style=\"white-space:pre;overflow-x:auto;line-height:normal;font-family:Menlo,'DejaVu Sans Mono',consolas,'Courier New',monospace\"><span style=\"color: #008080; text-decoration-color: #008080; font-weight: bold\"> Расшифровка :</span> fedcba9876543210 \n",
       "</pre>\n"
      ],
      "text/plain": [
       "\u001b[1;36m Расшифровка :\u001b[0m fedcba9876543210 \n"
      ]
     },
     "metadata": {},
     "output_type": "display_data"
    }
   ],
   "source": [
    "from lib_crypto.b7.Magma import main\n",
    "main()"
   ]
  },
  {
   "cell_type": "code",
   "execution_count": 12,
   "metadata": {},
   "outputs": [
    {
     "data": {
      "text/html": [
       "<pre style=\"white-space:pre;overflow-x:auto;line-height:normal;font-family:Menlo,'DejaVu Sans Mono',consolas,'Courier New',monospace\"><span style=\"color: #000000; text-decoration-color: #000000; background-color: #ffffff; font-weight: bold\"> Тест на пословице и </span><span style=\"color: #000000; text-decoration-color: #000000; background-color: #ffffff; font-weight: bold\">1000</span><span style=\"color: #000000; text-decoration-color: #000000; background-color: #ffffff; font-weight: bold\"> </span>\n",
       "</pre>\n"
      ],
      "text/plain": [
       "\u001b[1;30;107m Тест на пословице и \u001b[0m\u001b[1;30;107m1000\u001b[0m\u001b[1;30;107m \u001b[0m\n"
      ]
     },
     "metadata": {},
     "output_type": "display_data"
    },
    {
     "data": {
      "text/html": [
       "<pre style=\"white-space:pre;overflow-x:auto;line-height:normal;font-family:Menlo,'DejaVu Sans Mono',consolas,'Courier New',monospace\"><span style=\"color: #008080; text-decoration-color: #008080; font-weight: bold\"> Шифр пословицы :</span> 1fb04c16f6bb77482b16f76e91ceb658fa0c4ec118e2c30ce4318b85dc4178e22ffb75201bb\n",
       "3ad4b7a385d385b43818dde7a03f9d1ec10b31b99bbe8a6659792a19092862901d323c4f795ad21b8efcb634d46d7\n",
       "8c33497fd820998c26eacc3d8f97f8857b36fb8113fac66be3818118ba142274e36e26ffe3a7b4a6398fe5cb \n",
       "</pre>\n"
      ],
      "text/plain": [
       "\u001b[1;36m Шифр пословицы :\u001b[0m 1fb04c16f6bb77482b16f76e91ceb658fa0c4ec118e2c30ce4318b85dc4178e22ffb75201bb\n",
       "3ad4b7a385d385b43818dde7a03f9d1ec10b31b99bbe8a6659792a19092862901d323c4f795ad21b8efcb634d46d7\n",
       "8c33497fd820998c26eacc3d8f97f8857b36fb8113fac66be3818118ba142274e36e26ffe3a7b4a6398fe5cb \n"
      ]
     },
     "metadata": {},
     "output_type": "display_data"
    },
    {
     "data": {
      "text/html": [
       "<pre style=\"white-space:pre;overflow-x:auto;line-height:normal;font-family:Menlo,'DejaVu Sans Mono',consolas,'Courier New',monospace\"><span style=\"color: #008080; text-decoration-color: #008080; font-weight: bold\"> Расшифровка :</span> Тот зпт кто хочет есть яйца зпт должен примириться с кудахтаньем тчк \n",
       "</pre>\n"
      ],
      "text/plain": [
       "\u001b[1;36m Расшифровка :\u001b[0m Тот зпт кто хочет есть яйца зпт должен примириться с кудахтаньем тчк \n"
      ]
     },
     "metadata": {},
     "output_type": "display_data"
    },
    {
     "data": {
      "text/html": [
       "<pre style=\"white-space:pre;overflow-x:auto;line-height:normal;font-family:Menlo,'DejaVu Sans Mono',consolas,'Courier New',monospace\"><span style=\"color: #008080; text-decoration-color: #008080; font-weight: bold\"> Шифр </span><span style=\"color: #008080; text-decoration-color: #008080; font-weight: bold\">1000</span><span style=\"color: #008080; text-decoration-color: #008080; font-weight: bold\"> :</span> 311cc485e25cf0be0a9a164c710e12caa87fa8cfc603b29af619a61434460d1a45bf110e4103c8a8\n",
       "90d6345e69b58d5ad92df58c3948609f91c667c97a05c1559e8dfcf6c020567aad7329172fc1b751a0e05146c9d95\n",
       "3b103c51bfedf6ca3160058d19fbb5dfac17d8600d5f887f99e525bb872add94af425696e0701623094ffaa9e2257\n",
       "ac285d73d26a7c2c8f011a8f1e068f5a21fd0e963f9637b1d0a86db25890e033aa676ac2b24a5da0785db160a69fd\n",
       "d6ac538feb293dceff32687d88aa4f3a3c517b12f647bd3198527e1f8a0f07e615956c37092b3678e0f84eda5b783\n",
       "81d4b9265c0c445083da83f6f8a2c2a0fc975dc15ef276ca5afe39dcd2ae34bb9d46720b52fcf3e54ed22d65c24a6\n",
       "ad4eebd8d5dfb4a7192bc16203a0f9ba25b31daffde7de08134935e499728fe577c966e62ee47d5b554e160f98a39\n",
       "da003452e0730a277b06735f2abadeddd0d4b803fa3ece906649ea01b61d9fadf79b9f635cda52c73735c8a07e83b\n",
       "b170a6a6154c5937a85195d48152cfb16950f7de516425e02f41118d946af2af4a96f703af31ac1b010b526a88366\n",
       "6f6a279d57ea8fc2eee95ba0a2971dd7df8b2467f355dd03bef2d7893b336c5a810c342169189464f0c04274c6040\n",
       "d1008d3c23965e5bcc0cf1d4cbf0ee96b0871eefa573515673ec509b8223de59be1537857d5ea76c70b91137939f1\n",
       "972cde1f2544480a1d39bc5e71554a07c08280d6ab24102eb796b0970550082d7e36a1adfd183cc81c6213a144034\n",
       "eb56142fbe188884f249b7ac5f9da11add74fb2ce4052c641a2622e9d33146fd786fca7b19cfbc2ee769871aba3c4\n",
       "d930ff71bb0001d0210fed44773c874959979541b48cdd2c6bfb3921e14610933d43d73e2e7be39d57e1fcb9653a1\n",
       "29bdd4d1b1f933cf4b446bb6e10508911b2a5646d4a608f2f7e05845e543ec4c5a99c14f35aac8b51ac4ad6492265\n",
       "077c3dc902ec7f0c9b3a382bdbe31814a1ad8ab6e39528d0ee57a2a23407179c9b80b0d4eb911c293b02eb9177d7e\n",
       "b0d18e017c4dd7296b1005e861377de420a34a6b65245b703dbff470e1cd38aeb0c894b7075ea1b9f8b69c514ee05\n",
       "d3b7dea8477b7546bdd9569c26f20340337a4ac099db918a0ebfe306453a83e3d8d918756230aa011905148b873c4\n",
       "84e288c5c4776913c3042c22a8486c8808c65e5bcc0cf1d4cbf28848828056289845610ef56ff2e6ab5c65664e945\n",
       "24049cc97d502fab1df8a709d40b99b1cdebdf0033b33a0fa8b59124c6d666c6829a87f0c7fb49e2eaf7ef99b4eca\n",
       "9cbab7d75d8f8486b312d9e9f73fb26a2dae81fd4a120e8420128f376002ad4fbf78ce1f983b43c45ad68db6539f2\n",
       "a770f43890c3f4c3ebb91db1aa9bae60f62e5a69ad5e89236104ff33ad181135c2b3ae61ccac092e3af3d34b20492\n",
       "55eceb36a1d3b85387f61a1fb0475b0776297e2544db6dd9722f83db5d500cea9ffd01ce276c9444369f3bd2c635f\n",
       "50c6204bcdaf8c69b8f63918bbd3b5f826be8dfe46d5102be09194920783ec24817a49c7704b4d133174f9b751154\n",
       "04920d3728b17c1c6857874cf768114958a86b52994ea3b9fe9fb37005b9d4bf971920dc57f40e14eb5a2047fb4f9\n",
       "5739c62c2926b195dc9fad06e2d77d45d2acef1126888f61b796c1062fc4f47f4c4c08f1d3728b17c1c68578932fe\n",
       "1a9dbfdee319625f2a28a633e10428f2963072224f97d8600d5f887f99ee42dbd97e77f55cba65e2323b96a325a79\n",
       "43bee79726494fd1b3ed6c8eec7c3108f897e87b4037cdea9b81acf5a658c89cf58e69873b78498e434f1f608b0d8\n",
       "8679db18499193b7a56e4b74ceb5dab41a29e034c4b709cc09efbc857823eaa6c259d1f7bc8b20bafd08c172d3d16\n",
       "80f1e7be0b1e27374aa5db58718893aa40908bcf7a6a5e8f81dbaedd03ff701922130829e91b138adf0e44e64672f\n",
       "9c0e9e019bdc832904256507e71e202203992c90434a136c20981f66009a8bcc09b7c42b804c4ebd07047c7f56dfa\n",
       "59903c10aae79c364775c72a6b64ebb3f8d6f6984026d074001e4e9dee28283e6f57c01f245bda67fe2d66f78f187\n",
       "8685b5b4b2a84117bbdee1fdfc717645416b9a47bdb9065e5bcc0cf1d4cbfdea4f4e36f01913c4e7b002c8d9cd9d8\n",
       "31fdd09d9eb24cc358248c649de2ad34372d3fbb50c88bbb0313ce4a877f191259b561d9aac5f79e8843f835b1d07\n",
       "08f09334a5722d81e67b3a34320f5530cabe2eb5dccd12e53d3dab166880fb1ffa2f084d13fb90a8d94d9683f8747\n",
       "f68f28e35240659c7079282d54e84b5356c3f9b6e14ecc4c0d6a8fa568e2e42705de3aa45f3b34b47aedd2f517a31\n",
       "e64f1470b2e88177b8a35c445510cf1742431ca55093156e355fca4edd5ed27711bc4a52c6a0dc6e51df2a989a73b\n",
       "2b3647d047cdf67763d43f9e457ceebb6b5480d0442e82312ee0d427e4a06e8aa03154d11f240ff6ec3d59db83ff0\n",
       "0ae3146772158c0047fe1c34ff15c99b1dd2d01f1aae0e94ab2712b7535531c76a0a24e33dd44c8940a09e3adcf9c\n",
       "5c442fbfa9f3d3dd820c69705acc5a0d658b41255660d458f5d75a7ca5a7ab81fb0b5f6a0f2a9ab6c5696e79c54d8\n",
       "e29efd2ec31dc8a33e124d3608a3e435084a7f71fceca01f83554f619a61434460d1a45bf110e4103c8a8cfbf74bc\n",
       "53e5990910ca7ebc846009969bc8c70cf4c22926eadfa0015f3821c581bc2ec60a4cdc5f2aa2263638b3fdc245d58\n",
       "1fd717637e1fe323de80e9e3a98e64a959172fc4042c94eb7a8cec728bfb7b67cb833a994f2a0f07e615956c3709c\n",
       "f3a50885b0c1c19cdda725c4ddec46a05ba0a2c41ee3dfa449c3e864fedcf5052f77b7646fd8db0c74c499b56c692\n",
       "b8a0a5701a6536e1719ed019c7d2280d2362390bb5523cc18f2989a3d1aef01b10449581e67d72dd1dd77e37625f5\n",
       "155f416330de522ce90c4b39c8a896a6ff9a219fcb3324a40b161356c53f09b5db13b5d77d3baae5b03790c89de04\n",
       "e960c908f315964155b64f4011ee52de429f460c5a339e5f5fc5d25bae5b511c8d71119c78fe3ebf21d09255ec282\n",
       "f98049258ea30c3947703fc43aa97558142bd97248d8b9b2f9c0c1a8f2553d01bc38bbe4dda05c991a4459ae9a5c9\n",
       "bf6d26d072c6e7bd1ca933b3b1588df543cc7987cf54fae3d3ffa05c3aacf71a0eb22471beff3b004e79b72c39f70\n",
       "4deb198e0eb763687d8735191a5c88cf39831e39e386cd68fe4abe0c5bde3501ff9917a6124ae4063ef71adafd98d\n",
       "7a1833a1fd38c4535c10a8c6833529cd8050872f27e7c3fd3ba11b2d73f466b9f40eb4d93a152c936e2732cd5255d\n",
       "196d2082b95e2f8618dd8523c42d80f43e768b4f82001c1b6ca72df355dd03bef2d789f2dfdcd1b909757d5f7ea6a\n",
       "acd718ee35a42120116034b6cf87e1c5cb1aefbce8ba0c3319ea15c90351dd601e4b9338c1baeb58f535bf6b6c83f\n",
       "c25e11a61217b88799adbf1e5a3b469c40ab8b0636e934ff6f8f1aff607e1354e7815c9c8cddef9edb35fa6c6d44b\n",
       "1218327e62c910a9ad1a3dbe9fab3e8711308e53832dc22b5ef12ddac592620763771ada8d8eb0073ca9e872383e2\n",
       "22162fe8054731b3e86e7f97db951a9030cf58226dadaa839942737cc8cf3b5c0552f9eecbefa6d9dcbde38aaf8f4\n",
       "ca008c4df492eaf4e0b431996d7f7e5b5fae517a98e1d1cee94e8e0ea9c2ba2e06d946ec80aab102e8b870a188da9\n",
       "b53fd8c09bcf3e8b3dd139b9bf8eb2b8f77e0e8083b43c45ad68db6539f2a770f43890c377e10cd8acb124b8639af\n",
       "c76b2a6725d \n",
       "</pre>\n"
      ],
      "text/plain": [
       "\u001b[1;36m Шифр \u001b[0m\u001b[1;36m1000\u001b[0m\u001b[1;36m :\u001b[0m 311cc485e25cf0be0a9a164c710e12caa87fa8cfc603b29af619a61434460d1a45bf110e4103c8a8\n",
       "90d6345e69b58d5ad92df58c3948609f91c667c97a05c1559e8dfcf6c020567aad7329172fc1b751a0e05146c9d95\n",
       "3b103c51bfedf6ca3160058d19fbb5dfac17d8600d5f887f99e525bb872add94af425696e0701623094ffaa9e2257\n",
       "ac285d73d26a7c2c8f011a8f1e068f5a21fd0e963f9637b1d0a86db25890e033aa676ac2b24a5da0785db160a69fd\n",
       "d6ac538feb293dceff32687d88aa4f3a3c517b12f647bd3198527e1f8a0f07e615956c37092b3678e0f84eda5b783\n",
       "81d4b9265c0c445083da83f6f8a2c2a0fc975dc15ef276ca5afe39dcd2ae34bb9d46720b52fcf3e54ed22d65c24a6\n",
       "ad4eebd8d5dfb4a7192bc16203a0f9ba25b31daffde7de08134935e499728fe577c966e62ee47d5b554e160f98a39\n",
       "da003452e0730a277b06735f2abadeddd0d4b803fa3ece906649ea01b61d9fadf79b9f635cda52c73735c8a07e83b\n",
       "b170a6a6154c5937a85195d48152cfb16950f7de516425e02f41118d946af2af4a96f703af31ac1b010b526a88366\n",
       "6f6a279d57ea8fc2eee95ba0a2971dd7df8b2467f355dd03bef2d7893b336c5a810c342169189464f0c04274c6040\n",
       "d1008d3c23965e5bcc0cf1d4cbf0ee96b0871eefa573515673ec509b8223de59be1537857d5ea76c70b91137939f1\n",
       "972cde1f2544480a1d39bc5e71554a07c08280d6ab24102eb796b0970550082d7e36a1adfd183cc81c6213a144034\n",
       "eb56142fbe188884f249b7ac5f9da11add74fb2ce4052c641a2622e9d33146fd786fca7b19cfbc2ee769871aba3c4\n",
       "d930ff71bb0001d0210fed44773c874959979541b48cdd2c6bfb3921e14610933d43d73e2e7be39d57e1fcb9653a1\n",
       "29bdd4d1b1f933cf4b446bb6e10508911b2a5646d4a608f2f7e05845e543ec4c5a99c14f35aac8b51ac4ad6492265\n",
       "077c3dc902ec7f0c9b3a382bdbe31814a1ad8ab6e39528d0ee57a2a23407179c9b80b0d4eb911c293b02eb9177d7e\n",
       "b0d18e017c4dd7296b1005e861377de420a34a6b65245b703dbff470e1cd38aeb0c894b7075ea1b9f8b69c514ee05\n",
       "d3b7dea8477b7546bdd9569c26f20340337a4ac099db918a0ebfe306453a83e3d8d918756230aa011905148b873c4\n",
       "84e288c5c4776913c3042c22a8486c8808c65e5bcc0cf1d4cbf28848828056289845610ef56ff2e6ab5c65664e945\n",
       "24049cc97d502fab1df8a709d40b99b1cdebdf0033b33a0fa8b59124c6d666c6829a87f0c7fb49e2eaf7ef99b4eca\n",
       "9cbab7d75d8f8486b312d9e9f73fb26a2dae81fd4a120e8420128f376002ad4fbf78ce1f983b43c45ad68db6539f2\n",
       "a770f43890c3f4c3ebb91db1aa9bae60f62e5a69ad5e89236104ff33ad181135c2b3ae61ccac092e3af3d34b20492\n",
       "55eceb36a1d3b85387f61a1fb0475b0776297e2544db6dd9722f83db5d500cea9ffd01ce276c9444369f3bd2c635f\n",
       "50c6204bcdaf8c69b8f63918bbd3b5f826be8dfe46d5102be09194920783ec24817a49c7704b4d133174f9b751154\n",
       "04920d3728b17c1c6857874cf768114958a86b52994ea3b9fe9fb37005b9d4bf971920dc57f40e14eb5a2047fb4f9\n",
       "5739c62c2926b195dc9fad06e2d77d45d2acef1126888f61b796c1062fc4f47f4c4c08f1d3728b17c1c68578932fe\n",
       "1a9dbfdee319625f2a28a633e10428f2963072224f97d8600d5f887f99ee42dbd97e77f55cba65e2323b96a325a79\n",
       "43bee79726494fd1b3ed6c8eec7c3108f897e87b4037cdea9b81acf5a658c89cf58e69873b78498e434f1f608b0d8\n",
       "8679db18499193b7a56e4b74ceb5dab41a29e034c4b709cc09efbc857823eaa6c259d1f7bc8b20bafd08c172d3d16\n",
       "80f1e7be0b1e27374aa5db58718893aa40908bcf7a6a5e8f81dbaedd03ff701922130829e91b138adf0e44e64672f\n",
       "9c0e9e019bdc832904256507e71e202203992c90434a136c20981f66009a8bcc09b7c42b804c4ebd07047c7f56dfa\n",
       "59903c10aae79c364775c72a6b64ebb3f8d6f6984026d074001e4e9dee28283e6f57c01f245bda67fe2d66f78f187\n",
       "8685b5b4b2a84117bbdee1fdfc717645416b9a47bdb9065e5bcc0cf1d4cbfdea4f4e36f01913c4e7b002c8d9cd9d8\n",
       "31fdd09d9eb24cc358248c649de2ad34372d3fbb50c88bbb0313ce4a877f191259b561d9aac5f79e8843f835b1d07\n",
       "08f09334a5722d81e67b3a34320f5530cabe2eb5dccd12e53d3dab166880fb1ffa2f084d13fb90a8d94d9683f8747\n",
       "f68f28e35240659c7079282d54e84b5356c3f9b6e14ecc4c0d6a8fa568e2e42705de3aa45f3b34b47aedd2f517a31\n",
       "e64f1470b2e88177b8a35c445510cf1742431ca55093156e355fca4edd5ed27711bc4a52c6a0dc6e51df2a989a73b\n",
       "2b3647d047cdf67763d43f9e457ceebb6b5480d0442e82312ee0d427e4a06e8aa03154d11f240ff6ec3d59db83ff0\n",
       "0ae3146772158c0047fe1c34ff15c99b1dd2d01f1aae0e94ab2712b7535531c76a0a24e33dd44c8940a09e3adcf9c\n",
       "5c442fbfa9f3d3dd820c69705acc5a0d658b41255660d458f5d75a7ca5a7ab81fb0b5f6a0f2a9ab6c5696e79c54d8\n",
       "e29efd2ec31dc8a33e124d3608a3e435084a7f71fceca01f83554f619a61434460d1a45bf110e4103c8a8cfbf74bc\n",
       "53e5990910ca7ebc846009969bc8c70cf4c22926eadfa0015f3821c581bc2ec60a4cdc5f2aa2263638b3fdc245d58\n",
       "1fd717637e1fe323de80e9e3a98e64a959172fc4042c94eb7a8cec728bfb7b67cb833a994f2a0f07e615956c3709c\n",
       "f3a50885b0c1c19cdda725c4ddec46a05ba0a2c41ee3dfa449c3e864fedcf5052f77b7646fd8db0c74c499b56c692\n",
       "b8a0a5701a6536e1719ed019c7d2280d2362390bb5523cc18f2989a3d1aef01b10449581e67d72dd1dd77e37625f5\n",
       "155f416330de522ce90c4b39c8a896a6ff9a219fcb3324a40b161356c53f09b5db13b5d77d3baae5b03790c89de04\n",
       "e960c908f315964155b64f4011ee52de429f460c5a339e5f5fc5d25bae5b511c8d71119c78fe3ebf21d09255ec282\n",
       "f98049258ea30c3947703fc43aa97558142bd97248d8b9b2f9c0c1a8f2553d01bc38bbe4dda05c991a4459ae9a5c9\n",
       "bf6d26d072c6e7bd1ca933b3b1588df543cc7987cf54fae3d3ffa05c3aacf71a0eb22471beff3b004e79b72c39f70\n",
       "4deb198e0eb763687d8735191a5c88cf39831e39e386cd68fe4abe0c5bde3501ff9917a6124ae4063ef71adafd98d\n",
       "7a1833a1fd38c4535c10a8c6833529cd8050872f27e7c3fd3ba11b2d73f466b9f40eb4d93a152c936e2732cd5255d\n",
       "196d2082b95e2f8618dd8523c42d80f43e768b4f82001c1b6ca72df355dd03bef2d789f2dfdcd1b909757d5f7ea6a\n",
       "acd718ee35a42120116034b6cf87e1c5cb1aefbce8ba0c3319ea15c90351dd601e4b9338c1baeb58f535bf6b6c83f\n",
       "c25e11a61217b88799adbf1e5a3b469c40ab8b0636e934ff6f8f1aff607e1354e7815c9c8cddef9edb35fa6c6d44b\n",
       "1218327e62c910a9ad1a3dbe9fab3e8711308e53832dc22b5ef12ddac592620763771ada8d8eb0073ca9e872383e2\n",
       "22162fe8054731b3e86e7f97db951a9030cf58226dadaa839942737cc8cf3b5c0552f9eecbefa6d9dcbde38aaf8f4\n",
       "ca008c4df492eaf4e0b431996d7f7e5b5fae517a98e1d1cee94e8e0ea9c2ba2e06d946ec80aab102e8b870a188da9\n",
       "b53fd8c09bcf3e8b3dd139b9bf8eb2b8f77e0e8083b43c45ad68db6539f2a770f43890c377e10cd8acb124b8639af\n",
       "c76b2a6725d \n"
      ]
     },
     "metadata": {},
     "output_type": "display_data"
    },
    {
     "data": {
      "text/html": [
       "<pre style=\"white-space:pre;overflow-x:auto;line-height:normal;font-family:Menlo,'DejaVu Sans Mono',consolas,'Courier New',monospace\"><span style=\"color: #008080; text-decoration-color: #008080; font-weight: bold\"> Расшифровка :</span> Современные технологии достигли такого уровня, что выбранный нами \n",
       "инновационный путь предполагает независимые способы реализации соответствующих условий \n",
       "активизации. Принимая во внимание показатели успешности, новая модель организационной \n",
       "деятельности, а также свежий взгляд на привычные вещи - безусловно открывает новые горизонты \n",
       "для укрепления моральных ценностей. Лишь сделанные на базе интернет-аналитики выводы \n",
       "неоднозначны и будут обнародованы. Ясность нашей позиции очевидна: высокотехнологичная \n",
       "концепция общественного уклада предполагает независимые способы реализации укрепления \n",
       "моральных ценностей.\n",
       "Прежде всего, курс на социально-ориентированный национальный проект, а также свежий взгляд на\n",
       "привычные вещи - безусловно открывает новые горизонты для экспериментов, поражающих по своей \n",
       "масштабности и грандиозности. С другой стороны, реализация намеченных плановых заданий \n",
       "создаёт предпосылки для вывода текущих активов. Мы вынуждены отталкиваться от того, что \n",
       "понимание сути ресурсосберегающих технологий однозначно определяет каждого участника как \n",
       "способного принимать собственные решения касаемо как самодостаточных, так и внешне зависимых \n",
       "концептуальных решений. Ясность нашей позиции очевидна: глубокий уровень погружения \n",
       "способствует повышению качества приоритизации разума над эмоциями. В частности, семантический\n",
       "разбор внешних противодействий влечет за собой процесс внедрения и модернизации поставленных \n",
       "обществом задач\n",
       " \n",
       "</pre>\n"
      ],
      "text/plain": [
       "\u001b[1;36m Расшифровка :\u001b[0m Современные технологии достигли такого уровня, что выбранный нами \n",
       "инновационный путь предполагает независимые способы реализации соответствующих условий \n",
       "активизации. Принимая во внимание показатели успешности, новая модель организационной \n",
       "деятельности, а также свежий взгляд на привычные вещи - безусловно открывает новые горизонты \n",
       "для укрепления моральных ценностей. Лишь сделанные на базе интернет-аналитики выводы \n",
       "неоднозначны и будут обнародованы. Ясность нашей позиции очевидна: высокотехнологичная \n",
       "концепция общественного уклада предполагает независимые способы реализации укрепления \n",
       "моральных ценностей.\n",
       "Прежде всего, курс на социально-ориентированный национальный проект, а также свежий взгляд на\n",
       "привычные вещи - безусловно открывает новые горизонты для экспериментов, поражающих по своей \n",
       "масштабности и грандиозности. С другой стороны, реализация намеченных плановых заданий \n",
       "создаёт предпосылки для вывода текущих активов. Мы вынуждены отталкиваться от того, что \n",
       "понимание сути ресурсосберегающих технологий однозначно определяет каждого участника как \n",
       "способного принимать собственные решения касаемо как самодостаточных, так и внешне зависимых \n",
       "концептуальных решений. Ясность нашей позиции очевидна: глубокий уровень погружения \n",
       "способствует повышению качества приоритизации разума над эмоциями. В частности, семантический\n",
       "разбор внешних противодействий влечет за собой процесс внедрения и модернизации поставленных \n",
       "обществом задач\n",
       " \n"
      ]
     },
     "metadata": {},
     "output_type": "display_data"
    }
   ],
   "source": [
    "from lib_crypto.b7.Magma_ECB import main\n",
    "main()"
   ]
  },
  {
   "cell_type": "code",
   "execution_count": 13,
   "metadata": {},
   "outputs": [
    {
     "data": {
      "text/html": [
       "<pre style=\"white-space:pre;overflow-x:auto;line-height:normal;font-family:Menlo,'DejaVu Sans Mono',consolas,'Courier New',monospace\"><span style=\"color: #000000; text-decoration-color: #000000; background-color: #ffffff; font-weight: bold\"> Тест ГОСТ гаммирование </span>\n",
       "</pre>\n"
      ],
      "text/plain": [
       "\u001b[1;30;107m Тест ГОСТ гаммирование \u001b[0m\n"
      ]
     },
     "metadata": {},
     "output_type": "display_data"
    },
    {
     "data": {
      "text/html": [
       "<pre style=\"white-space:pre;overflow-x:auto;line-height:normal;font-family:Menlo,'DejaVu Sans Mono',consolas,'Courier New',monospace\"><span style=\"color: #008080; text-decoration-color: #008080; font-weight: bold\"> Шифр :</span> 4e98110c97b7b93c3e250d93d6e85d69136d868807b2dbef568eb680ab52a12d \n",
       "</pre>\n"
      ],
      "text/plain": [
       "\u001b[1;36m Шифр :\u001b[0m 4e98110c97b7b93c3e250d93d6e85d69136d868807b2dbef568eb680ab52a12d \n"
      ]
     },
     "metadata": {},
     "output_type": "display_data"
    },
    {
     "data": {
      "text/html": [
       "<pre style=\"white-space:pre;overflow-x:auto;line-height:normal;font-family:Menlo,'DejaVu Sans Mono',consolas,'Courier New',monospace\"><span style=\"color: #008080; text-decoration-color: #008080; font-weight: bold\"> Расшифровка :</span> 92def06b3c130a59db54c704f8189d204a98fb2e67a8024c8912409b17b57e41 \n",
       "</pre>\n"
      ],
      "text/plain": [
       "\u001b[1;36m Расшифровка :\u001b[0m 92def06b3c130a59db54c704f8189d204a98fb2e67a8024c8912409b17b57e41 \n"
      ]
     },
     "metadata": {},
     "output_type": "display_data"
    },
    {
     "data": {
      "text/html": [
       "<pre style=\"white-space:pre;overflow-x:auto;line-height:normal;font-family:Menlo,'DejaVu Sans Mono',consolas,'Courier New',monospace\"><span style=\"color: #000000; text-decoration-color: #000000; background-color: #ffffff; font-weight: bold\"> Тест на </span><span style=\"color: #000000; text-decoration-color: #000000; background-color: #ffffff; font-weight: bold\">1000</span><span style=\"color: #000000; text-decoration-color: #000000; background-color: #ffffff; font-weight: bold\"> </span>\n",
       "</pre>\n"
      ],
      "text/plain": [
       "\u001b[1;30;107m Тест на \u001b[0m\u001b[1;30;107m1000\u001b[0m\u001b[1;30;107m \u001b[0m\n"
      ]
     },
     "metadata": {},
     "output_type": "display_data"
    },
    {
     "data": {
      "text/html": [
       "<pre style=\"white-space:pre;overflow-x:auto;line-height:normal;font-family:Menlo,'DejaVu Sans Mono',consolas,'Courier New',monospace\"><span style=\"color: #008080; text-decoration-color: #008080; font-weight: bold\"> Шифр </span><span style=\"color: #008080; text-decoration-color: #008080; font-weight: bold\">1000</span><span style=\"color: #008080; text-decoration-color: #008080; font-weight: bold\"> :</span> 0ce731d97b1662e535c41a2bfe4510f48948ac2db0aff9725d4c43ca393762bcbd93be8ef96380d6\n",
       "4a1c34a592431fd3326a040e1cf6850fba8a87e1ffa834889a0826ac556cffb1ed097c743de8ee99d3565eb407549\n",
       "ba00838f19a1f67875197105f8f9672e2458f741150c871411459366d5b058e759a024fb867c6f1dda388c4b010ca\n",
       "707012cfbb4c614697eaa6fbddc0c875eb309aebd35ae96844f7099f7c970c55cd08ca547df701ff4eba613280b26\n",
       "d731810396e657f56c4f9490a1d80ba8e0c653a0a60744d81bf2a820e0be0de473ed6559f1232e37ba19bb4d58d27\n",
       "8592d08609b054e651924b7f4256ab6ca9e79ade7fbb19ff9e65ba500e1329a251581601a895adc9d3f2ecfde4c7a\n",
       "b3d8615889792d23ec3a8c9dbc6954ac1462ac1e5a77bf6f50dd754d1e2fcdb3170dd447f9632bab8c4c986e41f0a\n",
       "c5e92a1f3906f95a96a92fe5928546b846b8b595dd792a7e24e1abbc681ef8f8ff0d2b6344eda45eadddb5174f406\n",
       "539b1fb044f7ee16c8b10c475fe5589d3b45e1dcb6b18808df4de6821c95d7a800aa25e4e421f2969df7ee6198da3\n",
       "fc3af4d937bc700adb30fb3d7b2300e3082fcc52b4b44ce323a57d109cae64fbf23126f5e68a1f2c83caaf3cbfef4\n",
       "b063f85ce722de1403a15582d169d46ca1e17d2036c4d567f4646f8cabb7021d325eea759605ffc0c1805c483d8a7\n",
       "30d35984bb50327c1bcbe215a9945bb0349da4f0a863993623402bb9d0538a74428e963cc9c55106ccb0b00bd714c\n",
       "e32b202e78dc0b89a77e934268c1436d0cdc1706a8e83d7ff8ebadccf4a7b7294ea61a01ffc74474ead50695f51e8\n",
       "985389a6464dfa0bf60f6fdd36d2df8644030229269a50faf1141fdf70f4a43135ba818fd7598806543896dad1b22\n",
       "0eabc2d4f48016dc71cb63fa4e9dcc8c2fa1f14eea045621470e16f21553d03f73f5f1b2fcb5a5a6fd083e382898b\n",
       "d4a502d11fe34e761a2e327da9d84b1b39c62eb45d1c9a5ecd58d2fcbe2950b32d8183d08f3f9190b4b9da99702e7\n",
       "911bf6d5f62b27f7380498e630a9c1a51f2c4daecf13128764cd5bdb45e6599b75017b873dd12c0544203db3de099\n",
       "ea264afaa90b3cb722e4d0f3810ecbfd7bc6f23a9aec783a16054c41b447be048b384bf3d7822be1c0a94580b031a\n",
       "4bd2721c11ace976ee71c788e1773474f3bfb2e38b1817f975912f398bc893feb756cb256f8ab2680aa1229d758c0\n",
       "78bb89636974e0b54246266c389e83de363f9d3531c0be31cdbcf44e13a2a34bc0a2fbeb90f9fbb6f2600d2982d90\n",
       "76196957c811a130aeaac53f78903e8b24d81222de5da2ea12e0728420a78eba444662e97c53bc24a150dd77528d9\n",
       "7fc8737085dd225d250860b2df21e431c69059eba2d852fab3945a0db0cab94eeb55ca8a57759731ff74765960fb6\n",
       "dbb41a17de13e036e95109ff1fbac427dc267775538d7f5473a849af566ffba2ed10884ab583fd2df10fda29b50a1\n",
       "ee63d8fd1fa5ff9777a7551d4ead54525fed02631f67139c84204e6a90fde38ee559b3e15266d591f4081006af493\n",
       "94083ef0aa54a686e7220a424e8a974fc637877d31346547b8e7405dba07972d8e8bb03d4a1b423db5d24f0b9f135\n",
       "6a9dafb11256ae15dcea1e8605d3180c24dac123e1c64d38ad22d7f46bfed0022c87aea0efcfbbe057a1a5fa178d3\n",
       "362c97b79f0ece66476a3557ac7720b1e2bbed29f73917230fa9c798a7e7376dbbbd7fb3b89dfd8c4cbbb4e58e675\n",
       "d159085f92be1e867449e64585c8637c808eb1b5d1d3b684455d2ca077a2d596edaadc56a19f315853854f208c7cd\n",
       "eeb9cf0d7b2c3be59a6f3dcf79ac7d88482c95b54f79bc80914d4f850bb5c07385a64b22f1ef8e4ffa2b22eaafd98\n",
       "65ba5be457bbc2e2ff10f9d342def5bfa51871f9a768395a8ff9be30eaa6e5e0a673fedfe626dc40aae5bcd2d2728\n",
       "7c2f94edc5af90641d3b82c0abc449e4ca30929439f5fb16c57bf2305193a2bb68947b359a1fa8f50d4a4eda02856\n",
       "676bcb762f00fd686f0999a4d4ee12852a83da376532ed2eab0120c912e8bbf70e68743fd20d319d0fe641f102863\n",
       "32ca52c206dc779d5fd5b76b04f7afd8bd3b0d0de23601012c188ee19ccd33e255bbbc64873bd388804b41ccc39a4\n",
       "41477b86a47d022395963e01eb44f5aedc4d6b4e32af1b0282b7cff3aaa04785234fd460d24239b892b90b3f4fd89\n",
       "23f10c993958a41d7cc48f9ffc061d1782da7f52e5923e3960fbbbdab54c3c42f3bfeef3fbeeede984b6685c51afe\n",
       "0f99fc98b2bfb41bdfa32cb439ed696edac45293c8fd1f77206a7c7d1ba8da9af2c61859585eccb179c663e4fcbd7\n",
       "7c271a17909a4d79a1b97d066084f9fc69724db740779339e60b3534e978b1b006e33dec82643acfeca2638003a2c\n",
       "98bfa6c2b8d66b41d8cab195ae3b8251b3d95eb7d525339a0c0023c35510827b085b02f3cabf45f830354cab8f69f\n",
       "8b6d65b373e541f63caf38ffc15af9d52fc1f57ada31dcf885d166669ceae0dd8963a918a87b63002c5483fd1804f\n",
       "2ae3d698f02ee8cc761ca4bdfdff6dfd68ced5ffb8d8445c19dc375621ab65de8d11b3cc1480b1fb30609d5ae6d10\n",
       "a9438f2b7c37c9691c3db7760a98033e4a4088225b4278db7bcbf5af09c440cb9c92bd7e65def08956a1cef864c08\n",
       "bd71c2a72e5e906ffd9e1cec364267dded092906616fc213704eb0e8220cabdeb2dc3f7a3eb8120fa810f355b88aa\n",
       "c7c9d3b7bf1dd4023f54733499e6a04b52762ff3ba284846c3a857b2026c1547dc688cc3e7fbc17b8767f7d498d9b\n",
       "ad2333ff610507412871289d9da07380cc6889088d9be3004b1ab5649b390ad96a5d9cb89d4d3a61fcd7b8eaadb13\n",
       "de26c53236064018e5a4713085acad534cbf8736431127011f8919f9b69dc1098073cc915a3f51ccff39ee3b2ba36\n",
       "0260f7ff11a2f1a43be477d79658bced79b913d0f98415c6bf54655c556de64874d416b8911e5d65bead77fb32784\n",
       "c89a088d3cef475c94c6087e074a6e077e400d131be990a6b6e3d6cb7412419e7d0b463bec6dd108262b30539fdc3\n",
       "34725d95940650aab90a464b53479a05cdde268c02d895ccf578beedac4d843ad1c5f71f0d1f7dc8c8b617792a1cb\n",
       "ee7f030889d410ff6d0454a3f1b8f45818703c9adf0c6747d43f0ff3a37f32485148fec719a0277846cc517b80389\n",
       "4538ff8cc6e7cdd1c13d6edf358620aaa40c35adc9fcc21e593d258c57d368dd646646c76df502a23516143642dcd\n",
       "cc3896de2944526464bf7ec5f8a6e6f71067ed84e5a916aa8b65566b3a63782ad162d6e91ccae7b40b9709df7a430\n",
       "d8dc6cfb829a1a6d1b67eef8211ce08ca75aadd2103ca17cd41f6938d756a276067f3db0c23af350d7cc5c6b43819\n",
       "ce1a9bcf7f09a423c7de0f23193304e2b0783e7fd7981b0bdfef72e731b6bdd5127527c9e30d700821af38c5a03a0\n",
       "fd70e9e48f457d9a0e9c53b42e7a144661f12aefca2d70e5a8860f8fb5e98455663520bbba4403587637d29aa7ead\n",
       "fde1c8b048f528118520b0d1dddfb4d9df9b79b9733c2563d0447261b03eb170295a94169c6ca7b861b2730d9c9b6\n",
       "abe6301bbb60450214138fc01742a5330ef7d96b6878a48d373db357e63404505a30814c3e739527c49203169b601\n",
       "dc4b8b590a98783964ac1859924cbbc2968bfb182420d2252030070ae298f712cec64695e7af803b9e32c70d22a73\n",
       "730ec24c455fd7b4142355879be772a441a612dee703ad53e3d161b3b9d4059c8f6181ffeb2e2e67dc781163985ea\n",
       "2a4806dca \n",
       "</pre>\n"
      ],
      "text/plain": [
       "\u001b[1;36m Шифр \u001b[0m\u001b[1;36m1000\u001b[0m\u001b[1;36m :\u001b[0m 0ce731d97b1662e535c41a2bfe4510f48948ac2db0aff9725d4c43ca393762bcbd93be8ef96380d6\n",
       "4a1c34a592431fd3326a040e1cf6850fba8a87e1ffa834889a0826ac556cffb1ed097c743de8ee99d3565eb407549\n",
       "ba00838f19a1f67875197105f8f9672e2458f741150c871411459366d5b058e759a024fb867c6f1dda388c4b010ca\n",
       "707012cfbb4c614697eaa6fbddc0c875eb309aebd35ae96844f7099f7c970c55cd08ca547df701ff4eba613280b26\n",
       "d731810396e657f56c4f9490a1d80ba8e0c653a0a60744d81bf2a820e0be0de473ed6559f1232e37ba19bb4d58d27\n",
       "8592d08609b054e651924b7f4256ab6ca9e79ade7fbb19ff9e65ba500e1329a251581601a895adc9d3f2ecfde4c7a\n",
       "b3d8615889792d23ec3a8c9dbc6954ac1462ac1e5a77bf6f50dd754d1e2fcdb3170dd447f9632bab8c4c986e41f0a\n",
       "c5e92a1f3906f95a96a92fe5928546b846b8b595dd792a7e24e1abbc681ef8f8ff0d2b6344eda45eadddb5174f406\n",
       "539b1fb044f7ee16c8b10c475fe5589d3b45e1dcb6b18808df4de6821c95d7a800aa25e4e421f2969df7ee6198da3\n",
       "fc3af4d937bc700adb30fb3d7b2300e3082fcc52b4b44ce323a57d109cae64fbf23126f5e68a1f2c83caaf3cbfef4\n",
       "b063f85ce722de1403a15582d169d46ca1e17d2036c4d567f4646f8cabb7021d325eea759605ffc0c1805c483d8a7\n",
       "30d35984bb50327c1bcbe215a9945bb0349da4f0a863993623402bb9d0538a74428e963cc9c55106ccb0b00bd714c\n",
       "e32b202e78dc0b89a77e934268c1436d0cdc1706a8e83d7ff8ebadccf4a7b7294ea61a01ffc74474ead50695f51e8\n",
       "985389a6464dfa0bf60f6fdd36d2df8644030229269a50faf1141fdf70f4a43135ba818fd7598806543896dad1b22\n",
       "0eabc2d4f48016dc71cb63fa4e9dcc8c2fa1f14eea045621470e16f21553d03f73f5f1b2fcb5a5a6fd083e382898b\n",
       "d4a502d11fe34e761a2e327da9d84b1b39c62eb45d1c9a5ecd58d2fcbe2950b32d8183d08f3f9190b4b9da99702e7\n",
       "911bf6d5f62b27f7380498e630a9c1a51f2c4daecf13128764cd5bdb45e6599b75017b873dd12c0544203db3de099\n",
       "ea264afaa90b3cb722e4d0f3810ecbfd7bc6f23a9aec783a16054c41b447be048b384bf3d7822be1c0a94580b031a\n",
       "4bd2721c11ace976ee71c788e1773474f3bfb2e38b1817f975912f398bc893feb756cb256f8ab2680aa1229d758c0\n",
       "78bb89636974e0b54246266c389e83de363f9d3531c0be31cdbcf44e13a2a34bc0a2fbeb90f9fbb6f2600d2982d90\n",
       "76196957c811a130aeaac53f78903e8b24d81222de5da2ea12e0728420a78eba444662e97c53bc24a150dd77528d9\n",
       "7fc8737085dd225d250860b2df21e431c69059eba2d852fab3945a0db0cab94eeb55ca8a57759731ff74765960fb6\n",
       "dbb41a17de13e036e95109ff1fbac427dc267775538d7f5473a849af566ffba2ed10884ab583fd2df10fda29b50a1\n",
       "ee63d8fd1fa5ff9777a7551d4ead54525fed02631f67139c84204e6a90fde38ee559b3e15266d591f4081006af493\n",
       "94083ef0aa54a686e7220a424e8a974fc637877d31346547b8e7405dba07972d8e8bb03d4a1b423db5d24f0b9f135\n",
       "6a9dafb11256ae15dcea1e8605d3180c24dac123e1c64d38ad22d7f46bfed0022c87aea0efcfbbe057a1a5fa178d3\n",
       "362c97b79f0ece66476a3557ac7720b1e2bbed29f73917230fa9c798a7e7376dbbbd7fb3b89dfd8c4cbbb4e58e675\n",
       "d159085f92be1e867449e64585c8637c808eb1b5d1d3b684455d2ca077a2d596edaadc56a19f315853854f208c7cd\n",
       "eeb9cf0d7b2c3be59a6f3dcf79ac7d88482c95b54f79bc80914d4f850bb5c07385a64b22f1ef8e4ffa2b22eaafd98\n",
       "65ba5be457bbc2e2ff10f9d342def5bfa51871f9a768395a8ff9be30eaa6e5e0a673fedfe626dc40aae5bcd2d2728\n",
       "7c2f94edc5af90641d3b82c0abc449e4ca30929439f5fb16c57bf2305193a2bb68947b359a1fa8f50d4a4eda02856\n",
       "676bcb762f00fd686f0999a4d4ee12852a83da376532ed2eab0120c912e8bbf70e68743fd20d319d0fe641f102863\n",
       "32ca52c206dc779d5fd5b76b04f7afd8bd3b0d0de23601012c188ee19ccd33e255bbbc64873bd388804b41ccc39a4\n",
       "41477b86a47d022395963e01eb44f5aedc4d6b4e32af1b0282b7cff3aaa04785234fd460d24239b892b90b3f4fd89\n",
       "23f10c993958a41d7cc48f9ffc061d1782da7f52e5923e3960fbbbdab54c3c42f3bfeef3fbeeede984b6685c51afe\n",
       "0f99fc98b2bfb41bdfa32cb439ed696edac45293c8fd1f77206a7c7d1ba8da9af2c61859585eccb179c663e4fcbd7\n",
       "7c271a17909a4d79a1b97d066084f9fc69724db740779339e60b3534e978b1b006e33dec82643acfeca2638003a2c\n",
       "98bfa6c2b8d66b41d8cab195ae3b8251b3d95eb7d525339a0c0023c35510827b085b02f3cabf45f830354cab8f69f\n",
       "8b6d65b373e541f63caf38ffc15af9d52fc1f57ada31dcf885d166669ceae0dd8963a918a87b63002c5483fd1804f\n",
       "2ae3d698f02ee8cc761ca4bdfdff6dfd68ced5ffb8d8445c19dc375621ab65de8d11b3cc1480b1fb30609d5ae6d10\n",
       "a9438f2b7c37c9691c3db7760a98033e4a4088225b4278db7bcbf5af09c440cb9c92bd7e65def08956a1cef864c08\n",
       "bd71c2a72e5e906ffd9e1cec364267dded092906616fc213704eb0e8220cabdeb2dc3f7a3eb8120fa810f355b88aa\n",
       "c7c9d3b7bf1dd4023f54733499e6a04b52762ff3ba284846c3a857b2026c1547dc688cc3e7fbc17b8767f7d498d9b\n",
       "ad2333ff610507412871289d9da07380cc6889088d9be3004b1ab5649b390ad96a5d9cb89d4d3a61fcd7b8eaadb13\n",
       "de26c53236064018e5a4713085acad534cbf8736431127011f8919f9b69dc1098073cc915a3f51ccff39ee3b2ba36\n",
       "0260f7ff11a2f1a43be477d79658bced79b913d0f98415c6bf54655c556de64874d416b8911e5d65bead77fb32784\n",
       "c89a088d3cef475c94c6087e074a6e077e400d131be990a6b6e3d6cb7412419e7d0b463bec6dd108262b30539fdc3\n",
       "34725d95940650aab90a464b53479a05cdde268c02d895ccf578beedac4d843ad1c5f71f0d1f7dc8c8b617792a1cb\n",
       "ee7f030889d410ff6d0454a3f1b8f45818703c9adf0c6747d43f0ff3a37f32485148fec719a0277846cc517b80389\n",
       "4538ff8cc6e7cdd1c13d6edf358620aaa40c35adc9fcc21e593d258c57d368dd646646c76df502a23516143642dcd\n",
       "cc3896de2944526464bf7ec5f8a6e6f71067ed84e5a916aa8b65566b3a63782ad162d6e91ccae7b40b9709df7a430\n",
       "d8dc6cfb829a1a6d1b67eef8211ce08ca75aadd2103ca17cd41f6938d756a276067f3db0c23af350d7cc5c6b43819\n",
       "ce1a9bcf7f09a423c7de0f23193304e2b0783e7fd7981b0bdfef72e731b6bdd5127527c9e30d700821af38c5a03a0\n",
       "fd70e9e48f457d9a0e9c53b42e7a144661f12aefca2d70e5a8860f8fb5e98455663520bbba4403587637d29aa7ead\n",
       "fde1c8b048f528118520b0d1dddfb4d9df9b79b9733c2563d0447261b03eb170295a94169c6ca7b861b2730d9c9b6\n",
       "abe6301bbb60450214138fc01742a5330ef7d96b6878a48d373db357e63404505a30814c3e739527c49203169b601\n",
       "dc4b8b590a98783964ac1859924cbbc2968bfb182420d2252030070ae298f712cec64695e7af803b9e32c70d22a73\n",
       "730ec24c455fd7b4142355879be772a441a612dee703ad53e3d161b3b9d4059c8f6181ffeb2e2e67dc781163985ea\n",
       "2a4806dca \n"
      ]
     },
     "metadata": {},
     "output_type": "display_data"
    },
    {
     "data": {
      "text/html": [
       "<pre style=\"white-space:pre;overflow-x:auto;line-height:normal;font-family:Menlo,'DejaVu Sans Mono',consolas,'Courier New',monospace\"><span style=\"color: #008080; text-decoration-color: #008080; font-weight: bold\"> Расшифровка :</span> Современные технологии достигли такого уровня, что выбранный нами \n",
       "инновационный путь предполагает независимые способы реализации соответствующих условий \n",
       "активизации. Принимая во внимание показатели успешности, новая модель организационной \n",
       "деятельности, а также свежий взгляд на привычные вещи - безусловно открывает новые горизонты \n",
       "для укрепления моральных ценностей. Лишь сделанные на базе интернет-аналитики выводы \n",
       "неоднозначны и будут обнародованы. Ясность нашей позиции очевидна: высокотехнологичная \n",
       "концепция общественного уклада предполагает независимые способы реализации укрепления \n",
       "моральных ценностей.\n",
       "Прежде всего, курс на социально-ориентированный национальный проект, а также свежий взгляд на\n",
       "привычные вещи - безусловно открывает новые горизонты для экспериментов, поражающих по своей \n",
       "масштабности и грандиозности. С другой стороны, реализация намеченных плановых заданий \n",
       "создаёт предпосылки для вывода текущих активов. Мы вынуждены отталкиваться от того, что \n",
       "понимание сути ресурсосберегающих технологий однозначно определяет каждого участника как \n",
       "способного принимать собственные решения касаемо как самодостаточных, так и внешне зависимых \n",
       "концептуальных решений. Ясность нашей позиции очевидна: глубокий уровень погружения \n",
       "способствует повышению качества приоритизации разума над эмоциями. В частности, семантический\n",
       "разбор внешних противодействий влечет за собой процесс внедрения и модернизации поставленных \n",
       "обществом задач\n",
       " \n",
       "</pre>\n"
      ],
      "text/plain": [
       "\u001b[1;36m Расшифровка :\u001b[0m Современные технологии достигли такого уровня, что выбранный нами \n",
       "инновационный путь предполагает независимые способы реализации соответствующих условий \n",
       "активизации. Принимая во внимание показатели успешности, новая модель организационной \n",
       "деятельности, а также свежий взгляд на привычные вещи - безусловно открывает новые горизонты \n",
       "для укрепления моральных ценностей. Лишь сделанные на базе интернет-аналитики выводы \n",
       "неоднозначны и будут обнародованы. Ясность нашей позиции очевидна: высокотехнологичная \n",
       "концепция общественного уклада предполагает независимые способы реализации укрепления \n",
       "моральных ценностей.\n",
       "Прежде всего, курс на социально-ориентированный национальный проект, а также свежий взгляд на\n",
       "привычные вещи - безусловно открывает новые горизонты для экспериментов, поражающих по своей \n",
       "масштабности и грандиозности. С другой стороны, реализация намеченных плановых заданий \n",
       "создаёт предпосылки для вывода текущих активов. Мы вынуждены отталкиваться от того, что \n",
       "понимание сути ресурсосберегающих технологий однозначно определяет каждого участника как \n",
       "способного принимать собственные решения касаемо как самодостаточных, так и внешне зависимых \n",
       "концептуальных решений. Ясность нашей позиции очевидна: глубокий уровень погружения \n",
       "способствует повышению качества приоритизации разума над эмоциями. В частности, семантический\n",
       "разбор внешних противодействий влечет за собой процесс внедрения и модернизации поставленных \n",
       "обществом задач\n",
       " \n"
      ]
     },
     "metadata": {},
     "output_type": "display_data"
    }
   ],
   "source": [
    "from lib_crypto.b7.Magma_CTR import main\n",
    "main()"
   ]
  }
 ],
 "metadata": {
  "interpreter": {
   "hash": "de9d6d611b58e56d80ebb10caa04eac0b07151589a55d916166b9d3e9db69c15"
  },
  "kernelspec": {
   "display_name": "Python 3.8.7 64-bit ('env': venv)",
   "language": "python",
   "name": "python3"
  },
  "language_info": {
   "codemirror_mode": {
    "name": "ipython",
    "version": 3
   },
   "file_extension": ".py",
   "mimetype": "text/x-python",
   "name": "python",
   "nbconvert_exporter": "python",
   "pygments_lexer": "ipython3",
   "version": "3.8.7"
  },
  "orig_nbformat": 4
 },
 "nbformat": 4,
 "nbformat_minor": 2
}
